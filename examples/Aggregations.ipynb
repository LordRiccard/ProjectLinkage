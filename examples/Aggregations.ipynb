{
 "cells": [
  {
   "cell_type": "markdown",
   "metadata": {},
   "source": [
    "## Libraries used in this section"
   ]
  },
  {
   "cell_type": "code",
   "execution_count": null,
   "metadata": {},
   "outputs": [],
   "source": [
    "import pandas as pd\n",
    "import glob"
   ]
  },
  {
   "cell_type": "markdown",
   "metadata": {},
   "source": [
    "---"
   ]
  },
  {
   "cell_type": "markdown",
   "metadata": {},
   "source": [
    "## União DO e SINASC"
   ]
  },
  {
   "cell_type": "markdown",
   "metadata": {},
   "source": [
    "The files are separated in states and years, the purpose of this part is to unite by years, going from 27x11 files to only 11 at the end."
   ]
  },
  {
   "cell_type": "code",
   "execution_count": null,
   "metadata": {},
   "outputs": [],
   "source": [
    "for i in range(12, 23):\n",
    "    files = glob.glob(f'input/DO*{i}.csv')\n",
    "    \n",
    "    result = pd.DataFrame()\n",
    "    for item in files:\n",
    "        df = pd.read_csv(item)\n",
    "        result = pd.concat([result, df], axis=0)\n",
    "\n",
    "    result.to_csv(f'output/DO{i}.csv', index=False)"
   ]
  },
  {
   "cell_type": "code",
   "execution_count": null,
   "metadata": {},
   "outputs": [],
   "source": [
    "for i in range(12, 23):\n",
    "    files = glob.glob(f'input/DN*{i}.csv')\n",
    "    \n",
    "    result = pd.DataFrame()\n",
    "    for item in files:\n",
    "        df = pd.read_csv(item)\n",
    "        result = pd.concat([result, df], axis=0)\n",
    "\n",
    "    result.to_csv(f'output/DN{i}.csv', index=False)"
   ]
  },
  {
   "cell_type": "markdown",
   "metadata": {},
   "source": [
    "---"
   ]
  },
  {
   "cell_type": "markdown",
   "metadata": {},
   "source": [
    "## Final aggregations"
   ]
  },
  {
   "cell_type": "markdown",
   "metadata": {},
   "source": [
    "The need to have a single file for SIM and SINASC appeared after some tests of linkage. To make it possible, it was applied the conversion to parquet and the optimization of dtypes. This can be seen in the ``sinasc_fa.ipynb`` file inside the ``5. final aggregation`` folder"
   ]
  }
 ],
 "metadata": {
  "language_info": {
   "name": "python"
  }
 },
 "nbformat": 4,
 "nbformat_minor": 2
}
