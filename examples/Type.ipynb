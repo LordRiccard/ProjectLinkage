{
 "cells": [
  {
   "cell_type": "markdown",
   "metadata": {},
   "source": [
    "## Libraries used in this section"
   ]
  },
  {
   "cell_type": "code",
   "execution_count": null,
   "metadata": {},
   "outputs": [],
   "source": [
    "import pandas as pd"
   ]
  },
  {
   "cell_type": "markdown",
   "metadata": {},
   "source": [
    "---"
   ]
  },
  {
   "cell_type": "markdown",
   "metadata": {},
   "source": [
    "## Typing"
   ]
  },
  {
   "cell_type": "markdown",
   "metadata": {},
   "source": [
    "Large dataframes often have large amounts of ram memory to be stored. Aside from alternatives like the Dask library, and others similar, the only way to optimaze the need for ram without changing any value is to change the dtype of columns. Some key points:\n",
    "\n",
    "- Pandas has default types: int64, float64 and object, and apply thoses to .csv files\n",
    "- If you want to change the dtype and have it saved in a file, you need to use other extension, like parquet or feather\n",
    "- Pandas provides a wide range of dtypes, category is a great example, that can help greatly reduce the ram needed\n",
    "\n",
    "This function tries to optimaze by trying other dtypes"
   ]
  },
  {
   "cell_type": "code",
   "execution_count": null,
   "metadata": {},
   "outputs": [],
   "source": [
    "def type_test(df):\n",
    "    for col in df.columns:\n",
    "        menor_tipo = df[col].dtype\n",
    "        menor_memo = df[col].memory_usage()\n",
    "\n",
    "        # int \n",
    "        if df[col].isna().sum() == 0:\n",
    "            try:\n",
    "                aux = pd.to_numeric(df[col], downcast='integer')\n",
    "\n",
    "                a = aux.memory_usage()\n",
    "\n",
    "                if menor_memo > a:\n",
    "                    menor_tipo = aux.dtype\n",
    "                    menor_memo = a\n",
    "            except ValueError:\n",
    "                print(f'Coluna {col} - int value error')\n",
    "\n",
    "        # cat\n",
    "        try: \n",
    "            aux = df[col].astype(\"category\")\n",
    "\n",
    "            a = aux.memory_usage()\n",
    "\n",
    "            if menor_memo > a:\n",
    "                menor_tipo = aux.dtype\n",
    "                menor_memo = a\n",
    "        except ValueError:\n",
    "            print(f'Coluna {col} - cal value error')\n",
    "\n",
    "        # float\n",
    "        try:\n",
    "            aux = pd.to_numeric(df[col], downcast='float')\n",
    "\n",
    "            a = aux.memory_usage()\n",
    "\n",
    "            if menor_memo > a:\n",
    "                menor_tipo = aux.dtype\n",
    "                menor_memo = a\n",
    "        except ValueError:\n",
    "            print(f'Coluna {col} - float value error')\n",
    "\n",
    "        df[col] = df[col].astype(menor_tipo)\n",
    "        "
   ]
  },
  {
   "cell_type": "markdown",
   "metadata": {},
   "source": [
    "> Important information about the ``category`` dtype. It can only be saved in a file (no matter the extention), if the column is first converted to string. It happens because of pandas' default dtypes, ex. since the column has values similar to ``John``, and not ``'John'``, it assumes it is an object"
   ]
  }
 ],
 "metadata": {
  "language_info": {
   "name": "python"
  }
 },
 "nbformat": 4,
 "nbformat_minor": 2
}
