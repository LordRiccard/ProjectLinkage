{
 "cells": [
  {
   "cell_type": "markdown",
   "metadata": {},
   "source": [
    "## Libraries used in this section"
   ]
  },
  {
   "cell_type": "code",
   "execution_count": null,
   "metadata": {
    "vscode": {
     "languageId": "plaintext"
    }
   },
   "outputs": [],
   "source": [
    "import pandas as pd"
   ]
  },
  {
   "cell_type": "markdown",
   "metadata": {},
   "source": [
    "---\n",
    "## Data Filter\n",
    "Due to the large amount of files, 11x27 files for SIM and SINASC each and 11x27x12 for SIHSUS, and the large in memory space needed to house all this data. \n",
    "\n",
    "It was necessary to filter both SIM and SIHSUS"
   ]
  },
  {
   "cell_type": "markdown",
   "metadata": {},
   "source": [
    "### SIM\n",
    "This system houses the information about every reported death in Brazil, but we only need the ones from individuals less than 1 year old"
   ]
  },
  {
   "cell_type": "code",
   "execution_count": null,
   "metadata": {},
   "outputs": [],
   "source": [
    "files = glob.glob(f'input/*.csv')\n",
    "\n",
    "for i in files:\n",
    "    df = pd.read_csv(i)\n",
    "\n",
    "    df['IDADE'] = df['IDADE'].astype(str)\n",
    "    df[df['IDADE'].apply(lambda x : x[0] in ['1','2','3'])]\n",
    "    df['IDADE'] = df['IDADE'].astype(int)\n",
    "\n",
    "    df.to_csv(f'output/{i[6:]}', index=False)"
   ]
  },
  {
   "cell_type": "markdown",
   "metadata": {},
   "source": [
    "### SIHSUS\n",
    "This is where the information about hospitalization is housed, and features a wide range of data. Before the filter, all the files together had the size of 80 GB.\n",
    "\n",
    "The problem rises from the fact that there aren't clear variables that indicate if the person got hospitalized due to prenatal or child birth reasons, so it was choose to filter by gender, which is sub optimal."
   ]
  },
  {
   "cell_type": "code",
   "execution_count": null,
   "metadata": {},
   "outputs": [],
   "source": [
    "files = glob.glob(f'input/*.csv')\n",
    "\n",
    "for item in files:\n",
    "    df = pd.read_csv(item)\n",
    "    aux = df.loc[df['SEXO'] == 3]\n",
    "\n",
    "    aux.to_csv('output/' + item[6:], index=False)"
   ]
  }
 ],
 "metadata": {
  "language_info": {
   "name": "python"
  }
 },
 "nbformat": 4,
 "nbformat_minor": 2
}
