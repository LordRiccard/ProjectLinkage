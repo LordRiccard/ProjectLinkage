{
 "cells": [
  {
   "cell_type": "markdown",
   "metadata": {},
   "source": [
    "## Libraries"
   ]
  },
  {
   "cell_type": "code",
   "execution_count": null,
   "metadata": {},
   "outputs": [],
   "source": [
    "import pandas as pd\n",
    "import glob"
   ]
  },
  {
   "cell_type": "markdown",
   "metadata": {},
   "source": [
    "---"
   ]
  },
  {
   "cell_type": "markdown",
   "metadata": {},
   "source": [
    "## ANSI Encoding Error"
   ]
  },
  {
   "cell_type": "markdown",
   "metadata": {},
   "source": [
    "Some datasus files have encoding different from UTC-8, this function fixes that and unite files from same year"
   ]
  },
  {
   "cell_type": "code",
   "execution_count": null,
   "metadata": {},
   "outputs": [],
   "source": [
    "def ansiFix(path, pattern, outputPath):\n",
    "    files = glob.glob(f'{path}/{pattern}')\n",
    "\n",
    "    aux = pd.DataFrame()\n",
    "\n",
    "    for item in files:\n",
    "        try:\n",
    "            df = pd.read_csv(item)\n",
    "        except UnicodeDecodeError:\n",
    "            df = pd.read_csv(item, encoding='ANSI')\n",
    "\n",
    "        aux = pd.concat([aux, df], axis=0)\n",
    "\n",
    "    aux = aux.drop_duplicates()\n",
    "    \n",
    "    aux.to_csv(outputPath, index=False)"
   ]
  },
  {
   "cell_type": "markdown",
   "metadata": {},
   "source": [
    "Example use:"
   ]
  },
  {
   "cell_type": "code",
   "execution_count": null,
   "metadata": {},
   "outputs": [],
   "source": [
    "path = 'input'\n",
    "for i in range(12, 23):\n",
    "    pattern = f'\\\\*20{i}.csv'\n",
    "    outputPath = f'output\\\\DO20{i}.csv'\n",
    "\n",
    "    ansiFix(path, pattern, outputPath)"
   ]
  },
  {
   "cell_type": "markdown",
   "metadata": {},
   "source": [
    "---"
   ]
  },
  {
   "cell_type": "markdown",
   "metadata": {},
   "source": [
    "## Double Header Error"
   ]
  },
  {
   "cell_type": "markdown",
   "metadata": {},
   "source": [
    "Some files also had an error, the N first lines were copied again on the same file, which I'm calling the Double Header Error. This function should be able to fix it.\n",
    "\n",
    "> Warning: The function won't fix the error if the copied lines have different type. Ex. '1' and '1.0', '1' and '\"1\"' etc."
   ]
  },
  {
   "cell_type": "code",
   "execution_count": null,
   "metadata": {},
   "outputs": [],
   "source": [
    "def dhError(path, pattern, outputPath):\n",
    "    files = glob.glob(f'{path}/{pattern}')\n",
    "\n",
    "    for item in files:\n",
    "        df = pd.read_csv(item)\n",
    "\n",
    "        for coluna in df.columns:\n",
    "            df.drop(df.loc[df[coluna] == coluna].index, inplace=True)\n",
    "\n",
    "        df = df.drop_duplicates()\n",
    "        \n",
    "        df.to_csv(outputPath, index=False)"
   ]
  },
  {
   "cell_type": "markdown",
   "metadata": {},
   "source": [
    "> Note about the Warning:\n",
    "The files actually had different types between copy and copied, so this function was only able to remove the double header"
   ]
  },
  {
   "cell_type": "markdown",
   "metadata": {},
   "source": [
    "Example use:"
   ]
  },
  {
   "cell_type": "code",
   "execution_count": null,
   "metadata": {},
   "outputs": [],
   "source": [
    "path = 'input'\n",
    "pattern = f'\\\\*.csv'\n",
    "outputPath = f'output\\\\*.csv'\n",
    "\n",
    "dhError(path, pattern, outputPath)"
   ]
  }
 ],
 "metadata": {
  "language_info": {
   "name": "python"
  }
 },
 "nbformat": 4,
 "nbformat_minor": 2
}
