{
 "cells": [
  {
   "cell_type": "markdown",
   "metadata": {},
   "source": [
    "> This is the notebook that helped me understand why not to use .csv as an extension, since it can't hold information about the types of columns\n",
    "\n",
    "During reading, pandas defaults to int64, float64 or object, losing any other types, like int8, string and datetime. "
   ]
  },
  {
   "cell_type": "code",
   "execution_count": 1,
   "metadata": {},
   "outputs": [],
   "source": [
    "import pandas as pd\n",
    "import numpy as np\n",
    "import gc"
   ]
  },
  {
   "cell_type": "markdown",
   "metadata": {},
   "source": [
    "## Variables"
   ]
  },
  {
   "cell_type": "code",
   "execution_count": 2,
   "metadata": {},
   "outputs": [
    {
     "name": "stderr",
     "output_type": "stream",
     "text": [
      "C:\\Users\\ricmo\\AppData\\Local\\Temp\\ipykernel_24432\\3499200186.py:1: DtypeWarning: Columns (62,78,88,89) have mixed types. Specify dtype option on import or set low_memory=False.\n",
      "  df = pd.read_csv('Types/SIH/RD2012.csv')\n"
     ]
    },
    {
     "data": {
      "text/plain": [
       "Index(['UF_ZI', 'ANO_CMPT', 'MES_CMPT', 'ESPEC', 'CGC_HOSP', 'N_AIH', 'IDENT',\n",
       "       'CEP', 'MUNIC_RES', 'NASC', 'SEXO', 'UTI_MES_IN', 'UTI_MES_AN',\n",
       "       'UTI_MES_AL', 'UTI_MES_TO', 'MARCA_UTI', 'UTI_INT_IN', 'UTI_INT_AN',\n",
       "       'UTI_INT_AL', 'UTI_INT_TO', 'DIAR_ACOM', 'QT_DIARIAS', 'PROC_SOLIC',\n",
       "       'PROC_REA', 'VAL_SH', 'VAL_SP', 'VAL_SADT', 'VAL_RN', 'VAL_ACOMP',\n",
       "       'VAL_ORTP', 'VAL_SANGUE', 'VAL_SADTSR', 'VAL_TRANSP', 'VAL_OBSANG',\n",
       "       'VAL_PED1AC', 'VAL_TOT', 'VAL_UTI', 'US_TOT', 'DT_INTER', 'DT_SAIDA',\n",
       "       'DIAG_PRINC', 'DIAG_SECUN', 'COBRANCA', 'NATUREZA', 'NAT_JUR', 'GESTAO',\n",
       "       'RUBRICA', 'IND_VDRL', 'MUNIC_MOV', 'COD_IDADE', 'IDADE', 'DIAS_PERM',\n",
       "       'MORTE', 'NACIONAL', 'NUM_PROC', 'CAR_INT', 'TOT_PT_SP', 'CPF_AUT',\n",
       "       'HOMONIMO', 'NUM_FILHOS', 'INSTRU', 'CID_NOTIF', 'CONTRACEP1',\n",
       "       'CONTRACEP2', 'GESTRISCO', 'INSC_PN', 'SEQ_AIH5', 'CBOR', 'CNAER',\n",
       "       'VINCPREV', 'GESTOR_COD', 'GESTOR_TP', 'GESTOR_CPF', 'GESTOR_DT',\n",
       "       'CNES', 'CNPJ_MANT', 'INFEHOSP', 'CID_ASSO', 'CID_MORTE', 'COMPLEX',\n",
       "       'FINANC', 'FAEC_TP', 'REGCT', 'RACA_COR', 'ETNIA', 'SEQUENCIA',\n",
       "       'REMESSA', 'AUD_JUST', 'SIS_JUST', 'VAL_SH_FED', 'VAL_SP_FED',\n",
       "       'VAL_SH_GES', 'VAL_SP_GES'],\n",
       "      dtype='object')"
      ]
     },
     "execution_count": 2,
     "metadata": {},
     "output_type": "execute_result"
    }
   ],
   "source": [
    "df = pd.read_csv('Types/SIH/RD2012.csv')\n",
    "\n",
    "# Removing past index\n",
    "df.drop('Unnamed: 0', axis=1, inplace=True)\n",
    "\n",
    "df.columns"
   ]
  },
  {
   "cell_type": "code",
   "execution_count": 3,
   "metadata": {},
   "outputs": [],
   "source": [
    "dict = {'Coluna':[], 'Espaço_CSV':[]}\n",
    "\n",
    "memoryUsage = pd.DataFrame(dict)\n",
    "\n",
    "# Getting the memory usage of the dataframe\n",
    "for item in df.columns:\n",
    "    aux = {'Coluna': item, 'Espaço_CSV': [df[item].memory_usage()]}\n",
    "    df2 = pd.DataFrame(aux)\n",
    "    memoryUsage = pd.concat([memoryUsage, df2], ignore_index=True)\n",
    "    \n",
    "memoryUsage['Espaço_CSV'] = memoryUsage['Espaço_CSV'].astype('Int64')\n",
    "\n",
    "memoryUsage.loc[:, 'Test_INT'] = pd.NA\n",
    "memoryUsage.loc[:, 'Test_FLOAT'] = pd.NA\n",
    "memoryUsage.loc[:, 'Test_CAT'] = pd.NA\n",
    "memoryUsage.loc[:, 'Test_OBJ'] = pd.NA\n",
    "\n",
    "memoryUsage.set_index('Coluna', inplace=True)"
   ]
  },
  {
   "cell_type": "markdown",
   "metadata": {},
   "source": [
    "## Functions"
   ]
  },
  {
   "cell_type": "code",
   "execution_count": 6,
   "metadata": {},
   "outputs": [],
   "source": [
    "def type_test(df, memoryUsage, col):\n",
    "    menor_tipo = df[col].dtype\n",
    "    menor_memo = memoryUsage.loc[col, 'Espaço_CSV']\n",
    "\n",
    "    # int \n",
    "    if df[col].isna().sum() == 0:\n",
    "        try:\n",
    "            aux = pd.to_numeric(df[col], downcast='integer')\n",
    "\n",
    "            a = aux.memory_usage()\n",
    "            memoryUsage.loc[col, 'Test_INT'] = a\n",
    "\n",
    "            if menor_memo > a:\n",
    "                menor_tipo = aux.dtype\n",
    "                menor_memo = a\n",
    "        except ValueError:\n",
    "            print(f'Coluna {col} - int value error')\n",
    "\n",
    "    # cat\n",
    "    try: \n",
    "        aux = df[col].astype(\"category\")\n",
    "\n",
    "        a = aux.memory_usage()\n",
    "        memoryUsage.loc[col, 'Test_CAT'] = a\n",
    "\n",
    "        if menor_memo > a:\n",
    "            menor_tipo = aux.dtype\n",
    "            menor_memo = a\n",
    "    except ValueError:\n",
    "        print(f'Coluna {col} - cal value error')\n",
    "\n",
    "    # float\n",
    "    try:\n",
    "        aux = pd.to_numeric(df[col], downcast='float')\n",
    "\n",
    "        a = aux.memory_usage()\n",
    "        memoryUsage.loc[col, 'Test_FLOAT'] = a\n",
    "\n",
    "        if menor_memo > a:\n",
    "            menor_tipo = aux.dtype\n",
    "            menor_memo = a\n",
    "    except ValueError:\n",
    "        print(f'Coluna {col} - float value error')\n",
    "\n",
    "    # object\n",
    "    try: \n",
    "        aux = df[col].astype('object')\n",
    "\n",
    "        a = aux.memory_usage()\n",
    "        memoryUsage.loc[col, 'Test_OBJ'] = a\n",
    "\n",
    "        if menor_memo > a:\n",
    "            menor_tipo = aux.dtype\n",
    "            menor_memo = a\n",
    "    except ValueError:\n",
    "        print(f'Coluna {col} - float value error')\n",
    "\n",
    "    return menor_tipo\n",
    "    # df[col] = df[col].astype(menor_tipo)"
   ]
  },
  {
   "cell_type": "markdown",
   "metadata": {},
   "source": [
    "---"
   ]
  },
  {
   "cell_type": "code",
   "execution_count": 10,
   "metadata": {},
   "outputs": [
    {
     "name": "stdout",
     "output_type": "stream",
     "text": [
      "Coluna DIAG_PRINC - int value error\n",
      "Coluna DIAG_PRINC - float value error\n",
      "Coluna DIAG_SECUN - float value error\n",
      "Coluna CID_NOTIF - float value error\n",
      "Coluna CID_ASSO - float value error\n",
      "Coluna CID_MORTE - float value error\n",
      "Coluna REMESSA - int value error\n",
      "Coluna REMESSA - float value error\n",
      "Coluna AUD_JUST - float value error\n",
      "Coluna SIS_JUST - float value error\n"
     ]
    }
   ],
   "source": [
    "dicionario = {}\n",
    "\n",
    "for column in df.columns:\n",
    "    tipo = type_test(df, memoryUsage, column)\n",
    "    dicionario[column] = tipo"
   ]
  },
  {
   "cell_type": "code",
   "execution_count": 13,
   "metadata": {},
   "outputs": [
    {
     "data": {
      "text/plain": [
       "{'UF_ZI': CategoricalDtype(categories=[110000, 110001, 110002, 110003, 110004, 110005, 110006,\n",
       "                   110008, 110009, 110010,\n",
       "                   ...\n",
       "                   522140, 522145, 522150, 522155, 522160, 522170, 522200,\n",
       "                   522205, 522220, 530000],\n",
       " , ordered=False, categories_dtype=int64),\n",
       " 'ANO_CMPT': CategoricalDtype(categories=[2012], ordered=False, categories_dtype=int64),\n",
       " 'MES_CMPT': dtype('int8'),\n",
       " 'ESPEC': dtype('int8'),\n",
       " 'CGC_HOSP': CategoricalDtype(categories=[   15081000101.0,    29827000128.0,    33940000187.0,\n",
       "                      38174000658.0,    54015000213.0,    54015000485.0,\n",
       "                      54015000809.0,    54015001619.0,    54015001708.0,\n",
       "                      54015001880.0,\n",
       "                   ...\n",
       "                   97731889000119.0, 98039795000146.0, 98104193000125.0,\n",
       "                   98110000000149.0, 98227986000131.0, 98314099000109.0,\n",
       "                   98339823000140.0, 98416225000128.0, 98591910000190.0,\n",
       "                   98714876000102.0],\n",
       " , ordered=False, categories_dtype=float64),\n",
       " 'N_AIH': dtype('int64'),\n",
       " 'IDENT': dtype('int8'),\n",
       " 'CEP': dtype('int32'),\n",
       " 'MUNIC_RES': CategoricalDtype(categories=[110001, 110002, 110003, 110004, 110005, 110006, 110007,\n",
       "                   110008, 110009, 110010,\n",
       "                   ...\n",
       "                   530100, 530110, 530120, 530130, 530135, 530140, 530150,\n",
       "                   530160, 530170, 530180],\n",
       " , ordered=False, categories_dtype=int64),\n",
       " 'NASC': dtype('int32'),\n",
       " 'SEXO': dtype('int8'),\n",
       " 'UTI_MES_IN': dtype('int8'),\n",
       " 'UTI_MES_AN': dtype('int8'),\n",
       " 'UTI_MES_AL': dtype('int8'),\n",
       " 'UTI_MES_TO': dtype('int16'),\n",
       " 'MARCA_UTI': dtype('int8'),\n",
       " 'UTI_INT_IN': dtype('int8'),\n",
       " 'UTI_INT_AN': dtype('int8'),\n",
       " 'UTI_INT_AL': dtype('int8'),\n",
       " 'UTI_INT_TO': CategoricalDtype(categories=[  0,   1,   2,   3,   4,   5,   6,   7,   8,   9,  10,  11,\n",
       "                    12,  13,  14,  15,  16,  17,  18,  19,  20,  21,  22,  23,\n",
       "                    24,  25,  26,  27,  28,  29,  30,  31,  32,  33,  34,  35,\n",
       "                    36,  37,  38,  39,  40,  41,  42,  43,  44,  45,  46,  47,\n",
       "                    48,  49,  50,  51,  52,  53,  54,  55,  56,  57,  58,  59,\n",
       "                    60,  61,  62,  63,  64,  66,  67,  68,  70,  71,  72,  73,\n",
       "                    74,  76,  77,  79,  80,  82,  83,  85,  86,  89,  91,  93,\n",
       "                   130, 148],\n",
       " , ordered=False, categories_dtype=int64),\n",
       " 'DIAR_ACOM': dtype('int16'),\n",
       " 'QT_DIARIAS': dtype('int16'),\n",
       " 'PROC_SOLIC': CategoricalDtype(categories=[201010038, 201010097, 201010119, 201010127, 201010135,\n",
       "                   201010143, 201010160, 201010186, 201010208, 201010240,\n",
       "                   ...\n",
       "                   506020029, 506020037, 506020045, 506020053, 506020061,\n",
       "                   506020070, 506020088, 506020096, 506020100, 506020118],\n",
       " , ordered=False, categories_dtype=int64),\n",
       " 'PROC_REA': CategoricalDtype(categories=[201010038, 201010097, 201010119, 201010127, 201010135,\n",
       "                   201010143, 201010160, 201010186, 201010208, 201010240,\n",
       "                   ...\n",
       "                   506020029, 506020037, 506020045, 506020053, 506020061,\n",
       "                   506020070, 506020088, 506020096, 506020100, 506020118],\n",
       " , ordered=False, categories_dtype=int64),\n",
       " 'VAL_SH': CategoricalDtype(categories=[      0.0,      15.4,     17.12,     17.38,     18.48,\n",
       "                       18.65,     19.03,      19.4,      20.4,     21.69,\n",
       "                   ...\n",
       "                    102321.7, 103031.45, 104019.47, 104685.85, 106313.11,\n",
       "                   110014.43, 111106.11, 114160.97, 116206.95, 118530.85],\n",
       " , ordered=False, categories_dtype=float64),\n",
       " 'VAL_SP': CategoricalDtype(categories=[     0.0,     1.39,     1.79,     2.04,     2.27,     2.63,\n",
       "                       2.75,     2.78,     2.89,      3.0,\n",
       "                   ...\n",
       "                   16818.56, 17184.54, 17345.54, 17690.74, 17719.21, 18920.17,\n",
       "                   20279.29, 22037.13, 25896.69, 27747.79],\n",
       " , ordered=False, categories_dtype=float64),\n",
       " 'VAL_SADT': dtype('int8'),\n",
       " 'VAL_RN': dtype('int8'),\n",
       " 'VAL_ACOMP': dtype('int8'),\n",
       " 'VAL_ORTP': dtype('int8'),\n",
       " 'VAL_SANGUE': dtype('int8'),\n",
       " 'VAL_SADTSR': dtype('int8'),\n",
       " 'VAL_TRANSP': dtype('int8'),\n",
       " 'VAL_OBSANG': dtype('int8'),\n",
       " 'VAL_PED1AC': dtype('int8'),\n",
       " 'VAL_TOT': CategoricalDtype(categories=[      0.0,     20.74,     21.98,     22.93,     23.08,\n",
       "                       23.45,     24.13,     24.74,     24.88,     26.91,\n",
       "                   ...\n",
       "                   114523.17, 114563.59, 115538.47, 116177.57, 117804.83,\n",
       "                   122655.33, 123747.01, 126801.87, 128847.85, 131171.75],\n",
       " , ordered=False, categories_dtype=float64),\n",
       " 'VAL_UTI': CategoricalDtype(categories=[     0.0,    137.2,    139.0,    152.9,   164.63,    166.8,\n",
       "                     171.49,   185.21,   187.64,    205.8,\n",
       "                   ...\n",
       "                   85307.89, 85595.12, 89041.92,  89760.0, 90790.44, 96131.05,\n",
       "                   98879.61, 100200.1, 106481.6, 107712.0],\n",
       " , ordered=False, categories_dtype=float64),\n",
       " 'US_TOT': CategoricalDtype(categories=[     0.0,     9.87,    10.16,    10.21,    10.26,    10.46,\n",
       "                      10.47,    10.77,    10.82,    10.88,\n",
       "                   ...\n",
       "                   57149.13, 57747.46, 57839.98, 57860.39, 58352.76,  58407.3,\n",
       "                   62463.97, 62498.48, 63471.84, 66248.35],\n",
       " , ordered=False, categories_dtype=float64),\n",
       " 'DT_INTER': CategoricalDtype(categories=[20080101, 20080104, 20080106, 20080107, 20080111, 20080112,\n",
       "                   20080113, 20080116, 20080119, 20080121,\n",
       "                   ...\n",
       "                   20121222, 20121223, 20121224, 20121225, 20121226, 20121227,\n",
       "                   20121228, 20121229, 20121230, 20121231],\n",
       " , ordered=False, categories_dtype=int64),\n",
       " 'DT_SAIDA': CategoricalDtype(categories=[20110801, 20110802, 20110803, 20110804, 20110805, 20110806,\n",
       "                   20110807, 20110808, 20110809, 20110810,\n",
       "                   ...\n",
       "                   20121222, 20121223, 20121224, 20121225, 20121226, 20121227,\n",
       "                   20121228, 20121229, 20121230, 20121231],\n",
       " , ordered=False, categories_dtype=int64),\n",
       " 'DIAG_PRINC': CategoricalDtype(categories=['A000', 'A001', 'A009', 'A010', 'A011', 'A012', 'A013',\n",
       "                   'A014', 'A020', 'A021',\n",
       "                   ...\n",
       "                   'Z968', 'Z969', 'Z975', 'Z978', 'Z980', 'Z981', 'Z982',\n",
       "                   'Z988', 'Z991', 'Z992'],\n",
       " , ordered=False, categories_dtype=object),\n",
       " 'DIAG_SECUN': CategoricalDtype(categories=['A000', 'A001', 'A009', 'A010', 'A011', 'A012', 'A014',\n",
       "                   'A020', 'A022', 'A028',\n",
       "                   ...\n",
       "                   'Z968', 'Z974', 'Z975', 'Z980', 'Z981', 'Z982', 'Z988',\n",
       "                   'Z991', 'Z992', 'Z998'],\n",
       " , ordered=False, categories_dtype=object),\n",
       " 'COBRANCA': dtype('int8'),\n",
       " 'NATUREZA': dtype('int8'),\n",
       " 'NAT_JUR': CategoricalDtype(categories=[1015.0, 1023.0, 1031.0, 1104.0, 1112.0, 1120.0, 1139.0,\n",
       "                   1147.0, 1155.0, 1180.0, 1201.0, 1210.0, 2011.0, 2038.0,\n",
       "                   2054.0, 2062.0, 2135.0, 2143.0, 2232.0, 2240.0, 2305.0,\n",
       "                   3069.0, 3077.0, 3131.0, 3999.0],\n",
       " , ordered=False, categories_dtype=float64),\n",
       " 'GESTAO': dtype('int8'),\n",
       " 'RUBRICA': dtype('int8'),\n",
       " 'IND_VDRL': dtype('int8'),\n",
       " 'MUNIC_MOV': CategoricalDtype(categories=[110001, 110002, 110003, 110004, 110005, 110006, 110008,\n",
       "                   110009, 110010, 110011,\n",
       "                   ...\n",
       "                   530050, 530060, 530070, 530110, 530120, 530140, 530150,\n",
       "                   530160, 530170, 530180],\n",
       " , ordered=False, categories_dtype=int64),\n",
       " 'COD_IDADE': dtype('int8'),\n",
       " 'IDADE': dtype('int8'),\n",
       " 'DIAS_PERM': dtype('int16'),\n",
       " 'MORTE': dtype('int8'),\n",
       " 'NACIONAL': dtype('int16'),\n",
       " 'NUM_PROC': CategoricalDtype(categories=[], ordered=False, categories_dtype=float64),\n",
       " 'CAR_INT': dtype('int8'),\n",
       " 'TOT_PT_SP': dtype('int8'),\n",
       " 'CPF_AUT': CategoricalDtype(categories=[], ordered=False, categories_dtype=float64),\n",
       " 'HOMONIMO': dtype('int8'),\n",
       " 'NUM_FILHOS': dtype('int8'),\n",
       " 'INSTRU': dtype('int8'),\n",
       " 'CID_NOTIF': CategoricalDtype(categories=['O000', 'O100', 'O101', 'O102', 'O103', 'O104', 'O109',\n",
       "                   'O11', 'O13', 'O140', 'O141', 'O149', 'O150', 'O151', 'O152',\n",
       "                   'O220', 'O225', 'O229', 'O230', 'O231', 'O235', 'O240',\n",
       "                   'O243', 'O244', 'O262', 'O360', 'O361', 'O363', 'O368',\n",
       "                   'O903', 'O990', 'O992', 'O993', 'O994', 'O995', 'Z302'],\n",
       " , ordered=False, categories_dtype=object),\n",
       " 'CONTRACEP1': dtype('int8'),\n",
       " 'CONTRACEP2': dtype('int8'),\n",
       " 'GESTRISCO': dtype('int8'),\n",
       " 'INSC_PN': CategoricalDtype(categories=[ -1983804743,  -1838225553,  -1838225549,  -1838225426,\n",
       "                    -1838225423,  -1838225421,  -1838225418,  -1838225329,\n",
       "                    -1838225327,  -1838225325,\n",
       "                   ...\n",
       "                   923925000000, 924010000000, 924020000000, 924110000000,\n",
       "                   926720000000, 926770000000, 926790000000, 928580000000,\n",
       "                   935530000000, 999999999999],\n",
       " , ordered=False, categories_dtype=int64),\n",
       " 'SEQ_AIH5': dtype('int8'),\n",
       " 'CBOR': CategoricalDtype(categories=[     0, 223115, 223505, 225124, 225125, 225225, 225250,\n",
       "                   225270, 352210, 354125, 422105, 422115, 515105, 521110,\n",
       "                   613305, 622505, 622610, 717020, 763325, 764115, 766225,\n",
       "                   782510, 784205, 791115, 811770, 841815, 848110, 848510],\n",
       " , ordered=False, categories_dtype=int64),\n",
       " 'CNAER': CategoricalDtype(categories=[  0,  13,  15, 151, 154, 176, 181, 193, 213, 222, 283, 361,\n",
       "                   369, 452, 454, 511, 512, 521, 522, 551, 602, 634, 654, 659,\n",
       "                   663, 702, 711, 713, 714, 747, 749, 752, 851, 924],\n",
       " , ordered=False, categories_dtype=int64),\n",
       " 'VINCPREV': dtype('int8'),\n",
       " 'GESTOR_COD': CategoricalDtype(categories=[  0,   1,   2,   3,   4,   5,   7,   8,   9,  10,  11,  14,\n",
       "                    15,  16,  17,  18,  19,  38,  39,  40,  41,  42,  43,  46,\n",
       "                    47,  48,  49,  50,  70,  71,  73,  74,  78, 102, 110, 134,\n",
       "                   135, 136, 137, 138, 139, 142, 143, 144, 146, 166, 167, 168,\n",
       "                   169, 170, 174, 175, 178, 198, 199, 200, 206, 230, 243],\n",
       " , ordered=False, categories_dtype=int64),\n",
       " 'GESTOR_TP': dtype('int8'),\n",
       " 'GESTOR_CPF': CategoricalDtype(categories=[          0,     2319756,    20362668,    51916614,\n",
       "                      67020151,    76147215,    80292615,    97900206,\n",
       "                     103225234,   104230363,\n",
       "                   ...\n",
       "                   97535796834, 97588210915, 97749672834, 97758019749,\n",
       "                   98313371820, 98324870806, 98325655704, 99065312315,\n",
       "                   99238047715, 99258030630],\n",
       " , ordered=False, categories_dtype=int64),\n",
       " 'GESTOR_DT': CategoricalDtype(categories=[], ordered=False, categories_dtype=float64),\n",
       " 'CNES': CategoricalDtype(categories=[     35,      94,     396,     418,     426,     434,\n",
       "                       477,     485,     566,     582,\n",
       "                   ...\n",
       "                   7137818, 8001448, 8001472, 8002959, 8003629, 8004218,\n",
       "                   8010781, 8013659, 8013926, 8015899],\n",
       " , ordered=False, categories_dtype=int64),\n",
       " 'CNPJ_MANT': CategoricalDtype(categories=[    5959000110.0,     6874000156.0,     7344000122.0,\n",
       "                       7401000173.0,    38174000143.0,    44834000107.0,\n",
       "                      79806000117.0,    97857000171.0,   114819000180.0,\n",
       "                     163055000112.0,\n",
       "                   ...\n",
       "                   95587648000112.0, 95589289000132.0, 95610887000146.0,\n",
       "                   95684544000126.0, 95996104000104.0, 96704333000170.0,\n",
       "                   97228126000150.0, 97448708000141.0, 97551413000104.0,\n",
       "                   97553416000179.0],\n",
       " , ordered=False, categories_dtype=float64),\n",
       " 'INFEHOSP': CategoricalDtype(categories=[], ordered=False, categories_dtype=float64),\n",
       " 'CID_ASSO': CategoricalDtype(categories=['A009', 'A020', 'A021', 'A028', 'A029', 'A040', 'A047',\n",
       "                   'A048', 'A049', 'A050',\n",
       "                   ...\n",
       "                   'Z954', 'Z961', 'Z966', 'Z975', 'Z982', 'Z988', 'Z991',\n",
       "                   'Z992', 'Z993', 'Z999'],\n",
       " , ordered=False, categories_dtype=object),\n",
       " 'CID_MORTE': CategoricalDtype(categories=['A000', 'A009', 'A010', 'A020', 'A021', 'A028', 'A040',\n",
       "                   'A041', 'A044', 'A046',\n",
       "                   ...\n",
       "                   'Z944', 'Z949', 'Z954', 'Z958', 'Z968', 'Z969', 'Z982',\n",
       "                   'Z988', 'Z992', 'Z993'],\n",
       " , ordered=False, categories_dtype=object),\n",
       " 'COMPLEX': dtype('int8'),\n",
       " 'FINANC': dtype('int8'),\n",
       " 'FAEC_TP': CategoricalDtype(categories=[40010.0, 40014.0, 40016.0, 40018.0, 40023.0, 40024.0,\n",
       "                   40028.0, 40029.0, 40030.0, 40032.0, 40041.0, 40043.0,\n",
       "                   40050.0, 40051.0, 40052.0, 40054.0],\n",
       " , ordered=False, categories_dtype=float64),\n",
       " 'REGCT': CategoricalDtype(categories=[0, 7102, 7104, 7105, 7106, 7109, 7110, 7112], ordered=False, categories_dtype=int64),\n",
       " 'RACA_COR': dtype('int8'),\n",
       " 'ETNIA': dtype('int16'),\n",
       " 'SEQUENCIA': dtype('int32'),\n",
       " 'REMESSA': CategoricalDtype(categories=['HE11000001N201201.DTS', 'HE11000001N201202.DTS',\n",
       "                   'HE11000001N201203.DTS', 'HE11000001N201204.DTS',\n",
       "                   'HE11000001N201205.DTS', 'HE11000001N201206.DTS',\n",
       "                   'HE11000001N201207.DTS', 'HE11000001N201208.DTS',\n",
       "                   'HE11000001N201209.DTS', 'HE11000001N201210.DTS',\n",
       "                   ...\n",
       "                   'HM52222001N201203.DTS', 'HM52222001N201204.DTS',\n",
       "                   'HM52222001N201205.DTS', 'HM52222001N201206.DTS',\n",
       "                   'HM52222001N201207.DTS', 'HM52222001N201208.DTS',\n",
       "                   'HM52222001N201209.DTS', 'HM52222001N201210.DTS',\n",
       "                   'HM52222001N201211.DTS', 'HM52222001N201212.DTS'],\n",
       " , ordered=False, categories_dtype=object),\n",
       " 'AUD_JUST': CategoricalDtype(categories=[',', ',,', ',,,', ',,,,,,', ',,,,,,,', ',,,,,,,,,,,,,,,,,,,',\n",
       "                   ',,,,,,,,,,,,,,,,,,,,,,,,,,,',\n",
       "                   ',,,,,,,,,,,,,,,,,,,,,,,,,,,,,,,,,,,,,', ',,,,,......', ',.',\n",
       "                   ...\n",
       "                   'VERIFICADA E LIBERADA PELO AUDITORVERIFICADA E LIB',\n",
       "                   'VN?O INFORMADO', 'VNAO TEM CARTAO NACIONAL DE SAUDE',\n",
       "                   'VPREENCHIDO PELO HOSPITAL', 'X', 'XX', 'XXX', 'XXXX', 'ZZZ',\n",
       "                   ']'],\n",
       " , ordered=False, categories_dtype=object),\n",
       " 'SIS_JUST': CategoricalDtype(categories=['04 07 04 002 1', '0PACIENTE NAO APRESENTOU CARTAO DO SUS',\n",
       "                   '0PACIENTE NAO APRESENTOU CARTAO SUS',\n",
       "                   '0PACIENTE NAO APRESENTOU O CARTAO DO SUS',\n",
       "                   '0PACIENTE NAO APRESENTOU O CARTAO SUS', '0RECEM NASCIDO',\n",
       "                   '0S00000000000', '0SEM INFORMACAO', '134', '135',\n",
       "                   ...\n",
       "                   'VIVE SO', 'VRN SEM DOC PARA FAZER CARTAO DO SUS', 'WEB',\n",
       "                   'XDFB', 'XEROX DO CNS NO ANVESRO',\n",
       "                   'XXXXXXXXXXXXXXXXXXXXXXXXXXXXXXXXXXXXXXXXXXXXXXXXXX', 'ZDFB',\n",
       "                   'ZDH', 'paciente morador de rua',\n",
       "                   'pessoa em situacao de rua sem documentos'],\n",
       " , ordered=False, categories_dtype=object),\n",
       " 'VAL_SH_FED': CategoricalDtype(categories=[    0.0,    3.95,     7.7,   11.05,    15.8,   17.91,\n",
       "                     18.12,   22.62,   23.92,   24.36,\n",
       "                   ...\n",
       "                    919.92,  947.72,   997.2, 1025.76, 1270.15, 1301.78,\n",
       "                   1343.75,  1541.8, 1630.68, 1746.88],\n",
       " , ordered=False, categories_dtype=float64),\n",
       " 'VAL_SP_FED': CategoricalDtype(categories=[    0.0,    2.67,     6.7,   12.04,   13.99,   15.72,\n",
       "                     15.73,   16.59,   18.24,   19.05,\n",
       "                   ...\n",
       "                     901.3,  965.71, 1003.92, 1003.93, 1030.02, 1108.73,\n",
       "                   1150.89, 1225.64, 1251.04, 1340.19],\n",
       " , ordered=False, categories_dtype=float64),\n",
       " 'VAL_SH_GES': dtype('int8'),\n",
       " 'VAL_SP_GES': dtype('int8')}"
      ]
     },
     "execution_count": 13,
     "metadata": {},
     "output_type": "execute_result"
    }
   ],
   "source": [
    "dicionario"
   ]
  },
  {
   "cell_type": "code",
   "execution_count": 8,
   "metadata": {},
   "outputs": [
    {
     "data": {
      "text/html": [
       "<div>\n",
       "<style scoped>\n",
       "    .dataframe tbody tr th:only-of-type {\n",
       "        vertical-align: middle;\n",
       "    }\n",
       "\n",
       "    .dataframe tbody tr th {\n",
       "        vertical-align: top;\n",
       "    }\n",
       "\n",
       "    .dataframe thead th {\n",
       "        text-align: right;\n",
       "    }\n",
       "</style>\n",
       "<table border=\"1\" class=\"dataframe\">\n",
       "  <thead>\n",
       "    <tr style=\"text-align: right;\">\n",
       "      <th></th>\n",
       "      <th>Espaço_CSV</th>\n",
       "      <th>Test_INT</th>\n",
       "      <th>Test_FLOAT</th>\n",
       "      <th>Test_CAT</th>\n",
       "      <th>Test_OBJ</th>\n",
       "    </tr>\n",
       "    <tr>\n",
       "      <th>Coluna</th>\n",
       "      <th></th>\n",
       "      <th></th>\n",
       "      <th></th>\n",
       "      <th></th>\n",
       "      <th></th>\n",
       "    </tr>\n",
       "  </thead>\n",
       "  <tbody>\n",
       "    <tr>\n",
       "      <th>UF_ZI</th>\n",
       "      <td>53386068</td>\n",
       "      <td>26693100</td>\n",
       "      <td>26693100</td>\n",
       "      <td>13425776</td>\n",
       "      <td>53386068</td>\n",
       "    </tr>\n",
       "    <tr>\n",
       "      <th>ANO_CMPT</th>\n",
       "      <td>53386068</td>\n",
       "      <td>13346616</td>\n",
       "      <td>26693100</td>\n",
       "      <td>6673490</td>\n",
       "      <td>53386068</td>\n",
       "    </tr>\n",
       "    <tr>\n",
       "      <th>MES_CMPT</th>\n",
       "      <td>53386068</td>\n",
       "      <td>6673374</td>\n",
       "      <td>26693100</td>\n",
       "      <td>6673770</td>\n",
       "      <td>53386068</td>\n",
       "    </tr>\n",
       "    <tr>\n",
       "      <th>ESPEC</th>\n",
       "      <td>53386068</td>\n",
       "      <td>6673374</td>\n",
       "      <td>26693100</td>\n",
       "      <td>6674034</td>\n",
       "      <td>53386068</td>\n",
       "    </tr>\n",
       "    <tr>\n",
       "      <th>CGC_HOSP</th>\n",
       "      <td>53386068</td>\n",
       "      <td>&lt;NA&gt;</td>\n",
       "      <td>53386068</td>\n",
       "      <td>13505304</td>\n",
       "      <td>53386068</td>\n",
       "    </tr>\n",
       "    <tr>\n",
       "      <th>...</th>\n",
       "      <td>...</td>\n",
       "      <td>...</td>\n",
       "      <td>...</td>\n",
       "      <td>...</td>\n",
       "      <td>...</td>\n",
       "    </tr>\n",
       "    <tr>\n",
       "      <th>SIS_JUST</th>\n",
       "      <td>53386068</td>\n",
       "      <td>&lt;NA&gt;</td>\n",
       "      <td>&lt;NA&gt;</td>\n",
       "      <td>13523352</td>\n",
       "      <td>53386068</td>\n",
       "    </tr>\n",
       "    <tr>\n",
       "      <th>VAL_SH_FED</th>\n",
       "      <td>53386068</td>\n",
       "      <td>53386068</td>\n",
       "      <td>26693100</td>\n",
       "      <td>13368624</td>\n",
       "      <td>53386068</td>\n",
       "    </tr>\n",
       "    <tr>\n",
       "      <th>VAL_SP_FED</th>\n",
       "      <td>53386068</td>\n",
       "      <td>53386068</td>\n",
       "      <td>26693100</td>\n",
       "      <td>13386112</td>\n",
       "      <td>53386068</td>\n",
       "    </tr>\n",
       "    <tr>\n",
       "      <th>VAL_SH_GES</th>\n",
       "      <td>53386068</td>\n",
       "      <td>6673374</td>\n",
       "      <td>26693100</td>\n",
       "      <td>6673490</td>\n",
       "      <td>53386068</td>\n",
       "    </tr>\n",
       "    <tr>\n",
       "      <th>VAL_SP_GES</th>\n",
       "      <td>53386068</td>\n",
       "      <td>6673374</td>\n",
       "      <td>26693100</td>\n",
       "      <td>6673490</td>\n",
       "      <td>53386068</td>\n",
       "    </tr>\n",
       "  </tbody>\n",
       "</table>\n",
       "<p>93 rows × 5 columns</p>\n",
       "</div>"
      ],
      "text/plain": [
       "            Espaço_CSV  Test_INT Test_FLOAT  Test_CAT  Test_OBJ\n",
       "Coluna                                                         \n",
       "UF_ZI         53386068  26693100   26693100  13425776  53386068\n",
       "ANO_CMPT      53386068  13346616   26693100   6673490  53386068\n",
       "MES_CMPT      53386068   6673374   26693100   6673770  53386068\n",
       "ESPEC         53386068   6673374   26693100   6674034  53386068\n",
       "CGC_HOSP      53386068      <NA>   53386068  13505304  53386068\n",
       "...                ...       ...        ...       ...       ...\n",
       "SIS_JUST      53386068      <NA>       <NA>  13523352  53386068\n",
       "VAL_SH_FED    53386068  53386068   26693100  13368624  53386068\n",
       "VAL_SP_FED    53386068  53386068   26693100  13386112  53386068\n",
       "VAL_SH_GES    53386068   6673374   26693100   6673490  53386068\n",
       "VAL_SP_GES    53386068   6673374   26693100   6673490  53386068\n",
       "\n",
       "[93 rows x 5 columns]"
      ]
     },
     "execution_count": 8,
     "metadata": {},
     "output_type": "execute_result"
    }
   ],
   "source": [
    "memoryUsage"
   ]
  },
  {
   "cell_type": "code",
   "execution_count": 9,
   "metadata": {},
   "outputs": [],
   "source": [
    "memoryUsage.to_csv('Types/Tipos.csv')"
   ]
  },
  {
   "cell_type": "markdown",
   "metadata": {},
   "source": [
    "---"
   ]
  },
  {
   "cell_type": "markdown",
   "metadata": {},
   "source": [
    "## Individual column study"
   ]
  },
  {
   "cell_type": "markdown",
   "metadata": {},
   "source": [
    "#### UF_ZI"
   ]
  },
  {
   "cell_type": "code",
   "execution_count": 6,
   "metadata": {},
   "outputs": [
    {
     "name": "stdout",
     "output_type": "stream",
     "text": [
      "Null count: 0 out of 6673242 rows\n"
     ]
    },
    {
     "data": {
      "text/plain": [
       "min    110000\n",
       "max    530000\n",
       "Name: UF_ZI, dtype: int64"
      ]
     },
     "execution_count": 6,
     "metadata": {},
     "output_type": "execute_result"
    }
   ],
   "source": [
    "col = 'UF_ZI'\n",
    "\n",
    "print(f'Null count: {df[col].isna().sum()} out of {len(df[col])} rows')\n",
    "df[col].agg(['min', 'max'])"
   ]
  },
  {
   "cell_type": "code",
   "execution_count": 7,
   "metadata": {},
   "outputs": [
    {
     "name": "stdout",
     "output_type": "stream",
     "text": [
      "Memory used for int: 26693100\n",
      "Memory used for flo: 26693100\n",
      "Memory used for cat: 13402856\n",
      "Memory used for obj: 53386068\n"
     ]
    }
   ],
   "source": [
    "col = 'UF_ZI'\n",
    "\n",
    "# int \n",
    "df[col] = df[col].astype(np.int32)\n",
    "\n",
    "a = df[col].memory_usage()\n",
    "memoryUsage.loc[col, 'Test_INT'] = a\n",
    "print(f'Memory used for int: {a}')\n",
    "\n",
    "# float\n",
    "df[col] = df[col].astype(np.float32)\n",
    "\n",
    "a = df[col].memory_usage()\n",
    "memoryUsage.loc[col, 'Test_FLOAT'] = a\n",
    "print(f'Memory used for flo: {a}')\n",
    "\n",
    "# cat\n",
    "df[col] = df[col].astype(\"category\")\n",
    "\n",
    "a = df[col].memory_usage()\n",
    "memoryUsage.loc[col, 'Test_CAT'] = a\n",
    "print(f'Memory used for cat: {a}')\n",
    "\n",
    "# object\n",
    "df[col] = df[col].astype('object')\n",
    "\n",
    "a = df[col].memory_usage()\n",
    "memoryUsage.loc[col, 'Test_OBJ'] = a\n",
    "print(f'Memory used for obj: {a}')"
   ]
  },
  {
   "cell_type": "code",
   "execution_count": 8,
   "metadata": {},
   "outputs": [
    {
     "data": {
      "text/plain": [
       "Espaço_CSV    53386068\n",
       "Test_INT      26693100\n",
       "Test_FLOAT    26693100\n",
       "Test_CAT      13402856\n",
       "Test_OBJ      53386068\n",
       "Name: UF_ZI, dtype: object"
      ]
     },
     "execution_count": 8,
     "metadata": {},
     "output_type": "execute_result"
    }
   ],
   "source": [
    "memoryUsage.loc['UF_ZI']"
   ]
  },
  {
   "cell_type": "code",
   "execution_count": 9,
   "metadata": {},
   "outputs": [],
   "source": [
    "df['UF_ZI'] = df['UF_ZI'].astype(\"category\")"
   ]
  },
  {
   "cell_type": "markdown",
   "metadata": {},
   "source": [
    "#### ANO_CMPT"
   ]
  },
  {
   "cell_type": "code",
   "execution_count": 10,
   "metadata": {},
   "outputs": [
    {
     "name": "stdout",
     "output_type": "stream",
     "text": [
      "Null count: 0 out of 6673242 rows\n"
     ]
    },
    {
     "data": {
      "text/plain": [
       "min    2012\n",
       "max    2012\n",
       "Name: ANO_CMPT, dtype: int64"
      ]
     },
     "execution_count": 10,
     "metadata": {},
     "output_type": "execute_result"
    }
   ],
   "source": [
    "col = 'ANO_CMPT'\n",
    "\n",
    "print(f'Null count: {df[col].isna().sum()} out of {len(df[col])} rows')\n",
    "df[col].agg(['min', 'max'])"
   ]
  },
  {
   "cell_type": "code",
   "execution_count": 11,
   "metadata": {},
   "outputs": [
    {
     "data": {
      "text/plain": [
       "Espaço_CSV    53386068\n",
       "Test_INT      13346616\n",
       "Test_FLOAT    13346616\n",
       "Test_CAT       6673460\n",
       "Test_OBJ      53386068\n",
       "Name: ANO_CMPT, dtype: object"
      ]
     },
     "execution_count": 11,
     "metadata": {},
     "output_type": "execute_result"
    }
   ],
   "source": [
    "col = 'ANO_CMPT'\n",
    "\n",
    "# int \n",
    "df[col] = df[col].astype(np.int16)\n",
    "\n",
    "a = df[col].memory_usage()\n",
    "memoryUsage.loc[col, 'Test_INT'] = a\n",
    "\n",
    "# cat\n",
    "df[col] = df[col].astype(\"category\")\n",
    "\n",
    "a = df[col].memory_usage()\n",
    "memoryUsage.loc[col, 'Test_CAT'] = a\n",
    "\n",
    "# float\n",
    "df[col] = df[col].astype(np.float16)\n",
    "\n",
    "a = df[col].memory_usage()\n",
    "memoryUsage.loc[col, 'Test_FLOAT'] = a\n",
    "\n",
    "# object\n",
    "df[col] = df[col].astype('object')\n",
    "\n",
    "a = df[col].memory_usage()\n",
    "memoryUsage.loc[col, 'Test_OBJ'] = a\n",
    "\n",
    "memoryUsage.loc[col]"
   ]
  },
  {
   "cell_type": "code",
   "execution_count": 12,
   "metadata": {},
   "outputs": [],
   "source": [
    "df['ANO_CMPT'] = df['ANO_CMPT'].astype(\"category\")"
   ]
  },
  {
   "cell_type": "markdown",
   "metadata": {},
   "source": [
    "#### MES_CMPT"
   ]
  },
  {
   "cell_type": "code",
   "execution_count": 13,
   "metadata": {},
   "outputs": [
    {
     "name": "stdout",
     "output_type": "stream",
     "text": [
      "Null count: 0 out of 6673242 rows\n"
     ]
    },
    {
     "data": {
      "text/plain": [
       "min     1\n",
       "max    12\n",
       "Name: MES_CMPT, dtype: int64"
      ]
     },
     "execution_count": 13,
     "metadata": {},
     "output_type": "execute_result"
    }
   ],
   "source": [
    "col = 'MES_CMPT'\n",
    "\n",
    "print(f'Null count: {df[col].isna().sum()} out of {len(df[col])} rows')\n",
    "df[col].agg(['min', 'max'])"
   ]
  },
  {
   "cell_type": "code",
   "execution_count": 14,
   "metadata": {},
   "outputs": [
    {
     "data": {
      "text/plain": [
       "Espaço_CSV    53386068\n",
       "Test_INT       6673374\n",
       "Test_FLOAT    13346616\n",
       "Test_CAT       6673574\n",
       "Test_OBJ      53386068\n",
       "Name: MES_CMPT, dtype: object"
      ]
     },
     "execution_count": 14,
     "metadata": {},
     "output_type": "execute_result"
    }
   ],
   "source": [
    "col = 'MES_CMPT'\n",
    "\n",
    "# int \n",
    "df[col] = df[col].astype(np.int8)\n",
    "\n",
    "a = df[col].memory_usage()\n",
    "memoryUsage.loc[col, 'Test_INT'] = a\n",
    "\n",
    "# cat\n",
    "df[col] = df[col].astype(\"category\")\n",
    "\n",
    "a = df[col].memory_usage()\n",
    "memoryUsage.loc[col, 'Test_CAT'] = a\n",
    "\n",
    "# float\n",
    "df[col] = df[col].astype(np.float16)\n",
    "\n",
    "a = df[col].memory_usage()\n",
    "memoryUsage.loc[col, 'Test_FLOAT'] = a\n",
    "\n",
    "# object\n",
    "df[col] = df[col].astype('object')\n",
    "\n",
    "a = df[col].memory_usage()\n",
    "memoryUsage.loc[col, 'Test_OBJ'] = a\n",
    "\n",
    "memoryUsage.loc[col]"
   ]
  },
  {
   "cell_type": "code",
   "execution_count": 15,
   "metadata": {},
   "outputs": [],
   "source": [
    "df['MES_CMPT'] = df['MES_CMPT'].astype(np.int8)"
   ]
  },
  {
   "cell_type": "markdown",
   "metadata": {},
   "source": [
    "#### ESPEC"
   ]
  },
  {
   "cell_type": "code",
   "execution_count": 16,
   "metadata": {},
   "outputs": [
    {
     "name": "stdout",
     "output_type": "stream",
     "text": [
      "Null count: 0 out of 6673242 rows\n"
     ]
    },
    {
     "data": {
      "text/plain": [
       "min     1\n",
       "max    14\n",
       "Name: ESPEC, dtype: int64"
      ]
     },
     "execution_count": 16,
     "metadata": {},
     "output_type": "execute_result"
    }
   ],
   "source": [
    "col = 'ESPEC'\n",
    "\n",
    "print(f'Null count: {df[col].isna().sum()} out of {len(df[col])} rows')\n",
    "df[col].agg(['min', 'max'])"
   ]
  },
  {
   "cell_type": "code",
   "execution_count": 17,
   "metadata": {},
   "outputs": [
    {
     "data": {
      "text/plain": [
       "Espaço_CSV    53386068\n",
       "Test_INT       6673374\n",
       "Test_FLOAT    13346616\n",
       "Test_CAT       6673719\n",
       "Test_OBJ      53386068\n",
       "Name: ESPEC, dtype: object"
      ]
     },
     "execution_count": 17,
     "metadata": {},
     "output_type": "execute_result"
    }
   ],
   "source": [
    "col = 'ESPEC'\n",
    "\n",
    "# int \n",
    "df[col] = df[col].astype(np.int8)\n",
    "\n",
    "a = df[col].memory_usage()\n",
    "memoryUsage.loc[col, 'Test_INT'] = a\n",
    "\n",
    "# cat\n",
    "df[col] = df[col].astype(\"category\")\n",
    "\n",
    "a = df[col].memory_usage()\n",
    "memoryUsage.loc[col, 'Test_CAT'] = a\n",
    "\n",
    "# float\n",
    "df[col] = df[col].astype(np.float16)\n",
    "\n",
    "a = df[col].memory_usage()\n",
    "memoryUsage.loc[col, 'Test_FLOAT'] = a\n",
    "\n",
    "# object\n",
    "df[col] = df[col].astype('object')\n",
    "\n",
    "a = df[col].memory_usage()\n",
    "memoryUsage.loc[col, 'Test_OBJ'] = a\n",
    "\n",
    "memoryUsage.loc[col]"
   ]
  },
  {
   "cell_type": "code",
   "execution_count": 18,
   "metadata": {},
   "outputs": [],
   "source": [
    "df['ESPEC'] = df['ESPEC'].astype(np.int8)"
   ]
  },
  {
   "cell_type": "markdown",
   "metadata": {},
   "source": [
    "#### CGC_HOSP"
   ]
  },
  {
   "cell_type": "code",
   "execution_count": 20,
   "metadata": {},
   "outputs": [
    {
     "name": "stdout",
     "output_type": "stream",
     "text": [
      "Null count: 1583013 out of 6673242 rows\n"
     ]
    },
    {
     "data": {
      "text/plain": [
       "min    1.508100e+10\n",
       "max    9.871488e+13\n",
       "Name: CGC_HOSP, dtype: float64"
      ]
     },
     "execution_count": 20,
     "metadata": {},
     "output_type": "execute_result"
    }
   ],
   "source": [
    "col = 'CGC_HOSP'\n",
    "\n",
    "print(f'Null count: {df[col].isna().sum()} out of {len(df[col])} rows')\n",
    "df[col].agg(['min', 'max'])"
   ]
  },
  {
   "cell_type": "code",
   "execution_count": 21,
   "metadata": {},
   "outputs": [
    {
     "data": {
      "text/plain": [
       "3319"
      ]
     },
     "execution_count": 21,
     "metadata": {},
     "output_type": "execute_result"
    }
   ],
   "source": [
    "len(df['CGC_HOSP'].value_counts())"
   ]
  },
  {
   "cell_type": "code",
   "execution_count": 22,
   "metadata": {},
   "outputs": [
    {
     "data": {
      "text/plain": [
       "Espaço_CSV    53386068\n",
       "Test_INT          <NA>\n",
       "Test_FLOAT    53386068\n",
       "Test_CAT      13505304\n",
       "Test_OBJ      53386068\n",
       "Name: CGC_HOSP, dtype: object"
      ]
     },
     "execution_count": 22,
     "metadata": {},
     "output_type": "execute_result"
    }
   ],
   "source": [
    "col = 'CGC_HOSP'\n",
    "\n",
    "# int \n",
    "if df[col].isna().sum() == 0:\n",
    "    df[col] = df[col].astype(np.int8)\n",
    "\n",
    "    a = df[col].memory_usage()\n",
    "    memoryUsage.loc[col, 'Test_INT'] = a\n",
    "\n",
    "# cat\n",
    "df[col] = df[col].astype(\"category\")\n",
    "\n",
    "a = df[col].memory_usage()\n",
    "memoryUsage.loc[col, 'Test_CAT'] = a\n",
    "\n",
    "# float\n",
    "df[col] = df[col].astype(np.float64)\n",
    "\n",
    "a = df[col].memory_usage()\n",
    "memoryUsage.loc[col, 'Test_FLOAT'] = a\n",
    "\n",
    "# object\n",
    "df[col] = df[col].astype('object')\n",
    "\n",
    "a = df[col].memory_usage()\n",
    "memoryUsage.loc[col, 'Test_OBJ'] = a\n",
    "\n",
    "memoryUsage.loc[col]"
   ]
  },
  {
   "cell_type": "code",
   "execution_count": null,
   "metadata": {},
   "outputs": [],
   "source": [
    "df['CGC_HOSP'] = df['CGC_HOSP'].astype(\"category\")"
   ]
  },
  {
   "cell_type": "markdown",
   "metadata": {},
   "source": [
    "#### N_AIH"
   ]
  },
  {
   "cell_type": "code",
   "execution_count": 23,
   "metadata": {},
   "outputs": [
    {
     "name": "stdout",
     "output_type": "stream",
     "text": [
      "Null count: 0 out of 6673242 rows\n"
     ]
    },
    {
     "data": {
      "text/plain": [
       "min    1111100015388\n",
       "max    9912300083587\n",
       "Name: N_AIH, dtype: int64"
      ]
     },
     "execution_count": 23,
     "metadata": {},
     "output_type": "execute_result"
    }
   ],
   "source": [
    "col = 'N_AIH'\n",
    "\n",
    "print(f'Null count: {df[col].isna().sum()} out of {len(df[col])} rows')\n",
    "df[col].agg(['min', 'max'])"
   ]
  },
  {
   "cell_type": "code",
   "execution_count": 24,
   "metadata": {},
   "outputs": [
    {
     "data": {
      "text/plain": [
       "Espaço_CSV     53386068\n",
       "Test_INT       53386068\n",
       "Test_FLOAT     53386068\n",
       "Test_CAT      349677452\n",
       "Test_OBJ       53386068\n",
       "Name: N_AIH, dtype: object"
      ]
     },
     "execution_count": 24,
     "metadata": {},
     "output_type": "execute_result"
    }
   ],
   "source": [
    "col = 'N_AIH'\n",
    "\n",
    "# int \n",
    "if df[col].isna().sum() == 0:\n",
    "    df[col] = df[col].astype(np.int64)\n",
    "\n",
    "    a = df[col].memory_usage()\n",
    "    memoryUsage.loc[col, 'Test_INT'] = a\n",
    "\n",
    "# cat\n",
    "df[col] = df[col].astype(\"category\")\n",
    "\n",
    "a = df[col].memory_usage()\n",
    "memoryUsage.loc[col, 'Test_CAT'] = a\n",
    "\n",
    "# float\n",
    "df[col] = df[col].astype(np.float64)\n",
    "\n",
    "a = df[col].memory_usage()\n",
    "memoryUsage.loc[col, 'Test_FLOAT'] = a\n",
    "\n",
    "# object\n",
    "df[col] = df[col].astype('object')\n",
    "\n",
    "a = df[col].memory_usage()\n",
    "memoryUsage.loc[col, 'Test_OBJ'] = a\n",
    "\n",
    "memoryUsage.loc[col]"
   ]
  },
  {
   "cell_type": "code",
   "execution_count": 25,
   "metadata": {},
   "outputs": [],
   "source": [
    "df[col] = df[col].astype(np.int64)"
   ]
  },
  {
   "cell_type": "markdown",
   "metadata": {},
   "source": [
    "#### IDENT"
   ]
  },
  {
   "cell_type": "code",
   "execution_count": 26,
   "metadata": {},
   "outputs": [
    {
     "name": "stdout",
     "output_type": "stream",
     "text": [
      "Null count: 0 out of 6673242 rows\n"
     ]
    },
    {
     "data": {
      "text/plain": [
       "min    1\n",
       "max    5\n",
       "Name: IDENT, dtype: int64"
      ]
     },
     "execution_count": 26,
     "metadata": {},
     "output_type": "execute_result"
    }
   ],
   "source": [
    "col = 'IDENT'\n",
    "\n",
    "print(f'Null count: {df[col].isna().sum()} out of {len(df[col])} rows')\n",
    "df[col].agg(['min', 'max'])"
   ]
  },
  {
   "cell_type": "code",
   "execution_count": 27,
   "metadata": {},
   "outputs": [
    {
     "data": {
      "text/plain": [
       "Espaço_CSV    53386068\n",
       "Test_INT       6673374\n",
       "Test_FLOAT    13346616\n",
       "Test_CAT       6673456\n",
       "Test_OBJ      53386068\n",
       "Name: IDENT, dtype: object"
      ]
     },
     "execution_count": 27,
     "metadata": {},
     "output_type": "execute_result"
    }
   ],
   "source": [
    "col = 'IDENT'\n",
    "\n",
    "# int \n",
    "if df[col].isna().sum() == 0:\n",
    "    df[col] = df[col].astype(np.int8)\n",
    "\n",
    "    a = df[col].memory_usage()\n",
    "    memoryUsage.loc[col, 'Test_INT'] = a\n",
    "\n",
    "# cat\n",
    "df[col] = df[col].astype(\"category\")\n",
    "\n",
    "a = df[col].memory_usage()\n",
    "memoryUsage.loc[col, 'Test_CAT'] = a\n",
    "\n",
    "# float\n",
    "df[col] = df[col].astype(np.float16)\n",
    "\n",
    "a = df[col].memory_usage()\n",
    "memoryUsage.loc[col, 'Test_FLOAT'] = a\n",
    "\n",
    "# object\n",
    "df[col] = df[col].astype('object')\n",
    "\n",
    "a = df[col].memory_usage()\n",
    "memoryUsage.loc[col, 'Test_OBJ'] = a\n",
    "\n",
    "memoryUsage.loc[col]"
   ]
  },
  {
   "cell_type": "code",
   "execution_count": 28,
   "metadata": {},
   "outputs": [],
   "source": [
    "df[col] = df[col].astype(np.int8)"
   ]
  },
  {
   "cell_type": "markdown",
   "metadata": {},
   "source": [
    "#### CEP"
   ]
  },
  {
   "cell_type": "code",
   "execution_count": 41,
   "metadata": {},
   "outputs": [
    {
     "name": "stdout",
     "output_type": "stream",
     "text": [
      "Null count: 0 out of 6673242 rows\n"
     ]
    },
    {
     "data": {
      "text/plain": [
       "min     1001000\n",
       "max    99990000\n",
       "Name: CEP, dtype: int64"
      ]
     },
     "execution_count": 41,
     "metadata": {},
     "output_type": "execute_result"
    }
   ],
   "source": [
    "col = 'CEP'\n",
    "\n",
    "print(f'Null count: {df[col].isna().sum()} out of {len(df[col])} rows')\n",
    "df[col].agg(['min', 'max'])"
   ]
  },
  {
   "cell_type": "code",
   "execution_count": 62,
   "metadata": {},
   "outputs": [
    {
     "name": "stdout",
     "output_type": "stream",
     "text": [
      "int32\n"
     ]
    },
    {
     "data": {
      "text/plain": [
       "Espaço_CSV    53386068\n",
       "Test_INT      26693100\n",
       "Test_FLOAT    26693100\n",
       "Test_CAT      41147920\n",
       "Test_OBJ      53386068\n",
       "Name: CEP, dtype: object"
      ]
     },
     "execution_count": 62,
     "metadata": {},
     "output_type": "execute_result"
    }
   ],
   "source": [
    "retorno = type_test(df, memoryUsage, 'CEP')\n",
    "print(retorno)\n",
    "memoryUsage.loc['CEP']\n"
   ]
  },
  {
   "cell_type": "code",
   "execution_count": 63,
   "metadata": {},
   "outputs": [],
   "source": [
    "df['CEP'] = df['CEP'].astype(retorno)"
   ]
  },
  {
   "cell_type": "code",
   "execution_count": 64,
   "metadata": {},
   "outputs": [
    {
     "name": "stdout",
     "output_type": "stream",
     "text": [
      "<class 'pandas.core.series.Series'>\n",
      "RangeIndex: 6673242 entries, 0 to 6673241\n",
      "Series name: CEP\n",
      "Non-Null Count    Dtype\n",
      "--------------    -----\n",
      "6673242 non-null  int32\n",
      "dtypes: int32(1)\n",
      "memory usage: 25.5 MB\n"
     ]
    }
   ],
   "source": [
    "df['CEP'].info()"
   ]
  },
  {
   "cell_type": "markdown",
   "metadata": {},
   "source": [
    "#### MUNIC_RES"
   ]
  },
  {
   "cell_type": "code",
   "execution_count": 65,
   "metadata": {},
   "outputs": [
    {
     "name": "stdout",
     "output_type": "stream",
     "text": [
      "Null count: 0 out of 6673242 rows\n"
     ]
    },
    {
     "data": {
      "text/plain": [
       "min    110001\n",
       "max    530180\n",
       "Name: MUNIC_RES, dtype: int64"
      ]
     },
     "execution_count": 65,
     "metadata": {},
     "output_type": "execute_result"
    }
   ],
   "source": [
    "col = 'MUNIC_RES'\n",
    "\n",
    "print(f'Null count: {df[col].isna().sum()} out of {len(df[col])} rows')\n",
    "df[col].agg(['min', 'max'])"
   ]
  },
  {
   "cell_type": "code",
   "execution_count": 67,
   "metadata": {},
   "outputs": [
    {
     "name": "stdout",
     "output_type": "stream",
     "text": [
      "category\n"
     ]
    },
    {
     "data": {
      "text/plain": [
       "Espaço_CSV    53386068\n",
       "Test_INT      26693100\n",
       "Test_FLOAT    26693100\n",
       "Test_CAT      13523416\n",
       "Test_OBJ      53386068\n",
       "Name: MUNIC_RES, dtype: object"
      ]
     },
     "execution_count": 67,
     "metadata": {},
     "output_type": "execute_result"
    }
   ],
   "source": [
    "retorno = type_test(df, memoryUsage, 'MUNIC_RES')\n",
    "print(retorno)\n",
    "memoryUsage.loc['MUNIC_RES']"
   ]
  },
  {
   "cell_type": "code",
   "execution_count": 68,
   "metadata": {},
   "outputs": [],
   "source": [
    "df['MUNIC_RES'] = df['MUNIC_RES'].astype(retorno)"
   ]
  },
  {
   "cell_type": "markdown",
   "metadata": {},
   "source": [
    "#### NASC"
   ]
  },
  {
   "cell_type": "code",
   "execution_count": 69,
   "metadata": {},
   "outputs": [
    {
     "name": "stdout",
     "output_type": "stream",
     "text": [
      "Null count: 0 out of 6673242 rows\n"
     ]
    },
    {
     "data": {
      "text/plain": [
       "min    19010117\n",
       "max    20121230\n",
       "Name: NASC, dtype: int64"
      ]
     },
     "execution_count": 69,
     "metadata": {},
     "output_type": "execute_result"
    }
   ],
   "source": [
    "col = 'NASC'\n",
    "\n",
    "print(f'Null count: {df[col].isna().sum()} out of {len(df[col])} rows')\n",
    "df[col].agg(['min', 'max'])"
   ]
  },
  {
   "cell_type": "code",
   "execution_count": 72,
   "metadata": {},
   "outputs": [
    {
     "data": {
      "text/plain": [
       "Espaço_CSV    53386068\n",
       "Test_INT      26693100\n",
       "Test_FLOAT    26693100\n",
       "Test_CAT      27641116\n",
       "Test_OBJ      53386068\n",
       "Name: NASC, dtype: object"
      ]
     },
     "execution_count": 72,
     "metadata": {},
     "output_type": "execute_result"
    }
   ],
   "source": [
    "type_test(df, memoryUsage, 'NASC')\n",
    "memoryUsage.loc['NASC']"
   ]
  },
  {
   "cell_type": "code",
   "execution_count": null,
   "metadata": {},
   "outputs": [],
   "source": [
    "df.NASC.info()"
   ]
  },
  {
   "cell_type": "markdown",
   "metadata": {},
   "source": [
    "---"
   ]
  },
  {
   "cell_type": "code",
   "execution_count": null,
   "metadata": {},
   "outputs": [],
   "source": [
    "'NASC', 'SEXO', 'UTI_MES_IN', 'UTI_MES_AN',\n",
    "'UTI_MES_AL', 'UTI_MES_TO', 'MARCA_UTI', 'UTI_INT_IN', 'UTI_INT_AN',\n",
    "'UTI_INT_AL', 'UTI_INT_TO', 'DIAR_ACOM', 'QT_DIARIAS', 'PROC_SOLIC',\n",
    "'PROC_REA', 'VAL_SH', 'VAL_SP', 'VAL_SADT', 'VAL_RN', 'VAL_ACOMP',\n",
    "'VAL_ORTP', 'VAL_SANGUE', 'VAL_SADTSR', 'VAL_TRANSP', 'VAL_OBSANG',\n",
    "'VAL_PED1AC', 'VAL_TOT', 'VAL_UTI', 'US_TOT', 'DT_INTER', 'DT_SAIDA',\n",
    "'DIAG_PRINC', 'DIAG_SECUN', 'COBRANCA', 'NATUREZA', 'NAT_JUR', 'GESTAO',\n",
    "'RUBRICA', 'IND_VDRL', 'MUNIC_MOV', 'COD_IDADE', 'IDADE', 'DIAS_PERM',\n",
    "'MORTE', 'NACIONAL', 'NUM_PROC', 'CAR_INT', 'TOT_PT_SP', 'CPF_AUT',\n",
    "'HOMONIMO', 'NUM_FILHOS', 'INSTRU', 'CID_NOTIF', 'CONTRACEP1',\n",
    "'CONTRACEP2', 'GESTRISCO', 'INSC_PN', 'SEQ_AIH5', 'CBOR', 'CNAER',\n",
    "'VINCPREV', 'GESTOR_COD', 'GESTOR_TP', 'GESTOR_CPF', 'GESTOR_DT',\n",
    "'CNES', 'CNPJ_MANT', 'INFEHOSP', 'CID_ASSO', 'CID_MORTE', 'COMPLEX',\n",
    "'FINANC', 'FAEC_TP', 'REGCT', 'RACA_COR', 'ETNIA', 'SEQUENCIA',\n",
    "'REMESSA', 'AUD_JUST', 'SIS_JUST', 'VAL_SH_FED', 'VAL_SP_FED',\n",
    "'VAL_SH_GES', 'VAL_SP_GES'"
   ]
  }
 ],
 "metadata": {
  "kernelspec": {
   "display_name": "Python 3 (ipykernel)",
   "language": "python",
   "name": "python3"
  }
 },
 "nbformat": 4,
 "nbformat_minor": 2
}
