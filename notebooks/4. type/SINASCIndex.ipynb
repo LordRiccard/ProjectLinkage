{
 "cells": [
  {
   "cell_type": "code",
   "execution_count": 5,
   "metadata": {},
   "outputs": [],
   "source": [
    "import pandas as pd\n",
    "import glob\n",
    "import gc"
   ]
  },
  {
   "cell_type": "markdown",
   "metadata": {},
   "source": [
    "## Functions and Variables"
   ]
  },
  {
   "cell_type": "code",
   "execution_count": 1,
   "metadata": {},
   "outputs": [],
   "source": [
    "def find_files(path, pattern):\n",
    "    files = glob.glob(f'{path}/{pattern}')\n",
    "    # print(files)\n",
    "    # print(len(files))\n",
    "\n",
    "    return files"
   ]
  },
  {
   "cell_type": "code",
   "execution_count": 2,
   "metadata": {},
   "outputs": [],
   "source": [
    "# Creates a column called index in the dataframe\n",
    "# this column will have the format:\n",
    "# prefix + 0000001 (Ex. 310.000.001) to prefix + length of dataframe (Ex. 312.123.942)\n",
    "\n",
    "def add_index(df, prefix):\n",
    "    size = len(df)\n",
    "    prefix = prefix * 10**len(str(size)) + 1\n",
    "\n",
    "    df['index'] = range(prefix, prefix + size)\n",
    "    df.set_index('index', inplace=True)"
   ]
  },
  {
   "cell_type": "code",
   "execution_count": 3,
   "metadata": {},
   "outputs": [],
   "source": [
    "def safe_delete(df, list_columns):\n",
    "    for item in list_columns:\n",
    "        if item in df.columns:\n",
    "            df = df.drop(item, axis=1)\n",
    "    \n",
    "    return df"
   ]
  },
  {
   "cell_type": "code",
   "execution_count": 6,
   "metadata": {},
   "outputs": [
    {
     "data": {
      "text/plain": [
       "['D:\\\\_repositories\\\\Aggregation\\\\SINASC - Dtype Corrigido\\\\parquet\\\\DN2012.parquet',\n",
       " 'D:\\\\_repositories\\\\Aggregation\\\\SINASC - Dtype Corrigido\\\\parquet\\\\DN2013.parquet',\n",
       " 'D:\\\\_repositories\\\\Aggregation\\\\SINASC - Dtype Corrigido\\\\parquet\\\\DN2014.parquet',\n",
       " 'D:\\\\_repositories\\\\Aggregation\\\\SINASC - Dtype Corrigido\\\\parquet\\\\DN2015.parquet',\n",
       " 'D:\\\\_repositories\\\\Aggregation\\\\SINASC - Dtype Corrigido\\\\parquet\\\\DN2016.parquet',\n",
       " 'D:\\\\_repositories\\\\Aggregation\\\\SINASC - Dtype Corrigido\\\\parquet\\\\DN2017.parquet',\n",
       " 'D:\\\\_repositories\\\\Aggregation\\\\SINASC - Dtype Corrigido\\\\parquet\\\\DN2018.parquet',\n",
       " 'D:\\\\_repositories\\\\Aggregation\\\\SINASC - Dtype Corrigido\\\\parquet\\\\DN2019.parquet',\n",
       " 'D:\\\\_repositories\\\\Aggregation\\\\SINASC - Dtype Corrigido\\\\parquet\\\\DN2020.parquet',\n",
       " 'D:\\\\_repositories\\\\Aggregation\\\\SINASC - Dtype Corrigido\\\\parquet\\\\DN2021.parquet',\n",
       " 'D:\\\\_repositories\\\\Aggregation\\\\SINASC - Dtype Corrigido\\\\parquet\\\\DN2022.parquet']"
      ]
     },
     "execution_count": 6,
     "metadata": {},
     "output_type": "execute_result"
    }
   ],
   "source": [
    "files = find_files('D:\\\\_repositories\\\\Aggregation\\\\SINASC - Dtype Corrigido\\\\parquet', \n",
    "                   '*.parquet')\n",
    "files"
   ]
  },
  {
   "cell_type": "markdown",
   "metadata": {},
   "source": [
    "---"
   ]
  },
  {
   "cell_type": "markdown",
   "metadata": {},
   "source": [
    "## Processing"
   ]
  },
  {
   "cell_type": "code",
   "execution_count": 9,
   "metadata": {},
   "outputs": [],
   "source": [
    "inicial_ano = 12 # ano em processamento\n",
    "lista_incompleto = []\n",
    "\n",
    "for item in files:\n",
    "    df = pd.read_parquet(item)\n",
    "\n",
    "    # Index\n",
    "    add_index(df, int('2' + str(inicial_ano)))\n",
    "\n",
    "    # Deleting past index columns\n",
    "    df = safe_delete(df, ['Unnamed: 0', 'Unnamed: 0.1'])\n",
    "\n",
    "    # Saving to parquet\n",
    "    try: \n",
    "        df.to_parquet(f'D:/_repositories/Aggregation/SINASC - Index adicionado/DN20{inicial_ano}.parquet')\n",
    "    except pa.ArrowInvalid:\n",
    "        lista_incompleto.append(item)\n",
    "    \n",
    "    inicial_ano += 1\n",
    "\n",
    "    # Memory safety\n",
    "    del df\n",
    "    gc.collect()"
   ]
  }
 ],
 "metadata": {
  "kernelspec": {
   "display_name": "Python 3 (ipykernel)",
   "language": "python",
   "name": "python3"
  }
 },
 "nbformat": 4,
 "nbformat_minor": 2
}
