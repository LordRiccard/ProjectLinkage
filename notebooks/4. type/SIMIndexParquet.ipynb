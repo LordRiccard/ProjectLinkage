{
 "cells": [
  {
   "cell_type": "code",
   "execution_count": 15,
   "metadata": {},
   "outputs": [],
   "source": [
    "import pandas as pd\n",
    "import glob\n",
    "import gc\n",
    "import numpy as np\n",
    "import pyarrow as pa"
   ]
  },
  {
   "cell_type": "markdown",
   "metadata": {},
   "source": [
    "## Functions and Variables"
   ]
  },
  {
   "cell_type": "code",
   "execution_count": 1,
   "metadata": {},
   "outputs": [],
   "source": [
    "def find_files(path, pattern):\n",
    "    files = glob.glob(f'{path}/{pattern}')\n",
    "    # print(files)\n",
    "    # print(len(files))\n",
    "\n",
    "    return files"
   ]
  },
  {
   "cell_type": "code",
   "execution_count": 2,
   "metadata": {},
   "outputs": [],
   "source": [
    "# Creates a column called index in the dataframe\n",
    "# this column will have the format:\n",
    "# prefix + 0000001 (Ex. 310.000.001) to prefix + length of dataframe (Ex. 312.123.942)\n",
    "\n",
    "def add_index(df, prefix):\n",
    "    size = len(df)\n",
    "    prefix = prefix * 10**len(str(size)) + 1\n",
    "\n",
    "    df['index'] = range(prefix, prefix + size)\n",
    "    df.set_index('index', inplace=True)"
   ]
  },
  {
   "cell_type": "code",
   "execution_count": 3,
   "metadata": {},
   "outputs": [],
   "source": [
    "def safe_delete(df, list_columns):\n",
    "    for item in list_columns:\n",
    "        if item in df.columns:\n",
    "            df = df.drop(item, axis=1)\n",
    "    \n",
    "    return df"
   ]
  },
  {
   "cell_type": "code",
   "execution_count": 7,
   "metadata": {},
   "outputs": [
    {
     "data": {
      "text/plain": [
       "['D:\\\\_repositories\\\\Aggregation\\\\SIM\\\\1. Concatenado\\\\SIM2012.csv',\n",
       " 'D:\\\\_repositories\\\\Aggregation\\\\SIM\\\\1. Concatenado\\\\SIM2013.csv',\n",
       " 'D:\\\\_repositories\\\\Aggregation\\\\SIM\\\\1. Concatenado\\\\SIM2014.csv',\n",
       " 'D:\\\\_repositories\\\\Aggregation\\\\SIM\\\\1. Concatenado\\\\SIM2015.csv',\n",
       " 'D:\\\\_repositories\\\\Aggregation\\\\SIM\\\\1. Concatenado\\\\SIM2016.csv',\n",
       " 'D:\\\\_repositories\\\\Aggregation\\\\SIM\\\\1. Concatenado\\\\SIM2017.csv',\n",
       " 'D:\\\\_repositories\\\\Aggregation\\\\SIM\\\\1. Concatenado\\\\SIM2018.csv',\n",
       " 'D:\\\\_repositories\\\\Aggregation\\\\SIM\\\\1. Concatenado\\\\SIM2019.csv',\n",
       " 'D:\\\\_repositories\\\\Aggregation\\\\SIM\\\\1. Concatenado\\\\SIM2020.csv',\n",
       " 'D:\\\\_repositories\\\\Aggregation\\\\SIM\\\\1. Concatenado\\\\SIM2021.csv',\n",
       " 'D:\\\\_repositories\\\\Aggregation\\\\SIM\\\\1. Concatenado\\\\SIM2022.csv']"
      ]
     },
     "execution_count": 7,
     "metadata": {},
     "output_type": "execute_result"
    }
   ],
   "source": [
    "files = find_files('D:\\\\_repositories\\\\Aggregation\\\\SIM\\\\1. Concatenado', \n",
    "                   '*.csv')\n",
    "files"
   ]
  },
  {
   "cell_type": "markdown",
   "metadata": {},
   "source": [
    "---"
   ]
  },
  {
   "cell_type": "markdown",
   "metadata": {},
   "source": [
    "## Processing"
   ]
  },
  {
   "cell_type": "code",
   "execution_count": 26,
   "metadata": {},
   "outputs": [
    {
     "name": "stderr",
     "output_type": "stream",
     "text": [
      "C:\\Users\\ricmo\\AppData\\Local\\Temp\\ipykernel_5408\\321044736.py:5: DtypeWarning: Columns (24,52,53,54,63,64,65,66,67,91,93) have mixed types. Specify dtype option on import or set low_memory=False.\n",
      "  df = pd.read_csv(item)\n",
      "C:\\Users\\ricmo\\AppData\\Local\\Temp\\ipykernel_5408\\321044736.py:5: DtypeWarning: Columns (24,91,93) have mixed types. Specify dtype option on import or set low_memory=False.\n",
      "  df = pd.read_csv(item)\n",
      "C:\\Users\\ricmo\\AppData\\Local\\Temp\\ipykernel_5408\\321044736.py:5: DtypeWarning: Columns (93) have mixed types. Specify dtype option on import or set low_memory=False.\n",
      "  df = pd.read_csv(item)\n",
      "C:\\Users\\ricmo\\AppData\\Local\\Temp\\ipykernel_5408\\321044736.py:5: DtypeWarning: Columns (93) have mixed types. Specify dtype option on import or set low_memory=False.\n",
      "  df = pd.read_csv(item)\n",
      "C:\\Users\\ricmo\\AppData\\Local\\Temp\\ipykernel_5408\\321044736.py:5: DtypeWarning: Columns (92) have mixed types. Specify dtype option on import or set low_memory=False.\n",
      "  df = pd.read_csv(item)\n",
      "C:\\Users\\ricmo\\AppData\\Local\\Temp\\ipykernel_5408\\321044736.py:5: DtypeWarning: Columns (91) have mixed types. Specify dtype option on import or set low_memory=False.\n",
      "  df = pd.read_csv(item)\n",
      "C:\\Users\\ricmo\\AppData\\Local\\Temp\\ipykernel_5408\\321044736.py:5: DtypeWarning: Columns (91) have mixed types. Specify dtype option on import or set low_memory=False.\n",
      "  df = pd.read_csv(item)\n",
      "C:\\Users\\ricmo\\AppData\\Local\\Temp\\ipykernel_5408\\321044736.py:5: DtypeWarning: Columns (91) have mixed types. Specify dtype option on import or set low_memory=False.\n",
      "  df = pd.read_csv(item)\n",
      "C:\\Users\\ricmo\\AppData\\Local\\Temp\\ipykernel_5408\\321044736.py:5: DtypeWarning: Columns (91) have mixed types. Specify dtype option on import or set low_memory=False.\n",
      "  df = pd.read_csv(item)\n"
     ]
    }
   ],
   "source": [
    "inicial_ano = 12 # ano em processamento\n",
    "lista_incompleto = []\n",
    "\n",
    "for item in files:\n",
    "    df = pd.read_csv(item)\n",
    "\n",
    "    # Index\n",
    "    add_index(df, int('1' + str(inicial_ano)))\n",
    "\n",
    "    # Deleting past index columns\n",
    "    df = safe_delete(df, ['Unnamed: 0', 'Unnamed: 0.1'])\n",
    "\n",
    "    # Dtype\n",
    "    df = df.convert_dtypes()\n",
    "    treat_columns(df)\n",
    "    df = df.drop_duplicates()\n",
    "\n",
    "    # Saving to parquet\n",
    "    try: \n",
    "        df.to_parquet(f'D:/_repositories/Aggregation/SIM/2. Index e Parquet/SIM20{inicial_ano}.parquet')\n",
    "    except pa.ArrowInvalid:\n",
    "        lista_incompleto.append(item)\n",
    "    \n",
    "    inicial_ano += 1\n",
    "\n",
    "    # Memory safety\n",
    "    del df\n",
    "    gc.collect()"
   ]
  },
  {
   "cell_type": "code",
   "execution_count": 19,
   "metadata": {},
   "outputs": [
    {
     "data": {
      "text/plain": [
       "['D:\\\\_repositories\\\\Aggregation\\\\SIM\\\\1. Concatenado\\\\SIM2014.csv']"
      ]
     },
     "execution_count": 19,
     "metadata": {},
     "output_type": "execute_result"
    }
   ],
   "source": [
    "lista_incompleto"
   ]
  },
  {
   "cell_type": "markdown",
   "metadata": {},
   "source": [
    "---"
   ]
  },
  {
   "cell_type": "markdown",
   "metadata": {},
   "source": [
    "## Individual file handling"
   ]
  },
  {
   "cell_type": "markdown",
   "metadata": {},
   "source": [
    "#### SIM2014.csv"
   ]
  },
  {
   "cell_type": "code",
   "execution_count": 28,
   "metadata": {},
   "outputs": [
    {
     "name": "stderr",
     "output_type": "stream",
     "text": [
      "C:\\Users\\ricmo\\AppData\\Local\\Temp\\ipykernel_5408\\955476419.py:1: DtypeWarning: Columns (24,52,53,54,63,64,65,66,67,91,93) have mixed types. Specify dtype option on import or set low_memory=False.\n",
      "  df = pd.read_csv('D:\\\\_repositories\\\\Aggregation\\\\SIM\\\\1. Concatenado\\\\SIM2014.csv')\n"
     ]
    }
   ],
   "source": [
    "df = pd.read_csv('D:\\\\_repositories\\\\Aggregation\\\\SIM\\\\1. Concatenado\\\\SIM2014.csv')\n",
    "add_index(df, int('1' + str(14)))\n",
    "df = safe_delete(df, ['Unnamed: 0', 'Unnamed: 0.1'])"
   ]
  },
  {
   "cell_type": "code",
   "execution_count": 30,
   "metadata": {},
   "outputs": [],
   "source": [
    "df = df.convert_dtypes()\n",
    "treat_columns(df)\n",
    "df = df.drop_duplicates()"
   ]
  },
  {
   "cell_type": "code",
   "execution_count": 48,
   "metadata": {},
   "outputs": [],
   "source": [
    "df.to_parquet('D:/_repositories/Aggregation/SIM/2. Index e Parquet/SIM2014.parquet')"
   ]
  },
  {
   "cell_type": "markdown",
   "metadata": {},
   "source": [
    "##### Coluna CRM"
   ]
  },
  {
   "cell_type": "code",
   "execution_count": 37,
   "metadata": {},
   "outputs": [
    {
     "name": "stderr",
     "output_type": "stream",
     "text": [
      "C:\\Users\\ricmo\\AppData\\Local\\Temp\\ipykernel_5408\\1533685486.py:1: SettingWithCopyWarning: \n",
      "A value is trying to be set on a copy of a slice from a DataFrame\n",
      "\n",
      "See the caveats in the documentation: https://pandas.pydata.org/pandas-docs/stable/user_guide/indexing.html#returning-a-view-versus-a-copy\n",
      "  df['CRM'].loc[df['CRM'] == 'CRM 59299'] = 59299\n",
      "C:\\Users\\ricmo\\AppData\\Local\\Temp\\ipykernel_5408\\1533685486.py:2: SettingWithCopyWarning: \n",
      "A value is trying to be set on a copy of a slice from a DataFrame\n",
      "\n",
      "See the caveats in the documentation: https://pandas.pydata.org/pandas-docs/stable/user_guide/indexing.html#returning-a-view-versus-a-copy\n",
      "  df['CRM'].loc[df['CRM'] == '9852- SVO'] = 9852\n"
     ]
    }
   ],
   "source": [
    "df['CRM'].loc[df['CRM'] == 'CRM 59299'] = 59299\n",
    "df['CRM'].loc[df['CRM'] == '9852- SVO'] = 9852\n",
    "\n",
    "df['CRM'] = df['CRM'].astype('Float64')\n",
    "df['CRM'] = df['CRM'].astype('Int64')"
   ]
  }
 ],
 "metadata": {
  "kernelspec": {
   "display_name": "Python 3 (ipykernel)",
   "language": "python",
   "name": "python3"
  },
  "language_info": {
   "codemirror_mode": {
    "name": "ipython",
    "version": 3
   },
   "file_extension": ".py",
   "mimetype": "text/x-python",
   "name": "python",
   "nbconvert_exporter": "python",
   "pygments_lexer": "ipython3",
   "version": "3.12.4"
  }
 },
 "nbformat": 4,
 "nbformat_minor": 2
}
