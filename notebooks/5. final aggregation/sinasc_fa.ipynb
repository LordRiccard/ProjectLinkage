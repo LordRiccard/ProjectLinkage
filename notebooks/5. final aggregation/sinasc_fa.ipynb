{
 "cells": [
  {
   "cell_type": "code",
   "execution_count": 1,
   "id": "0535273d-9cb7-4449-ac14-11194549293a",
   "metadata": {},
   "outputs": [],
   "source": [
    "import pandas as pd\n",
    "import glob\n",
    "import numpy as np"
   ]
  },
  {
   "cell_type": "code",
   "execution_count": 2,
   "id": "76453985-6c45-4376-ba2c-ddb3e9b2d339",
   "metadata": {},
   "outputs": [],
   "source": [
    "def type_test(df, col):\n",
    "    try:\n",
    "        menor_tipo = df[col].dtype\n",
    "    except KeyError:\n",
    "        raise ValueError\n",
    "    menor_memo = df[col].memory_usage()\n",
    "\n",
    "    # int \n",
    "    if df[col].isna().sum() == 0:\n",
    "        try:\n",
    "            aux = pd.to_numeric(df[col], downcast='integer')\n",
    "\n",
    "            a = aux.memory_usage()\n",
    "\n",
    "            if menor_memo > a:\n",
    "                menor_tipo = aux.dtype\n",
    "                menor_memo = a\n",
    "        except ValueError:\n",
    "            # print(f'Coluna {col} - int value error')\n",
    "            pass\n",
    "\n",
    "    # category\n",
    "    try: \n",
    "        aux = df[col].astype(\"category\")\n",
    "\n",
    "        a = aux.memory_usage()\n",
    "\n",
    "        if menor_memo > a:\n",
    "            menor_tipo = aux.dtype\n",
    "            menor_memo = a\n",
    "    except ValueError:\n",
    "        # print(f'Coluna {col} - cal value error')\n",
    "        pass\n",
    "\n",
    "    # float\n",
    "    try:\n",
    "        aux = pd.to_numeric(df[col], downcast='float')\n",
    "\n",
    "        a = aux.memory_usage()\n",
    "\n",
    "        if menor_memo > a:\n",
    "            menor_tipo = aux.dtype\n",
    "            menor_memo = a\n",
    "    except ValueError:\n",
    "        # print(f'Coluna {col} - float value error')\n",
    "        pass\n",
    "\n",
    "    # return menor_tipo\n",
    "    if menor_tipo == 'category':\n",
    "        df[col] = df[col].astype(str).astype('category')\n",
    "    else:\n",
    "        df[col] = df[col].astype(menor_tipo)"
   ]
  },
  {
   "cell_type": "code",
   "execution_count": 26,
   "id": "c2b3096c-06d3-4438-908c-109d623b03f4",
   "metadata": {},
   "outputs": [
    {
     "data": {
      "text/plain": [
       "['SINASC\\\\DN2012.parquet',\n",
       " 'SINASC\\\\DN2013.parquet',\n",
       " 'SINASC\\\\DN2014.parquet',\n",
       " 'SINASC\\\\DN2015.parquet',\n",
       " 'SINASC\\\\DN2016.parquet',\n",
       " 'SINASC\\\\DN2017.parquet',\n",
       " 'SINASC\\\\DN2018.parquet',\n",
       " 'SINASC\\\\DN2019.parquet',\n",
       " 'SINASC\\\\DN2020.parquet',\n",
       " 'SINASC\\\\DN2021.parquet',\n",
       " 'SINASC\\\\DN2022.parquet']"
      ]
     },
     "execution_count": 26,
     "metadata": {},
     "output_type": "execute_result"
    }
   ],
   "source": [
    "files = glob.glob('SINASC/*parquet')\n",
    "files"
   ]
  },
  {
   "cell_type": "markdown",
   "id": "60a141a1-154f-4430-bf02-c22a20647e44",
   "metadata": {},
   "source": [
    "---"
   ]
  },
  {
   "cell_type": "markdown",
   "id": "17dbd7db-a467-4683-b1a8-9275cc5a9aa2",
   "metadata": {},
   "source": [
    "## Tipos"
   ]
  },
  {
   "cell_type": "code",
   "execution_count": 40,
   "id": "33538022-741f-486c-b838-e69162543a95",
   "metadata": {},
   "outputs": [],
   "source": [
    "ano = 13\n",
    "for item in files[1:]:\n",
    "    df = pd.read_parquet(item)\n",
    "\n",
    "    for i in df.columns:\n",
    "        type_test(df, i)\n",
    "\n",
    "    df.to_parquet(f'test/DN20{ano}.parquet')\n",
    "    ano+=1"
   ]
  },
  {
   "cell_type": "markdown",
   "id": "990ed3ee-d62f-4109-90d5-bd8ee27c9197",
   "metadata": {},
   "source": [
    "## Concatenação"
   ]
  },
  {
   "cell_type": "code",
   "execution_count": 47,
   "id": "08b8f2be-372b-48fc-b07f-a801c8b70126",
   "metadata": {},
   "outputs": [
    {
     "data": {
      "text/plain": [
       "['test\\\\DN2012.parquet',\n",
       " 'test\\\\DN2013.parquet',\n",
       " 'test\\\\DN2014.parquet',\n",
       " 'test\\\\DN2015.parquet',\n",
       " 'test\\\\DN2016.parquet',\n",
       " 'test\\\\DN2017.parquet',\n",
       " 'test\\\\DN2018.parquet',\n",
       " 'test\\\\DN2019.parquet',\n",
       " 'test\\\\DN2020.parquet',\n",
       " 'test\\\\DN2021.parquet',\n",
       " 'test\\\\DN2022.parquet']"
      ]
     },
     "execution_count": 47,
     "metadata": {},
     "output_type": "execute_result"
    }
   ],
   "source": [
    "files = glob.glob('test/*parquet')\n",
    "files"
   ]
  },
  {
   "cell_type": "markdown",
   "id": "931830f5-fa98-455a-a0f2-ae0456741dc6",
   "metadata": {},
   "source": [
    "#### 2012 - 2017"
   ]
  },
  {
   "cell_type": "code",
   "execution_count": 51,
   "id": "6dad215a-8dc6-40e8-a098-0abb3adcb0ec",
   "metadata": {},
   "outputs": [],
   "source": [
    "df = pd.DataFrame()\n",
    "\n",
    "for item in files[:6]:\n",
    "    aux = pd.read_parquet(item)\n",
    "\n",
    "    df = pd.concat([aux, df], axis=0)"
   ]
  },
  {
   "cell_type": "code",
   "execution_count": 55,
   "id": "50abffbe-9610-4d00-89c8-6dbfdedcc8a0",
   "metadata": {},
   "outputs": [
    {
     "data": {
      "text/plain": [
       "10239002904"
      ]
     },
     "execution_count": 55,
     "metadata": {},
     "output_type": "execute_result"
    }
   ],
   "source": [
    "df.memory_usage().sum()"
   ]
  },
  {
   "cell_type": "code",
   "execution_count": 57,
   "id": "483aeec8-9671-40e6-b4db-873ccf169551",
   "metadata": {},
   "outputs": [],
   "source": [
    "for i in df.columns:\n",
    "    type_test(df, i)"
   ]
  },
  {
   "cell_type": "code",
   "execution_count": 58,
   "id": "0e4a57e2-a689-4790-b40d-6ebfa5c9a096",
   "metadata": {},
   "outputs": [
    {
     "data": {
      "text/plain": [
       "2064750408"
      ]
     },
     "execution_count": 58,
     "metadata": {},
     "output_type": "execute_result"
    }
   ],
   "source": [
    "df.memory_usage().sum()"
   ]
  },
  {
   "cell_type": "code",
   "execution_count": 59,
   "id": "c77e6542-7877-45d9-b9a2-26db6158efc3",
   "metadata": {},
   "outputs": [],
   "source": [
    "df.to_parquet('DNParte1.parquet')"
   ]
  },
  {
   "cell_type": "markdown",
   "id": "d84711c0-3aa1-4b80-af53-3e2fce186f12",
   "metadata": {},
   "source": [
    "#### 2018 - 2022"
   ]
  },
  {
   "cell_type": "code",
   "execution_count": 67,
   "id": "af4cc78c-077e-4b0e-906b-748fcc3ae4e1",
   "metadata": {},
   "outputs": [],
   "source": [
    "df = pd.DataFrame()\n",
    "\n",
    "for item in files[6:]:\n",
    "    aux = pd.read_parquet(item)\n",
    "\n",
    "    df = pd.concat([aux, df], axis=0)"
   ]
  },
  {
   "cell_type": "code",
   "execution_count": 68,
   "id": "0013b69f-a7ce-4f0d-a293-abd5131454dd",
   "metadata": {},
   "outputs": [
    {
     "data": {
      "text/plain": [
       "4299572311"
      ]
     },
     "execution_count": 68,
     "metadata": {},
     "output_type": "execute_result"
    }
   ],
   "source": [
    "df.memory_usage().sum()"
   ]
  },
  {
   "cell_type": "code",
   "execution_count": 69,
   "id": "d5089ea1-6435-49f6-a569-de2c3202a277",
   "metadata": {},
   "outputs": [],
   "source": [
    "for i in df.columns:\n",
    "    type_test(df, i)"
   ]
  },
  {
   "cell_type": "code",
   "execution_count": 70,
   "id": "94f19f9f-76ff-4d4e-a634-333a95028c2c",
   "metadata": {},
   "outputs": [
    {
     "data": {
      "text/plain": [
       "1355103377"
      ]
     },
     "execution_count": 70,
     "metadata": {},
     "output_type": "execute_result"
    }
   ],
   "source": [
    "df.memory_usage().sum()"
   ]
  },
  {
   "cell_type": "code",
   "execution_count": 71,
   "id": "c56737be-6e77-43f6-852e-62f16ef20286",
   "metadata": {},
   "outputs": [],
   "source": [
    "df.to_parquet('DNParte2.parquet')"
   ]
  },
  {
   "cell_type": "markdown",
   "id": "4dbe6f79-0457-4f5e-8bf2-4eb3512f1708",
   "metadata": {},
   "source": [
    "## Concatenação Final"
   ]
  },
  {
   "cell_type": "code",
   "execution_count": 82,
   "id": "6a451bc3-6801-411d-9a74-02698a9ea8bf",
   "metadata": {},
   "outputs": [],
   "source": [
    "df = pd.read_parquet('DNParte1.parquet')"
   ]
  },
  {
   "cell_type": "code",
   "execution_count": 84,
   "id": "21510d22-98e3-45ec-b9c4-a8d08e5ec5f7",
   "metadata": {},
   "outputs": [
    {
     "data": {
      "text/plain": [
       "2064750408"
      ]
     },
     "execution_count": 84,
     "metadata": {},
     "output_type": "execute_result"
    }
   ],
   "source": [
    "df.memory_usage().sum()"
   ]
  },
  {
   "cell_type": "code",
   "execution_count": 88,
   "id": "09c29d9e-b21e-47aa-b5dd-b19b0fab7187",
   "metadata": {},
   "outputs": [],
   "source": [
    "aux = pd.read_parquet('DNParte2.parquet')"
   ]
  },
  {
   "cell_type": "code",
   "execution_count": 89,
   "id": "0bbde444-c943-486c-986a-529b2fcbe019",
   "metadata": {},
   "outputs": [
    {
     "data": {
      "text/plain": [
       "1355103377"
      ]
     },
     "execution_count": 89,
     "metadata": {},
     "output_type": "execute_result"
    }
   ],
   "source": [
    "aux.memory_usage().sum()"
   ]
  },
  {
   "cell_type": "code",
   "execution_count": 92,
   "id": "49dc91ae-d0ac-4f64-9f8f-073bd7dafac6",
   "metadata": {},
   "outputs": [],
   "source": [
    "df = pd.concat([aux, df], axis=0)"
   ]
  },
  {
   "cell_type": "code",
   "execution_count": 93,
   "id": "2ff76c38-525d-46fd-926e-61552e5d233c",
   "metadata": {},
   "outputs": [
    {
     "data": {
      "text/plain": [
       "17163594340"
      ]
     },
     "execution_count": 93,
     "metadata": {},
     "output_type": "execute_result"
    }
   ],
   "source": [
    "df.memory_usage().sum()"
   ]
  },
  {
   "cell_type": "code",
   "execution_count": 96,
   "id": "dece3028-4b31-4768-ab4f-2257578e5bcb",
   "metadata": {},
   "outputs": [
    {
     "name": "stdout",
     "output_type": "stream",
     "text": [
      "<class 'pandas.core.frame.DataFrame'>\n",
      "Index: 34547849 entries, 2220000001 to 2123197707\n",
      "Data columns (total 68 columns):\n",
      " #   Column      Dtype   \n",
      "---  ------      -----   \n",
      " 0   ORIGEM      int8    \n",
      " 1   CODESTAB    object  \n",
      " 2   CODMUNNASC  object  \n",
      " 3   LOCNASC     int8    \n",
      " 4   IDADEMAE    object  \n",
      " 5   ESTCIVMAE   object  \n",
      " 6   ESCMAE      object  \n",
      " 7   CODOCUPMAE  object  \n",
      " 8   QTDFILVIVO  object  \n",
      " 9   QTDFILMORT  object  \n",
      " 10  CODMUNRES   object  \n",
      " 11  GESTACAO    object  \n",
      " 12  GRAVIDEZ    object  \n",
      " 13  PARTO       object  \n",
      " 14  CONSULTAS   object  \n",
      " 15  DTNASC      object  \n",
      " 16  HORANASC    object  \n",
      " 17  SEXO        object  \n",
      " 18  APGAR1      object  \n",
      " 19  APGAR5      object  \n",
      " 20  RACACOR     object  \n",
      " 21  PESO        object  \n",
      " 22  IDANOMAL    object  \n",
      " 23  DTCADASTRO  object  \n",
      " 24  CODANOMAL   object  \n",
      " 25  NUMEROLOTE  object  \n",
      " 26  VERSAOSIST  object  \n",
      " 27  DTRECEBIM   object  \n",
      " 28  DIFDATA     object  \n",
      " 29  DTRECORIGA  object  \n",
      " 30  NATURALMAE  object  \n",
      " 31  CODMUNNATU  object  \n",
      " 32  CODUFNATU   object  \n",
      " 33  ESCMAE2010  object  \n",
      " 34  SERIESCMAE  object  \n",
      " 35  DTNASCMAE   object  \n",
      " 36  RACACORMAE  object  \n",
      " 37  QTDGESTANT  object  \n",
      " 38  QTDPARTNOR  object  \n",
      " 39  QTDPARTCES  object  \n",
      " 40  IDADEPAI    object  \n",
      " 41  DTULTMENST  object  \n",
      " 42  SEMAGESTAC  object  \n",
      " 43  TPMETESTIM  object  \n",
      " 44  CONSPRENAT  object  \n",
      " 45  MESPRENAT   object  \n",
      " 46  TPAPRESENT  object  \n",
      " 47  STTRABPART  object  \n",
      " 48  STCESPARTO  object  \n",
      " 49  TPNASCASSI  object  \n",
      " 50  TPFUNCRESP  object  \n",
      " 51  TPDOCRESP   object  \n",
      " 52  DTDECLARAC  object  \n",
      " 53  ESCMAEAGR1  object  \n",
      " 54  STDNEPIDEM  object  \n",
      " 55  STDNNOVA    object  \n",
      " 56  CODPAISRES  object  \n",
      " 57  TPROBSON    object  \n",
      " 58  PARIDADE    object  \n",
      " 59  KOTELCHUCK  object  \n",
      " 60  CONTADOR    Int32   \n",
      " 61  contador    category\n",
      " 62  CODCART     category\n",
      " 63  CODMUNCART  category\n",
      " 64  NUMREGCART  category\n",
      " 65  DTREGCART   category\n",
      " 66  RACACORN    category\n",
      " 67  DTRECORIG   category\n",
      "dtypes: Int32(1), category(7), int8(2), object(58)\n",
      "memory usage: 16.0+ GB\n"
     ]
    }
   ],
   "source": [
    "df.info()"
   ]
  },
  {
   "cell_type": "code",
   "execution_count": 98,
   "id": "9cc999a2-2a54-48a9-ac5b-b915eb53b8f0",
   "metadata": {},
   "outputs": [],
   "source": [
    "for i in df.columns:\n",
    "    type_test(df, i)"
   ]
  },
  {
   "cell_type": "code",
   "execution_count": 99,
   "id": "b87dfa29-647f-4415-87f1-1b1e5c4d5407",
   "metadata": {},
   "outputs": [],
   "source": [
    "df.to_parquet('DN.parquet')"
   ]
  },
  {
   "cell_type": "code",
   "execution_count": 102,
   "id": "5c6133c1-4265-4c0f-9bea-9e2d0a143a76",
   "metadata": {},
   "outputs": [
    {
     "data": {
      "text/plain": [
       "3915490553"
      ]
     },
     "execution_count": 102,
     "metadata": {},
     "output_type": "execute_result"
    }
   ],
   "source": [
    "df.memory_usage().sum()"
   ]
  },
  {
   "cell_type": "code",
   "execution_count": 104,
   "id": "3d51a45d-b9e1-4b79-9b26-8f47b18d164b",
   "metadata": {},
   "outputs": [
    {
     "name": "stdout",
     "output_type": "stream",
     "text": [
      "<class 'pandas.core.frame.DataFrame'>\n",
      "Index: 34547849 entries, 2220000001 to 2123197707\n",
      "Data columns (total 68 columns):\n",
      " #   Column      Dtype   \n",
      "---  ------      -----   \n",
      " 0   ORIGEM      int8    \n",
      " 1   CODESTAB    category\n",
      " 2   CODMUNNASC  category\n",
      " 3   LOCNASC     int8    \n",
      " 4   IDADEMAE    category\n",
      " 5   ESTCIVMAE   category\n",
      " 6   ESCMAE      category\n",
      " 7   CODOCUPMAE  category\n",
      " 8   QTDFILVIVO  category\n",
      " 9   QTDFILMORT  category\n",
      " 10  CODMUNRES   category\n",
      " 11  GESTACAO    category\n",
      " 12  GRAVIDEZ    category\n",
      " 13  PARTO       category\n",
      " 14  CONSULTAS   category\n",
      " 15  DTNASC      category\n",
      " 16  HORANASC    category\n",
      " 17  SEXO        category\n",
      " 18  APGAR1      category\n",
      " 19  APGAR5      category\n",
      " 20  RACACOR     category\n",
      " 21  PESO        category\n",
      " 22  IDANOMAL    category\n",
      " 23  DTCADASTRO  category\n",
      " 24  CODANOMAL   category\n",
      " 25  NUMEROLOTE  category\n",
      " 26  VERSAOSIST  category\n",
      " 27  DTRECEBIM   category\n",
      " 28  DIFDATA     category\n",
      " 29  DTRECORIGA  category\n",
      " 30  NATURALMAE  category\n",
      " 31  CODMUNNATU  category\n",
      " 32  CODUFNATU   category\n",
      " 33  ESCMAE2010  category\n",
      " 34  SERIESCMAE  category\n",
      " 35  DTNASCMAE   category\n",
      " 36  RACACORMAE  category\n",
      " 37  QTDGESTANT  category\n",
      " 38  QTDPARTNOR  category\n",
      " 39  QTDPARTCES  category\n",
      " 40  IDADEPAI    category\n",
      " 41  DTULTMENST  category\n",
      " 42  SEMAGESTAC  category\n",
      " 43  TPMETESTIM  category\n",
      " 44  CONSPRENAT  category\n",
      " 45  MESPRENAT   category\n",
      " 46  TPAPRESENT  category\n",
      " 47  STTRABPART  category\n",
      " 48  STCESPARTO  category\n",
      " 49  TPNASCASSI  category\n",
      " 50  TPFUNCRESP  category\n",
      " 51  TPDOCRESP   category\n",
      " 52  DTDECLARAC  category\n",
      " 53  ESCMAEAGR1  category\n",
      " 54  STDNEPIDEM  category\n",
      " 55  STDNNOVA    category\n",
      " 56  CODPAISRES  category\n",
      " 57  TPROBSON    category\n",
      " 58  PARIDADE    category\n",
      " 59  KOTELCHUCK  category\n",
      " 60  CONTADOR    Int32   \n",
      " 61  contador    float32 \n",
      " 62  CODCART     category\n",
      " 63  CODMUNCART  category\n",
      " 64  NUMREGCART  category\n",
      " 65  DTREGCART   category\n",
      " 66  RACACORN    category\n",
      " 67  DTRECORIG   category\n",
      "dtypes: Int32(1), category(64), float32(1), int8(2)\n",
      "memory usage: 3.6 GB\n"
     ]
    }
   ],
   "source": [
    "df.info()"
   ]
  },
  {
   "cell_type": "markdown",
   "id": "99335ca6-ff6a-4e26-ba97-4189f2b3ada6",
   "metadata": {},
   "source": [
    "---"
   ]
  },
  {
   "cell_type": "markdown",
   "id": "bfd878d7-aa7e-4ca8-bd6e-660cd8c83fb4",
   "metadata": {
    "jp-MarkdownHeadingCollapsed": true
   },
   "source": [
    "## Outros"
   ]
  },
  {
   "cell_type": "code",
   "execution_count": 11,
   "id": "9372183b-f2d9-4c6e-b699-80f4d976bed0",
   "metadata": {},
   "outputs": [
    {
     "data": {
      "text/plain": [
       "['SINASC\\\\DN2012.parquet',\n",
       " 'SINASC\\\\DN2013.parquet',\n",
       " 'SINASC\\\\DN2014.parquet',\n",
       " 'SINASC\\\\DN2015.parquet',\n",
       " 'SINASC\\\\DN2016.parquet',\n",
       " 'SINASC\\\\DN2017.parquet']"
      ]
     },
     "execution_count": 11,
     "metadata": {},
     "output_type": "execute_result"
    }
   ],
   "source": [
    "files[:6]"
   ]
  },
  {
   "cell_type": "code",
   "execution_count": 9,
   "id": "871b52eb-d70e-4b15-90b4-92892bc30686",
   "metadata": {},
   "outputs": [
    {
     "data": {
      "text/plain": [
       "['SINASC\\\\DN2018.parquet',\n",
       " 'SINASC\\\\DN2019.parquet',\n",
       " 'SINASC\\\\DN2020.parquet',\n",
       " 'SINASC\\\\DN2021.parquet',\n",
       " 'SINASC\\\\DN2022.parquet']"
      ]
     },
     "execution_count": 9,
     "metadata": {},
     "output_type": "execute_result"
    }
   ],
   "source": [
    "files[6:]"
   ]
  },
  {
   "cell_type": "code",
   "execution_count": 27,
   "id": "49781a2a-9997-41f8-9bff-da6f06f166e6",
   "metadata": {},
   "outputs": [
    {
     "name": "stdout",
     "output_type": "stream",
     "text": [
      "SINASC\\DN2012.parquet - 3197707 | Uso da memória: Antes 1458154392 - Depois 282886693\n",
      "SINASC\\DN2013.parquet - 3197575 | Uso da memória: Antes 1717097775 - Depois 302435251\n",
      "SINASC\\DN2014.parquet - 3282309 | Uso da memória: Antes 1818399186 - Depois 294146378\n",
      "SINASC\\DN2015.parquet - 3311296 | Uso da memória: Antes 1642402816 - Depois 293330200\n",
      "SINASC\\DN2016.parquet - 3149750 | Uso da memória: Antes 1562276000 - Depois 279052292\n"
     ]
    },
    {
     "name": "stderr",
     "output_type": "stream",
     "text": [
      "C:\\Users\\ricmo\\AppData\\Local\\Temp\\ipykernel_3852\\1703892524.py:11: FutureWarning: The behavior of DataFrame concatenation with empty or all-NA entries is deprecated. In a future version, this will no longer exclude empty or all-NA columns when determining the result dtypes. To retain the old behavior, exclude the relevant entries before the concat operation.\n",
      "  df = pd.concat([aux, df], axis=0)\n"
     ]
    },
    {
     "name": "stdout",
     "output_type": "stream",
     "text": [
      "SINASC\\DN2017.parquet - 3216411 | Uso da memória: Antes 1595339856 - Depois 284980940\n"
     ]
    },
    {
     "name": "stderr",
     "output_type": "stream",
     "text": [
      "C:\\Users\\ricmo\\AppData\\Local\\Temp\\ipykernel_3852\\1703892524.py:11: FutureWarning: The behavior of DataFrame concatenation with empty or all-NA entries is deprecated. In a future version, this will no longer exclude empty or all-NA columns when determining the result dtypes. To retain the old behavior, exclude the relevant entries before the concat operation.\n",
      "  df = pd.concat([aux, df], axis=0)\n"
     ]
    }
   ],
   "source": [
    "df = pd.DataFrame()\n",
    "\n",
    "for item in files[:6]:\n",
    "    aux = pd.read_parquet(item)\n",
    "    antes = aux.memory_usage().sum()\n",
    "\n",
    "    for column in aux.columns:\n",
    "        type_test(aux, column)\n",
    "    \n",
    "    print(f'{item} - {len(aux)} | Uso da memória: Antes {antes} - Depois {aux.memory_usage().sum()}')\n",
    "    df = pd.concat([aux, df], axis=0)"
   ]
  },
  {
   "cell_type": "code",
   "execution_count": 53,
   "id": "7924b1f0-a8ce-4171-b23d-fa153f908a08",
   "metadata": {},
   "outputs": [
    {
     "name": "stdout",
     "output_type": "stream",
     "text": [
      "<class 'pandas.core.series.Series'>\n",
      "Index: 19355048 entries, 2170000001 to 2123197707\n",
      "Series name: SEXO\n",
      "Non-Null Count     Dtype   \n",
      "--------------     -----   \n",
      "19355048 non-null  category\n",
      "dtypes: category(1)\n",
      "memory usage: 166.1 MB\n"
     ]
    }
   ],
   "source": [
    "df.loc[df['SEXO'] == 'F', 'SEXO'] = 2\n",
    "df.loc[df['SEXO'] == 'M', 'SEXO'] = 1\n",
    "df.loc[df['SEXO'] == 'I', 'SEXO'] = 0\n",
    "\n",
    "df['SEXO'].info()"
   ]
  },
  {
   "cell_type": "code",
   "execution_count": 61,
   "id": "83748be6-1e6a-43eb-803e-52b0a557fa64",
   "metadata": {},
   "outputs": [],
   "source": [
    "df['SEXO'] = df['SEXO'].astype(np.int8)"
   ]
  },
  {
   "cell_type": "code",
   "execution_count": 29,
   "id": "62420647-732c-4ba7-84d9-46a1b22e6988",
   "metadata": {},
   "outputs": [
    {
     "ename": "ArrowInvalid",
     "evalue": "(\"Could not convert 'F' with type str: tried to convert to int64\", 'Conversion failed for column SEXO with type category')",
     "output_type": "error",
     "traceback": [
      "\u001b[1;31m---------------------------------------------------------------------------\u001b[0m",
      "\u001b[1;31mArrowInvalid\u001b[0m                              Traceback (most recent call last)",
      "Cell \u001b[1;32mIn[29], line 4\u001b[0m\n\u001b[0;32m      1\u001b[0m \u001b[38;5;28;01mfor\u001b[39;00m column \u001b[38;5;129;01min\u001b[39;00m df\u001b[38;5;241m.\u001b[39mcolumns:\n\u001b[0;32m      2\u001b[0m     type_test(df, column)\n\u001b[1;32m----> 4\u001b[0m df\u001b[38;5;241m.\u001b[39mto_parquet(\u001b[38;5;124m'\u001b[39m\u001b[38;5;124mDN1.parquet\u001b[39m\u001b[38;5;124m'\u001b[39m)\n",
      "File \u001b[1;32mD:\\Anaconda\\Lib\\site-packages\\pandas\\util\\_decorators.py:333\u001b[0m, in \u001b[0;36mdeprecate_nonkeyword_arguments.<locals>.decorate.<locals>.wrapper\u001b[1;34m(*args, **kwargs)\u001b[0m\n\u001b[0;32m    327\u001b[0m \u001b[38;5;28;01mif\u001b[39;00m \u001b[38;5;28mlen\u001b[39m(args) \u001b[38;5;241m>\u001b[39m num_allow_args:\n\u001b[0;32m    328\u001b[0m     warnings\u001b[38;5;241m.\u001b[39mwarn(\n\u001b[0;32m    329\u001b[0m         msg\u001b[38;5;241m.\u001b[39mformat(arguments\u001b[38;5;241m=\u001b[39m_format_argument_list(allow_args)),\n\u001b[0;32m    330\u001b[0m         \u001b[38;5;167;01mFutureWarning\u001b[39;00m,\n\u001b[0;32m    331\u001b[0m         stacklevel\u001b[38;5;241m=\u001b[39mfind_stack_level(),\n\u001b[0;32m    332\u001b[0m     )\n\u001b[1;32m--> 333\u001b[0m \u001b[38;5;28;01mreturn\u001b[39;00m func(\u001b[38;5;241m*\u001b[39margs, \u001b[38;5;241m*\u001b[39m\u001b[38;5;241m*\u001b[39mkwargs)\n",
      "File \u001b[1;32mD:\\Anaconda\\Lib\\site-packages\\pandas\\core\\frame.py:3113\u001b[0m, in \u001b[0;36mDataFrame.to_parquet\u001b[1;34m(self, path, engine, compression, index, partition_cols, storage_options, **kwargs)\u001b[0m\n\u001b[0;32m   3032\u001b[0m \u001b[38;5;250m\u001b[39m\u001b[38;5;124;03m\"\"\"\u001b[39;00m\n\u001b[0;32m   3033\u001b[0m \u001b[38;5;124;03mWrite a DataFrame to the binary parquet format.\u001b[39;00m\n\u001b[0;32m   3034\u001b[0m \n\u001b[1;32m   (...)\u001b[0m\n\u001b[0;32m   3109\u001b[0m \u001b[38;5;124;03m>>> content = f.read()\u001b[39;00m\n\u001b[0;32m   3110\u001b[0m \u001b[38;5;124;03m\"\"\"\u001b[39;00m\n\u001b[0;32m   3111\u001b[0m \u001b[38;5;28;01mfrom\u001b[39;00m \u001b[38;5;21;01mpandas\u001b[39;00m\u001b[38;5;21;01m.\u001b[39;00m\u001b[38;5;21;01mio\u001b[39;00m\u001b[38;5;21;01m.\u001b[39;00m\u001b[38;5;21;01mparquet\u001b[39;00m \u001b[38;5;28;01mimport\u001b[39;00m to_parquet\n\u001b[1;32m-> 3113\u001b[0m \u001b[38;5;28;01mreturn\u001b[39;00m to_parquet(\n\u001b[0;32m   3114\u001b[0m     \u001b[38;5;28mself\u001b[39m,\n\u001b[0;32m   3115\u001b[0m     path,\n\u001b[0;32m   3116\u001b[0m     engine,\n\u001b[0;32m   3117\u001b[0m     compression\u001b[38;5;241m=\u001b[39mcompression,\n\u001b[0;32m   3118\u001b[0m     index\u001b[38;5;241m=\u001b[39mindex,\n\u001b[0;32m   3119\u001b[0m     partition_cols\u001b[38;5;241m=\u001b[39mpartition_cols,\n\u001b[0;32m   3120\u001b[0m     storage_options\u001b[38;5;241m=\u001b[39mstorage_options,\n\u001b[0;32m   3121\u001b[0m     \u001b[38;5;241m*\u001b[39m\u001b[38;5;241m*\u001b[39mkwargs,\n\u001b[0;32m   3122\u001b[0m )\n",
      "File \u001b[1;32mD:\\Anaconda\\Lib\\site-packages\\pandas\\io\\parquet.py:480\u001b[0m, in \u001b[0;36mto_parquet\u001b[1;34m(df, path, engine, compression, index, storage_options, partition_cols, filesystem, **kwargs)\u001b[0m\n\u001b[0;32m    476\u001b[0m impl \u001b[38;5;241m=\u001b[39m get_engine(engine)\n\u001b[0;32m    478\u001b[0m path_or_buf: FilePath \u001b[38;5;241m|\u001b[39m WriteBuffer[\u001b[38;5;28mbytes\u001b[39m] \u001b[38;5;241m=\u001b[39m io\u001b[38;5;241m.\u001b[39mBytesIO() \u001b[38;5;28;01mif\u001b[39;00m path \u001b[38;5;129;01mis\u001b[39;00m \u001b[38;5;28;01mNone\u001b[39;00m \u001b[38;5;28;01melse\u001b[39;00m path\n\u001b[1;32m--> 480\u001b[0m impl\u001b[38;5;241m.\u001b[39mwrite(\n\u001b[0;32m    481\u001b[0m     df,\n\u001b[0;32m    482\u001b[0m     path_or_buf,\n\u001b[0;32m    483\u001b[0m     compression\u001b[38;5;241m=\u001b[39mcompression,\n\u001b[0;32m    484\u001b[0m     index\u001b[38;5;241m=\u001b[39mindex,\n\u001b[0;32m    485\u001b[0m     partition_cols\u001b[38;5;241m=\u001b[39mpartition_cols,\n\u001b[0;32m    486\u001b[0m     storage_options\u001b[38;5;241m=\u001b[39mstorage_options,\n\u001b[0;32m    487\u001b[0m     filesystem\u001b[38;5;241m=\u001b[39mfilesystem,\n\u001b[0;32m    488\u001b[0m     \u001b[38;5;241m*\u001b[39m\u001b[38;5;241m*\u001b[39mkwargs,\n\u001b[0;32m    489\u001b[0m )\n\u001b[0;32m    491\u001b[0m \u001b[38;5;28;01mif\u001b[39;00m path \u001b[38;5;129;01mis\u001b[39;00m \u001b[38;5;28;01mNone\u001b[39;00m:\n\u001b[0;32m    492\u001b[0m     \u001b[38;5;28;01massert\u001b[39;00m \u001b[38;5;28misinstance\u001b[39m(path_or_buf, io\u001b[38;5;241m.\u001b[39mBytesIO)\n",
      "File \u001b[1;32mD:\\Anaconda\\Lib\\site-packages\\pandas\\io\\parquet.py:190\u001b[0m, in \u001b[0;36mPyArrowImpl.write\u001b[1;34m(self, df, path, compression, index, storage_options, partition_cols, filesystem, **kwargs)\u001b[0m\n\u001b[0;32m    187\u001b[0m \u001b[38;5;28;01mif\u001b[39;00m index \u001b[38;5;129;01mis\u001b[39;00m \u001b[38;5;129;01mnot\u001b[39;00m \u001b[38;5;28;01mNone\u001b[39;00m:\n\u001b[0;32m    188\u001b[0m     from_pandas_kwargs[\u001b[38;5;124m\"\u001b[39m\u001b[38;5;124mpreserve_index\u001b[39m\u001b[38;5;124m\"\u001b[39m] \u001b[38;5;241m=\u001b[39m index\n\u001b[1;32m--> 190\u001b[0m table \u001b[38;5;241m=\u001b[39m \u001b[38;5;28mself\u001b[39m\u001b[38;5;241m.\u001b[39mapi\u001b[38;5;241m.\u001b[39mTable\u001b[38;5;241m.\u001b[39mfrom_pandas(df, \u001b[38;5;241m*\u001b[39m\u001b[38;5;241m*\u001b[39mfrom_pandas_kwargs)\n\u001b[0;32m    192\u001b[0m \u001b[38;5;28;01mif\u001b[39;00m df\u001b[38;5;241m.\u001b[39mattrs:\n\u001b[0;32m    193\u001b[0m     df_metadata \u001b[38;5;241m=\u001b[39m {\u001b[38;5;124m\"\u001b[39m\u001b[38;5;124mPANDAS_ATTRS\u001b[39m\u001b[38;5;124m\"\u001b[39m: json\u001b[38;5;241m.\u001b[39mdumps(df\u001b[38;5;241m.\u001b[39mattrs)}\n",
      "File \u001b[1;32mD:\\Anaconda\\Lib\\site-packages\\pyarrow\\table.pxi:3869\u001b[0m, in \u001b[0;36mpyarrow.lib.Table.from_pandas\u001b[1;34m()\u001b[0m\n",
      "File \u001b[1;32mD:\\Anaconda\\Lib\\site-packages\\pyarrow\\pandas_compat.py:626\u001b[0m, in \u001b[0;36mdataframe_to_arrays\u001b[1;34m(df, schema, preserve_index, nthreads, columns, safe)\u001b[0m\n\u001b[0;32m    624\u001b[0m     \u001b[38;5;28;01mfor\u001b[39;00m i, maybe_fut \u001b[38;5;129;01min\u001b[39;00m \u001b[38;5;28menumerate\u001b[39m(arrays):\n\u001b[0;32m    625\u001b[0m         \u001b[38;5;28;01mif\u001b[39;00m \u001b[38;5;28misinstance\u001b[39m(maybe_fut, futures\u001b[38;5;241m.\u001b[39mFuture):\n\u001b[1;32m--> 626\u001b[0m             arrays[i] \u001b[38;5;241m=\u001b[39m maybe_fut\u001b[38;5;241m.\u001b[39mresult()\n\u001b[0;32m    628\u001b[0m types \u001b[38;5;241m=\u001b[39m [x\u001b[38;5;241m.\u001b[39mtype \u001b[38;5;28;01mfor\u001b[39;00m x \u001b[38;5;129;01min\u001b[39;00m arrays]\n\u001b[0;32m    630\u001b[0m \u001b[38;5;28;01mif\u001b[39;00m schema \u001b[38;5;129;01mis\u001b[39;00m \u001b[38;5;28;01mNone\u001b[39;00m:\n",
      "File \u001b[1;32mD:\\Anaconda\\Lib\\concurrent\\futures\\_base.py:449\u001b[0m, in \u001b[0;36mFuture.result\u001b[1;34m(self, timeout)\u001b[0m\n\u001b[0;32m    447\u001b[0m     \u001b[38;5;28;01mraise\u001b[39;00m CancelledError()\n\u001b[0;32m    448\u001b[0m \u001b[38;5;28;01melif\u001b[39;00m \u001b[38;5;28mself\u001b[39m\u001b[38;5;241m.\u001b[39m_state \u001b[38;5;241m==\u001b[39m FINISHED:\n\u001b[1;32m--> 449\u001b[0m     \u001b[38;5;28;01mreturn\u001b[39;00m \u001b[38;5;28mself\u001b[39m\u001b[38;5;241m.\u001b[39m__get_result()\n\u001b[0;32m    451\u001b[0m \u001b[38;5;28mself\u001b[39m\u001b[38;5;241m.\u001b[39m_condition\u001b[38;5;241m.\u001b[39mwait(timeout)\n\u001b[0;32m    453\u001b[0m \u001b[38;5;28;01mif\u001b[39;00m \u001b[38;5;28mself\u001b[39m\u001b[38;5;241m.\u001b[39m_state \u001b[38;5;129;01min\u001b[39;00m [CANCELLED, CANCELLED_AND_NOTIFIED]:\n",
      "File \u001b[1;32mD:\\Anaconda\\Lib\\concurrent\\futures\\_base.py:401\u001b[0m, in \u001b[0;36mFuture.__get_result\u001b[1;34m(self)\u001b[0m\n\u001b[0;32m    399\u001b[0m \u001b[38;5;28;01mif\u001b[39;00m \u001b[38;5;28mself\u001b[39m\u001b[38;5;241m.\u001b[39m_exception:\n\u001b[0;32m    400\u001b[0m     \u001b[38;5;28;01mtry\u001b[39;00m:\n\u001b[1;32m--> 401\u001b[0m         \u001b[38;5;28;01mraise\u001b[39;00m \u001b[38;5;28mself\u001b[39m\u001b[38;5;241m.\u001b[39m_exception\n\u001b[0;32m    402\u001b[0m     \u001b[38;5;28;01mfinally\u001b[39;00m:\n\u001b[0;32m    403\u001b[0m         \u001b[38;5;66;03m# Break a reference cycle with the exception in self._exception\u001b[39;00m\n\u001b[0;32m    404\u001b[0m         \u001b[38;5;28mself\u001b[39m \u001b[38;5;241m=\u001b[39m \u001b[38;5;28;01mNone\u001b[39;00m\n",
      "File \u001b[1;32mD:\\Anaconda\\Lib\\concurrent\\futures\\thread.py:58\u001b[0m, in \u001b[0;36m_WorkItem.run\u001b[1;34m(self)\u001b[0m\n\u001b[0;32m     55\u001b[0m     \u001b[38;5;28;01mreturn\u001b[39;00m\n\u001b[0;32m     57\u001b[0m \u001b[38;5;28;01mtry\u001b[39;00m:\n\u001b[1;32m---> 58\u001b[0m     result \u001b[38;5;241m=\u001b[39m \u001b[38;5;28mself\u001b[39m\u001b[38;5;241m.\u001b[39mfn(\u001b[38;5;241m*\u001b[39m\u001b[38;5;28mself\u001b[39m\u001b[38;5;241m.\u001b[39margs, \u001b[38;5;241m*\u001b[39m\u001b[38;5;241m*\u001b[39m\u001b[38;5;28mself\u001b[39m\u001b[38;5;241m.\u001b[39mkwargs)\n\u001b[0;32m     59\u001b[0m \u001b[38;5;28;01mexcept\u001b[39;00m \u001b[38;5;167;01mBaseException\u001b[39;00m \u001b[38;5;28;01mas\u001b[39;00m exc:\n\u001b[0;32m     60\u001b[0m     \u001b[38;5;28mself\u001b[39m\u001b[38;5;241m.\u001b[39mfuture\u001b[38;5;241m.\u001b[39mset_exception(exc)\n",
      "File \u001b[1;32mD:\\Anaconda\\Lib\\site-packages\\pyarrow\\pandas_compat.py:600\u001b[0m, in \u001b[0;36mdataframe_to_arrays.<locals>.convert_column\u001b[1;34m(col, field)\u001b[0m\n\u001b[0;32m    595\u001b[0m \u001b[38;5;28;01mexcept\u001b[39;00m (pa\u001b[38;5;241m.\u001b[39mArrowInvalid,\n\u001b[0;32m    596\u001b[0m         pa\u001b[38;5;241m.\u001b[39mArrowNotImplementedError,\n\u001b[0;32m    597\u001b[0m         pa\u001b[38;5;241m.\u001b[39mArrowTypeError) \u001b[38;5;28;01mas\u001b[39;00m e:\n\u001b[0;32m    598\u001b[0m     e\u001b[38;5;241m.\u001b[39margs \u001b[38;5;241m+\u001b[39m\u001b[38;5;241m=\u001b[39m (\u001b[38;5;124m\"\u001b[39m\u001b[38;5;124mConversion failed for column \u001b[39m\u001b[38;5;132;01m{!s}\u001b[39;00m\u001b[38;5;124m with type \u001b[39m\u001b[38;5;132;01m{!s}\u001b[39;00m\u001b[38;5;124m\"\u001b[39m\n\u001b[0;32m    599\u001b[0m                \u001b[38;5;241m.\u001b[39mformat(col\u001b[38;5;241m.\u001b[39mname, col\u001b[38;5;241m.\u001b[39mdtype),)\n\u001b[1;32m--> 600\u001b[0m     \u001b[38;5;28;01mraise\u001b[39;00m e\n\u001b[0;32m    601\u001b[0m \u001b[38;5;28;01mif\u001b[39;00m \u001b[38;5;129;01mnot\u001b[39;00m field_nullable \u001b[38;5;129;01mand\u001b[39;00m result\u001b[38;5;241m.\u001b[39mnull_count \u001b[38;5;241m>\u001b[39m \u001b[38;5;241m0\u001b[39m:\n\u001b[0;32m    602\u001b[0m     \u001b[38;5;28;01mraise\u001b[39;00m \u001b[38;5;167;01mValueError\u001b[39;00m(\u001b[38;5;124m\"\u001b[39m\u001b[38;5;124mField \u001b[39m\u001b[38;5;132;01m{}\u001b[39;00m\u001b[38;5;124m was non-nullable but pandas column \u001b[39m\u001b[38;5;124m\"\u001b[39m\n\u001b[0;32m    603\u001b[0m                      \u001b[38;5;124m\"\u001b[39m\u001b[38;5;124mhad \u001b[39m\u001b[38;5;132;01m{}\u001b[39;00m\u001b[38;5;124m null values\u001b[39m\u001b[38;5;124m\"\u001b[39m\u001b[38;5;241m.\u001b[39mformat(\u001b[38;5;28mstr\u001b[39m(field),\n\u001b[0;32m    604\u001b[0m                                                  result\u001b[38;5;241m.\u001b[39mnull_count))\n",
      "File \u001b[1;32mD:\\Anaconda\\Lib\\site-packages\\pyarrow\\pandas_compat.py:594\u001b[0m, in \u001b[0;36mdataframe_to_arrays.<locals>.convert_column\u001b[1;34m(col, field)\u001b[0m\n\u001b[0;32m    591\u001b[0m     type_ \u001b[38;5;241m=\u001b[39m field\u001b[38;5;241m.\u001b[39mtype\n\u001b[0;32m    593\u001b[0m \u001b[38;5;28;01mtry\u001b[39;00m:\n\u001b[1;32m--> 594\u001b[0m     result \u001b[38;5;241m=\u001b[39m pa\u001b[38;5;241m.\u001b[39marray(col, \u001b[38;5;28mtype\u001b[39m\u001b[38;5;241m=\u001b[39mtype_, from_pandas\u001b[38;5;241m=\u001b[39m\u001b[38;5;28;01mTrue\u001b[39;00m, safe\u001b[38;5;241m=\u001b[39msafe)\n\u001b[0;32m    595\u001b[0m \u001b[38;5;28;01mexcept\u001b[39;00m (pa\u001b[38;5;241m.\u001b[39mArrowInvalid,\n\u001b[0;32m    596\u001b[0m         pa\u001b[38;5;241m.\u001b[39mArrowNotImplementedError,\n\u001b[0;32m    597\u001b[0m         pa\u001b[38;5;241m.\u001b[39mArrowTypeError) \u001b[38;5;28;01mas\u001b[39;00m e:\n\u001b[0;32m    598\u001b[0m     e\u001b[38;5;241m.\u001b[39margs \u001b[38;5;241m+\u001b[39m\u001b[38;5;241m=\u001b[39m (\u001b[38;5;124m\"\u001b[39m\u001b[38;5;124mConversion failed for column \u001b[39m\u001b[38;5;132;01m{!s}\u001b[39;00m\u001b[38;5;124m with type \u001b[39m\u001b[38;5;132;01m{!s}\u001b[39;00m\u001b[38;5;124m\"\u001b[39m\n\u001b[0;32m    599\u001b[0m                \u001b[38;5;241m.\u001b[39mformat(col\u001b[38;5;241m.\u001b[39mname, col\u001b[38;5;241m.\u001b[39mdtype),)\n",
      "File \u001b[1;32mD:\\Anaconda\\Lib\\site-packages\\pyarrow\\array.pxi:313\u001b[0m, in \u001b[0;36mpyarrow.lib.array\u001b[1;34m()\u001b[0m\n",
      "File \u001b[1;32mD:\\Anaconda\\Lib\\site-packages\\pyarrow\\array.pxi:340\u001b[0m, in \u001b[0;36mpyarrow.lib.array\u001b[1;34m()\u001b[0m\n",
      "File \u001b[1;32mD:\\Anaconda\\Lib\\site-packages\\pyarrow\\array.pxi:86\u001b[0m, in \u001b[0;36mpyarrow.lib._ndarray_to_array\u001b[1;34m()\u001b[0m\n",
      "File \u001b[1;32mD:\\Anaconda\\Lib\\site-packages\\pyarrow\\error.pxi:91\u001b[0m, in \u001b[0;36mpyarrow.lib.check_status\u001b[1;34m()\u001b[0m\n",
      "\u001b[1;31mArrowInvalid\u001b[0m: (\"Could not convert 'F' with type str: tried to convert to int64\", 'Conversion failed for column SEXO with type category')"
     ]
    }
   ],
   "source": [
    "for column in df.columns:\n",
    "    type_test(df, column)"
   ]
  },
  {
   "cell_type": "code",
   "execution_count": 65,
   "id": "812dfa4d-de4f-4c8a-a111-f0ad7b8d8d9e",
   "metadata": {},
   "outputs": [],
   "source": [
    "df.to_parquet('DN1.parquet')"
   ]
  },
  {
   "cell_type": "markdown",
   "id": "ab14e630-a4bb-4ccc-8e2f-398bf0593ce0",
   "metadata": {},
   "source": [
    "---"
   ]
  },
  {
   "cell_type": "code",
   "execution_count": 7,
   "id": "9208fb8f-0ae9-4a24-9ad7-96f4f50e5590",
   "metadata": {},
   "outputs": [
    {
     "name": "stdout",
     "output_type": "stream",
     "text": [
      "SINASC\\DN2018.parquet - 3232183 | Uso da memória: Antes 1793861565 - Depois 289673928\n",
      "SINASC\\DN2019.parquet - 3139558 | Uso da memória: Antes 1742454690 - Depois 281426984\n",
      "SINASC\\DN2020.parquet - 3013130 | Uso da memória: Antes 1672287150 - Depois 270193584\n",
      "SINASC\\DN2021.parquet - 2951464 | Uso da memória: Antes 1638062520 - Depois 264721866\n",
      "SINASC\\DN2022.parquet - 2856466 | Uso da memória: Antes 1585338630 - Depois 256229037\n"
     ]
    }
   ],
   "source": [
    "df = pd.DataFrame()\n",
    "\n",
    "for item in files[6:]:\n",
    "    aux = pd.read_parquet(item)\n",
    "    antes = aux.memory_usage().sum()\n",
    "\n",
    "    for column in aux.columns:\n",
    "        type_test(aux, column)\n",
    "    \n",
    "    print(f'{item} - {len(aux)} | Uso da memória: Antes {antes} - Depois {aux.memory_usage().sum()}')\n",
    "    df = pd.concat([aux, df], axis=0)"
   ]
  },
  {
   "cell_type": "code",
   "execution_count": 8,
   "id": "fec8cf87-c4aa-45b6-861f-c641cba24005",
   "metadata": {},
   "outputs": [],
   "source": [
    "for column in df.columns:\n",
    "    type_test(df, column)"
   ]
  },
  {
   "cell_type": "code",
   "execution_count": 9,
   "id": "ca012f74-cc48-417d-a9fe-26b8b5b50b12",
   "metadata": {},
   "outputs": [],
   "source": [
    "df.to_parquet('DN2.parquet')"
   ]
  },
  {
   "cell_type": "markdown",
   "id": "990abc64-f247-477f-9566-1cfc4ba95cdb",
   "metadata": {},
   "source": [
    "---"
   ]
  },
  {
   "cell_type": "code",
   "execution_count": 16,
   "id": "3aac4755-bf72-4d18-b3c9-12ad1d7b4a5a",
   "metadata": {},
   "outputs": [
    {
     "ename": "ArrowMemoryError",
     "evalue": "malloc of size 774201920 failed",
     "output_type": "error",
     "traceback": [
      "\u001b[1;31m---------------------------------------------------------------------------\u001b[0m",
      "\u001b[1;31mArrowMemoryError\u001b[0m                          Traceback (most recent call last)",
      "Cell \u001b[1;32mIn[16], line 1\u001b[0m\n\u001b[1;32m----> 1\u001b[0m df \u001b[38;5;241m=\u001b[39m pd\u001b[38;5;241m.\u001b[39mread_parquet(\u001b[38;5;124m'\u001b[39m\u001b[38;5;124mDN1.parquet\u001b[39m\u001b[38;5;124m'\u001b[39m)\n",
      "File \u001b[1;32mD:\\Anaconda\\Lib\\site-packages\\pandas\\io\\parquet.py:667\u001b[0m, in \u001b[0;36mread_parquet\u001b[1;34m(path, engine, columns, storage_options, use_nullable_dtypes, dtype_backend, filesystem, filters, **kwargs)\u001b[0m\n\u001b[0;32m    664\u001b[0m     use_nullable_dtypes \u001b[38;5;241m=\u001b[39m \u001b[38;5;28;01mFalse\u001b[39;00m\n\u001b[0;32m    665\u001b[0m check_dtype_backend(dtype_backend)\n\u001b[1;32m--> 667\u001b[0m \u001b[38;5;28;01mreturn\u001b[39;00m impl\u001b[38;5;241m.\u001b[39mread(\n\u001b[0;32m    668\u001b[0m     path,\n\u001b[0;32m    669\u001b[0m     columns\u001b[38;5;241m=\u001b[39mcolumns,\n\u001b[0;32m    670\u001b[0m     filters\u001b[38;5;241m=\u001b[39mfilters,\n\u001b[0;32m    671\u001b[0m     storage_options\u001b[38;5;241m=\u001b[39mstorage_options,\n\u001b[0;32m    672\u001b[0m     use_nullable_dtypes\u001b[38;5;241m=\u001b[39muse_nullable_dtypes,\n\u001b[0;32m    673\u001b[0m     dtype_backend\u001b[38;5;241m=\u001b[39mdtype_backend,\n\u001b[0;32m    674\u001b[0m     filesystem\u001b[38;5;241m=\u001b[39mfilesystem,\n\u001b[0;32m    675\u001b[0m     \u001b[38;5;241m*\u001b[39m\u001b[38;5;241m*\u001b[39mkwargs,\n\u001b[0;32m    676\u001b[0m )\n",
      "File \u001b[1;32mD:\\Anaconda\\Lib\\site-packages\\pandas\\io\\parquet.py:281\u001b[0m, in \u001b[0;36mPyArrowImpl.read\u001b[1;34m(self, path, columns, filters, use_nullable_dtypes, dtype_backend, storage_options, filesystem, **kwargs)\u001b[0m\n\u001b[0;32m    273\u001b[0m \u001b[38;5;28;01mtry\u001b[39;00m:\n\u001b[0;32m    274\u001b[0m     pa_table \u001b[38;5;241m=\u001b[39m \u001b[38;5;28mself\u001b[39m\u001b[38;5;241m.\u001b[39mapi\u001b[38;5;241m.\u001b[39mparquet\u001b[38;5;241m.\u001b[39mread_table(\n\u001b[0;32m    275\u001b[0m         path_or_handle,\n\u001b[0;32m    276\u001b[0m         columns\u001b[38;5;241m=\u001b[39mcolumns,\n\u001b[1;32m   (...)\u001b[0m\n\u001b[0;32m    279\u001b[0m         \u001b[38;5;241m*\u001b[39m\u001b[38;5;241m*\u001b[39mkwargs,\n\u001b[0;32m    280\u001b[0m     )\n\u001b[1;32m--> 281\u001b[0m     result \u001b[38;5;241m=\u001b[39m pa_table\u001b[38;5;241m.\u001b[39mto_pandas(\u001b[38;5;241m*\u001b[39m\u001b[38;5;241m*\u001b[39mto_pandas_kwargs)\n\u001b[0;32m    283\u001b[0m     \u001b[38;5;28;01mif\u001b[39;00m manager \u001b[38;5;241m==\u001b[39m \u001b[38;5;124m\"\u001b[39m\u001b[38;5;124marray\u001b[39m\u001b[38;5;124m\"\u001b[39m:\n\u001b[0;32m    284\u001b[0m         result \u001b[38;5;241m=\u001b[39m result\u001b[38;5;241m.\u001b[39m_as_manager(\u001b[38;5;124m\"\u001b[39m\u001b[38;5;124marray\u001b[39m\u001b[38;5;124m\"\u001b[39m, copy\u001b[38;5;241m=\u001b[39m\u001b[38;5;28;01mFalse\u001b[39;00m)\n",
      "File \u001b[1;32mD:\\Anaconda\\Lib\\site-packages\\pyarrow\\array.pxi:884\u001b[0m, in \u001b[0;36mpyarrow.lib._PandasConvertible.to_pandas\u001b[1;34m()\u001b[0m\n",
      "File \u001b[1;32mD:\\Anaconda\\Lib\\site-packages\\pyarrow\\table.pxi:4192\u001b[0m, in \u001b[0;36mpyarrow.lib.Table._to_pandas\u001b[1;34m()\u001b[0m\n",
      "File \u001b[1;32mD:\\Anaconda\\Lib\\site-packages\\pyarrow\\pandas_compat.py:776\u001b[0m, in \u001b[0;36mtable_to_dataframe\u001b[1;34m(options, table, categories, ignore_metadata, types_mapper)\u001b[0m\n\u001b[0;32m    774\u001b[0m _check_data_column_metadata_consistency(all_columns)\n\u001b[0;32m    775\u001b[0m columns \u001b[38;5;241m=\u001b[39m _deserialize_column_index(table, all_columns, column_indexes)\n\u001b[1;32m--> 776\u001b[0m blocks \u001b[38;5;241m=\u001b[39m _table_to_blocks(options, table, categories, ext_columns_dtypes)\n\u001b[0;32m    778\u001b[0m axes \u001b[38;5;241m=\u001b[39m [columns, index]\n\u001b[0;32m    779\u001b[0m mgr \u001b[38;5;241m=\u001b[39m BlockManager(blocks, axes)\n",
      "File \u001b[1;32mD:\\Anaconda\\Lib\\site-packages\\pyarrow\\pandas_compat.py:1129\u001b[0m, in \u001b[0;36m_table_to_blocks\u001b[1;34m(options, block_table, categories, extension_columns)\u001b[0m\n\u001b[0;32m   1124\u001b[0m \u001b[38;5;28;01mdef\u001b[39;00m \u001b[38;5;21m_table_to_blocks\u001b[39m(options, block_table, categories, extension_columns):\n\u001b[0;32m   1125\u001b[0m     \u001b[38;5;66;03m# Part of table_to_blockmanager\u001b[39;00m\n\u001b[0;32m   1126\u001b[0m \n\u001b[0;32m   1127\u001b[0m     \u001b[38;5;66;03m# Convert an arrow table to Block from the internal pandas API\u001b[39;00m\n\u001b[0;32m   1128\u001b[0m     columns \u001b[38;5;241m=\u001b[39m block_table\u001b[38;5;241m.\u001b[39mcolumn_names\n\u001b[1;32m-> 1129\u001b[0m     result \u001b[38;5;241m=\u001b[39m pa\u001b[38;5;241m.\u001b[39mlib\u001b[38;5;241m.\u001b[39mtable_to_blocks(options, block_table, categories,\n\u001b[0;32m   1130\u001b[0m                                     \u001b[38;5;28mlist\u001b[39m(extension_columns\u001b[38;5;241m.\u001b[39mkeys()))\n\u001b[0;32m   1131\u001b[0m     \u001b[38;5;28;01mreturn\u001b[39;00m [_reconstruct_block(item, columns, extension_columns)\n\u001b[0;32m   1132\u001b[0m             \u001b[38;5;28;01mfor\u001b[39;00m item \u001b[38;5;129;01min\u001b[39;00m result]\n",
      "File \u001b[1;32mD:\\Anaconda\\Lib\\site-packages\\pyarrow\\table.pxi:3115\u001b[0m, in \u001b[0;36mpyarrow.lib.table_to_blocks\u001b[1;34m()\u001b[0m\n",
      "File \u001b[1;32mD:\\Anaconda\\Lib\\site-packages\\pyarrow\\error.pxi:91\u001b[0m, in \u001b[0;36mpyarrow.lib.check_status\u001b[1;34m()\u001b[0m\n",
      "\u001b[1;31mArrowMemoryError\u001b[0m: malloc of size 774201920 failed"
     ]
    }
   ],
   "source": [
    "df = pd.read_parquet('DN1.parquet')"
   ]
  },
  {
   "cell_type": "code",
   "execution_count": null,
   "id": "52b2ed4b-c26a-433e-9176-320064024e6b",
   "metadata": {},
   "outputs": [],
   "source": [
    "aux = pd.read_parquet('DN2.parquet')"
   ]
  },
  {
   "cell_type": "code",
   "execution_count": 18,
   "id": "e33009cf-21ae-4d67-a89e-b37c52ea3cbd",
   "metadata": {},
   "outputs": [
    {
     "name": "stdout",
     "output_type": "stream",
     "text": [
      "<class 'pandas.core.frame.DataFrame'>\n",
      "Index: 19355048 entries, 2170000001 to 2123197707\n",
      "Data columns (total 67 columns):\n",
      " #   Column      Dtype   \n",
      "---  ------      -----   \n",
      " 0   contador    int32   \n",
      " 1   ORIGEM      int64   \n",
      " 2   CODESTAB    float64 \n",
      " 3   CODMUNNASC  int64   \n",
      " 4   LOCNASC     int64   \n",
      " 5   IDADEMAE    float64 \n",
      " 6   ESTCIVMAE   float64 \n",
      " 7   ESCMAE      float64 \n",
      " 8   CODOCUPMAE  float64 \n",
      " 9   QTDFILVIVO  float64 \n",
      " 10  QTDFILMORT  float64 \n",
      " 11  CODMUNRES   int64   \n",
      " 12  GESTACAO    float64 \n",
      " 13  GRAVIDEZ    float64 \n",
      " 14  PARTO       float64 \n",
      " 15  CONSULTAS   float64 \n",
      " 16  DTNASC      int64   \n",
      " 17  HORANASC    float64 \n",
      " 18  SEXO        int8    \n",
      " 19  APGAR1      float64 \n",
      " 20  APGAR5      float64 \n",
      " 21  RACACOR     float64 \n",
      " 22  PESO        float64 \n",
      " 23  IDANOMAL    float64 \n",
      " 24  DTCADASTRO  float64 \n",
      " 25  CODANOMAL   category\n",
      " 26  NUMEROLOTE  float64 \n",
      " 27  VERSAOSIST  category\n",
      " 28  DTRECEBIM   float64 \n",
      " 29  DIFDATA     float64 \n",
      " 30  DTRECORIGA  float64 \n",
      " 31  NATURALMAE  float64 \n",
      " 32  CODMUNNATU  float64 \n",
      " 33  CODUFNATU   float64 \n",
      " 34  ESCMAE2010  float64 \n",
      " 35  SERIESCMAE  float64 \n",
      " 36  DTNASCMAE   float64 \n",
      " 37  RACACORMAE  float64 \n",
      " 38  QTDGESTANT  float64 \n",
      " 39  QTDPARTNOR  float64 \n",
      " 40  QTDPARTCES  float64 \n",
      " 41  IDADEPAI    float64 \n",
      " 42  DTULTMENST  float64 \n",
      " 43  SEMAGESTAC  float64 \n",
      " 44  TPMETESTIM  float64 \n",
      " 45  CONSPRENAT  float64 \n",
      " 46  MESPRENAT   float64 \n",
      " 47  TPAPRESENT  float64 \n",
      " 48  STTRABPART  float64 \n",
      " 49  STCESPARTO  float64 \n",
      " 50  TPNASCASSI  float64 \n",
      " 51  TPFUNCRESP  float64 \n",
      " 52  TPDOCRESP   float64 \n",
      " 53  DTDECLARAC  float64 \n",
      " 54  ESCMAEAGR1  float64 \n",
      " 55  STDNEPIDEM  float64 \n",
      " 56  STDNNOVA    float64 \n",
      " 57  CODPAISRES  float64 \n",
      " 58  TPROBSON    float64 \n",
      " 59  PARIDADE    float64 \n",
      " 60  KOTELCHUCK  float64 \n",
      " 61  CODCART     float64 \n",
      " 62  CODMUNCART  float64 \n",
      " 63  NUMREGCART  float64 \n",
      " 64  DTREGCART   float64 \n",
      " 65  RACACORN    float64 \n",
      " 66  DTRECORIG   float64 \n",
      "dtypes: category(2), float64(58), int32(1), int64(5), int8(1)\n",
      "memory usage: 9.4 GB\n"
     ]
    }
   ],
   "source": [
    "df.info()"
   ]
  },
  {
   "cell_type": "code",
   "execution_count": 20,
   "id": "5e783cc9-370e-45a1-90be-3e90ca3f08c9",
   "metadata": {},
   "outputs": [
    {
     "name": "stdout",
     "output_type": "stream",
     "text": [
      "<class 'pandas.core.frame.DataFrame'>\n",
      "Index: 15192801 entries, 2220000001 to 2183232183\n",
      "Data columns (total 61 columns):\n",
      " #   Column      Dtype   \n",
      "---  ------      -----   \n",
      " 0   ORIGEM      int64   \n",
      " 1   CODESTAB    float64 \n",
      " 2   CODMUNNASC  int64   \n",
      " 3   LOCNASC     int8    \n",
      " 4   IDADEMAE    float64 \n",
      " 5   ESTCIVMAE   float64 \n",
      " 6   ESCMAE      float64 \n",
      " 7   CODOCUPMAE  float64 \n",
      " 8   QTDFILVIVO  float64 \n",
      " 9   QTDFILMORT  float64 \n",
      " 10  CODMUNRES   int64   \n",
      " 11  GESTACAO    float64 \n",
      " 12  GRAVIDEZ    float64 \n",
      " 13  PARTO       float64 \n",
      " 14  CONSULTAS   float64 \n",
      " 15  DTNASC      int64   \n",
      " 16  HORANASC    float64 \n",
      " 17  SEXO        int8    \n",
      " 18  APGAR1      float64 \n",
      " 19  APGAR5      float64 \n",
      " 20  RACACOR     float64 \n",
      " 21  PESO        float64 \n",
      " 22  IDANOMAL    float64 \n",
      " 23  DTCADASTRO  int64   \n",
      " 24  CODANOMAL   category\n",
      " 25  NUMEROLOTE  float64 \n",
      " 26  VERSAOSIST  category\n",
      " 27  DTRECEBIM   float64 \n",
      " 28  DIFDATA     int64   \n",
      " 29  DTRECORIGA  float64 \n",
      " 30  NATURALMAE  float64 \n",
      " 31  CODMUNNATU  float64 \n",
      " 32  CODUFNATU   float64 \n",
      " 33  ESCMAE2010  float64 \n",
      " 34  SERIESCMAE  float64 \n",
      " 35  DTNASCMAE   float64 \n",
      " 36  RACACORMAE  float64 \n",
      " 37  QTDGESTANT  float64 \n",
      " 38  QTDPARTNOR  float64 \n",
      " 39  QTDPARTCES  float64 \n",
      " 40  IDADEPAI    float64 \n",
      " 41  DTULTMENST  float64 \n",
      " 42  SEMAGESTAC  float64 \n",
      " 43  TPMETESTIM  float64 \n",
      " 44  CONSPRENAT  float64 \n",
      " 45  MESPRENAT   float64 \n",
      " 46  TPAPRESENT  float64 \n",
      " 47  STTRABPART  float64 \n",
      " 48  STCESPARTO  float64 \n",
      " 49  TPNASCASSI  float64 \n",
      " 50  TPFUNCRESP  float64 \n",
      " 51  TPDOCRESP   float64 \n",
      " 52  DTDECLARAC  float64 \n",
      " 53  ESCMAEAGR1  float64 \n",
      " 54  STDNEPIDEM  float64 \n",
      " 55  STDNNOVA    int8    \n",
      " 56  CODPAISRES  float64 \n",
      " 57  TPROBSON    int8    \n",
      " 58  PARIDADE    int8    \n",
      " 59  KOTELCHUCK  int8    \n",
      " 60  CONTADOR    Int32   \n",
      "dtypes: Int32(1), category(2), float64(46), int64(6), int8(6)\n",
      "memory usage: 6.2 GB\n"
     ]
    }
   ],
   "source": [
    "aux.info()"
   ]
  },
  {
   "cell_type": "code",
   "execution_count": 22,
   "id": "5dfcf943-efe5-4bef-a084-c82232117f7d",
   "metadata": {},
   "outputs": [],
   "source": [
    "for column in df.columns:\n",
    "    type_test(df, column)"
   ]
  },
  {
   "cell_type": "code",
   "execution_count": 24,
   "id": "1ccc9e07-3b26-4879-8e37-664fb534cab9",
   "metadata": {},
   "outputs": [
    {
     "name": "stdout",
     "output_type": "stream",
     "text": [
      "<class 'pandas.core.frame.DataFrame'>\n",
      "Index: 19355048 entries, 2170000001 to 2123197707\n",
      "Data columns (total 67 columns):\n",
      " #   Column      Dtype   \n",
      "---  ------      -----   \n",
      " 0   contador    int32   \n",
      " 1   ORIGEM      int8    \n",
      " 2   CODESTAB    category\n",
      " 3   CODMUNNASC  category\n",
      " 4   LOCNASC     int8    \n",
      " 5   IDADEMAE    category\n",
      " 6   ESTCIVMAE   category\n",
      " 7   ESCMAE      category\n",
      " 8   CODOCUPMAE  category\n",
      " 9   QTDFILVIVO  category\n",
      " 10  QTDFILMORT  category\n",
      " 11  CODMUNRES   category\n",
      " 12  GESTACAO    category\n",
      " 13  GRAVIDEZ    category\n",
      " 14  PARTO       category\n",
      " 15  CONSULTAS   category\n",
      " 16  DTNASC      category\n",
      " 17  HORANASC    category\n",
      " 18  SEXO        int8    \n",
      " 19  APGAR1      category\n",
      " 20  APGAR5      category\n",
      " 21  RACACOR     category\n",
      " 22  PESO        category\n",
      " 23  IDANOMAL    category\n",
      " 24  DTCADASTRO  category\n",
      " 25  CODANOMAL   category\n",
      " 26  NUMEROLOTE  category\n",
      " 27  VERSAOSIST  category\n",
      " 28  DTRECEBIM   category\n",
      " 29  DIFDATA     category\n",
      " 30  DTRECORIGA  category\n",
      " 31  NATURALMAE  category\n",
      " 32  CODMUNNATU  category\n",
      " 33  CODUFNATU   category\n",
      " 34  ESCMAE2010  category\n",
      " 35  SERIESCMAE  category\n",
      " 36  DTNASCMAE   category\n",
      " 37  RACACORMAE  category\n",
      " 38  QTDGESTANT  category\n",
      " 39  QTDPARTNOR  category\n",
      " 40  QTDPARTCES  category\n",
      " 41  IDADEPAI    category\n",
      " 42  DTULTMENST  category\n",
      " 43  SEMAGESTAC  category\n",
      " 44  TPMETESTIM  category\n",
      " 45  CONSPRENAT  category\n",
      " 46  MESPRENAT   category\n",
      " 47  TPAPRESENT  category\n",
      " 48  STTRABPART  category\n",
      " 49  STCESPARTO  category\n",
      " 50  TPNASCASSI  category\n",
      " 51  TPFUNCRESP  category\n",
      " 52  TPDOCRESP   category\n",
      " 53  DTDECLARAC  category\n",
      " 54  ESCMAEAGR1  category\n",
      " 55  STDNEPIDEM  category\n",
      " 56  STDNNOVA    category\n",
      " 57  CODPAISRES  category\n",
      " 58  TPROBSON    category\n",
      " 59  PARIDADE    category\n",
      " 60  KOTELCHUCK  category\n",
      " 61  CODCART     category\n",
      " 62  CODMUNCART  category\n",
      " 63  NUMREGCART  category\n",
      " 64  DTREGCART   category\n",
      " 65  RACACORN    category\n",
      " 66  DTRECORIG   category\n",
      "dtypes: category(63), int32(1), int8(3)\n",
      "memory usage: 1.8 GB\n"
     ]
    }
   ],
   "source": [
    "df.info()"
   ]
  },
  {
   "cell_type": "code",
   "execution_count": 26,
   "id": "517380db-3b96-42ee-9cb7-7903e6d0607e",
   "metadata": {},
   "outputs": [],
   "source": [
    "for column in aux.columns:\n",
    "    type_test(aux, column)"
   ]
  },
  {
   "cell_type": "code",
   "execution_count": 27,
   "id": "eb1d86b8-ac9e-449f-98d7-5cdae58c8975",
   "metadata": {},
   "outputs": [
    {
     "name": "stdout",
     "output_type": "stream",
     "text": [
      "<class 'pandas.core.frame.DataFrame'>\n",
      "Index: 15192801 entries, 2220000001 to 2183232183\n",
      "Data columns (total 61 columns):\n",
      " #   Column      Dtype   \n",
      "---  ------      -----   \n",
      " 0   ORIGEM      int8    \n",
      " 1   CODESTAB    category\n",
      " 2   CODMUNNASC  category\n",
      " 3   LOCNASC     int8    \n",
      " 4   IDADEMAE    category\n",
      " 5   ESTCIVMAE   category\n",
      " 6   ESCMAE      category\n",
      " 7   CODOCUPMAE  category\n",
      " 8   QTDFILVIVO  category\n",
      " 9   QTDFILMORT  category\n",
      " 10  CODMUNRES   category\n",
      " 11  GESTACAO    category\n",
      " 12  GRAVIDEZ    category\n",
      " 13  PARTO       category\n",
      " 14  CONSULTAS   category\n",
      " 15  DTNASC      category\n",
      " 16  HORANASC    category\n",
      " 17  SEXO        int8    \n",
      " 18  APGAR1      category\n",
      " 19  APGAR5      category\n",
      " 20  RACACOR     category\n",
      " 21  PESO        category\n",
      " 22  IDANOMAL    category\n",
      " 23  DTCADASTRO  category\n",
      " 24  CODANOMAL   category\n",
      " 25  NUMEROLOTE  category\n",
      " 26  VERSAOSIST  category\n",
      " 27  DTRECEBIM   category\n",
      " 28  DIFDATA     int16   \n",
      " 29  DTRECORIGA  category\n",
      " 30  NATURALMAE  category\n",
      " 31  CODMUNNATU  category\n",
      " 32  CODUFNATU   category\n",
      " 33  ESCMAE2010  category\n",
      " 34  SERIESCMAE  category\n",
      " 35  DTNASCMAE   category\n",
      " 36  RACACORMAE  category\n",
      " 37  QTDGESTANT  category\n",
      " 38  QTDPARTNOR  category\n",
      " 39  QTDPARTCES  category\n",
      " 40  IDADEPAI    category\n",
      " 41  DTULTMENST  category\n",
      " 42  SEMAGESTAC  category\n",
      " 43  TPMETESTIM  category\n",
      " 44  CONSPRENAT  category\n",
      " 45  MESPRENAT   category\n",
      " 46  TPAPRESENT  category\n",
      " 47  STTRABPART  category\n",
      " 48  STCESPARTO  category\n",
      " 49  TPNASCASSI  category\n",
      " 50  TPFUNCRESP  category\n",
      " 51  TPDOCRESP   category\n",
      " 52  DTDECLARAC  category\n",
      " 53  ESCMAEAGR1  category\n",
      " 54  STDNEPIDEM  category\n",
      " 55  STDNNOVA    int8    \n",
      " 56  CODPAISRES  category\n",
      " 57  TPROBSON    int8    \n",
      " 58  PARIDADE    int8    \n",
      " 59  KOTELCHUCK  int8    \n",
      " 60  CONTADOR    Int32   \n",
      "dtypes: Int32(1), category(52), int16(1), int8(7)\n",
      "memory usage: 1.3 GB\n"
     ]
    }
   ],
   "source": [
    "aux.info()"
   ]
  },
  {
   "cell_type": "code",
   "execution_count": 30,
   "id": "04710640-e1e1-4aeb-874d-b00201e0ebfe",
   "metadata": {},
   "outputs": [
    {
     "name": "stderr",
     "output_type": "stream",
     "text": [
      "C:\\Users\\ricmo\\AppData\\Local\\Temp\\ipykernel_17004\\2452581115.py:1: FutureWarning: The behavior of DataFrame concatenation with empty or all-NA entries is deprecated. In a future version, this will no longer exclude empty or all-NA columns when determining the result dtypes. To retain the old behavior, exclude the relevant entries before the concat operation.\n",
      "  df = pd.concat([aux, df], axis=0)\n"
     ]
    }
   ],
   "source": [
    "df = pd.concat([aux, df], axis=0)"
   ]
  },
  {
   "cell_type": "code",
   "execution_count": 32,
   "id": "7c728c03-cb82-4a2f-a6fd-94f005350fc6",
   "metadata": {},
   "outputs": [
    {
     "name": "stdout",
     "output_type": "stream",
     "text": [
      "<class 'pandas.core.frame.DataFrame'>\n",
      "Index: 34547849 entries, 2220000001 to 2123197707\n",
      "Data columns (total 68 columns):\n",
      " #   Column      Dtype   \n",
      "---  ------      -----   \n",
      " 0   ORIGEM      int8    \n",
      " 1   CODESTAB    float64 \n",
      " 2   CODMUNNASC  int64   \n",
      " 3   LOCNASC     int8    \n",
      " 4   IDADEMAE    category\n",
      " 5   ESTCIVMAE   category\n",
      " 6   ESCMAE      float64 \n",
      " 7   CODOCUPMAE  float64 \n",
      " 8   QTDFILVIVO  float64 \n",
      " 9   QTDFILMORT  category\n",
      " 10  CODMUNRES   int64   \n",
      " 11  GESTACAO    category\n",
      " 12  GRAVIDEZ    category\n",
      " 13  PARTO       category\n",
      " 14  CONSULTAS   category\n",
      " 15  DTNASC      int64   \n",
      " 16  HORANASC    float64 \n",
      " 17  SEXO        int8    \n",
      " 18  APGAR1      float64 \n",
      " 19  APGAR5      category\n",
      " 20  RACACOR     float64 \n",
      " 21  PESO        float64 \n",
      " 22  IDANOMAL    category\n",
      " 23  DTCADASTRO  float64 \n",
      " 24  CODANOMAL   object  \n",
      " 25  NUMEROLOTE  float64 \n",
      " 26  VERSAOSIST  object  \n",
      " 27  DTRECEBIM   float64 \n",
      " 28  DIFDATA     float64 \n",
      " 29  DTRECORIGA  category\n",
      " 30  NATURALMAE  float64 \n",
      " 31  CODMUNNATU  float64 \n",
      " 32  CODUFNATU   float64 \n",
      " 33  ESCMAE2010  category\n",
      " 34  SERIESCMAE  float64 \n",
      " 35  DTNASCMAE   float64 \n",
      " 36  RACACORMAE  float64 \n",
      " 37  QTDGESTANT  float64 \n",
      " 38  QTDPARTNOR  float64 \n",
      " 39  QTDPARTCES  float64 \n",
      " 40  IDADEPAI    float64 \n",
      " 41  DTULTMENST  float64 \n",
      " 42  SEMAGESTAC  float64 \n",
      " 43  TPMETESTIM  category\n",
      " 44  CONSPRENAT  float64 \n",
      " 45  MESPRENAT   float64 \n",
      " 46  TPAPRESENT  category\n",
      " 47  STTRABPART  category\n",
      " 48  STCESPARTO  category\n",
      " 49  TPNASCASSI  category\n",
      " 50  TPFUNCRESP  category\n",
      " 51  TPDOCRESP   category\n",
      " 52  DTDECLARAC  float64 \n",
      " 53  ESCMAEAGR1  category\n",
      " 54  STDNEPIDEM  category\n",
      " 55  STDNNOVA    float64 \n",
      " 56  CODPAISRES  category\n",
      " 57  TPROBSON    float64 \n",
      " 58  PARIDADE    float64 \n",
      " 59  KOTELCHUCK  float64 \n",
      " 60  CONTADOR    Int32   \n",
      " 61  contador    float64 \n",
      " 62  CODCART     category\n",
      " 63  CODMUNCART  category\n",
      " 64  NUMREGCART  category\n",
      " 65  DTREGCART   category\n",
      " 66  RACACORN    category\n",
      " 67  DTRECORIG   category\n",
      "dtypes: Int32(1), category(27), float64(32), int64(3), int8(3), object(2)\n",
      "memory usage: 11.2+ GB\n"
     ]
    }
   ],
   "source": [
    "df.info()"
   ]
  },
  {
   "cell_type": "code",
   "execution_count": 34,
   "id": "8319b175-cef9-4bb1-b54a-eb84768e265b",
   "metadata": {},
   "outputs": [],
   "source": [
    "for column in df.columns:\n",
    "    type_test(df, column)"
   ]
  },
  {
   "cell_type": "code",
   "execution_count": 35,
   "id": "c5102c67-dd1e-455a-8317-c14c7b0d26a4",
   "metadata": {},
   "outputs": [],
   "source": [
    "df.to_parquet('DN.parquet', engine='fastparquet')"
   ]
  },
  {
   "cell_type": "markdown",
   "id": "43fdfbc0-4dee-4cb7-8ad7-13a49908fc25",
   "metadata": {},
   "source": [
    "---"
   ]
  },
  {
   "cell_type": "code",
   "execution_count": 3,
   "id": "036384bb-a38d-4aad-9689-1635faa2413c",
   "metadata": {},
   "outputs": [
    {
     "ename": "ArrowMemoryError",
     "evalue": "malloc of size 16306584768 failed",
     "output_type": "error",
     "traceback": [
      "\u001b[1;31m---------------------------------------------------------------------------\u001b[0m",
      "\u001b[1;31mArrowMemoryError\u001b[0m                          Traceback (most recent call last)",
      "Cell \u001b[1;32mIn[3], line 1\u001b[0m\n\u001b[1;32m----> 1\u001b[0m df \u001b[38;5;241m=\u001b[39m pd\u001b[38;5;241m.\u001b[39mread_parquet(\u001b[38;5;124m'\u001b[39m\u001b[38;5;124mDN.parquet\u001b[39m\u001b[38;5;124m'\u001b[39m)\n",
      "File \u001b[1;32mD:\\Anaconda\\Lib\\site-packages\\pandas\\io\\parquet.py:667\u001b[0m, in \u001b[0;36mread_parquet\u001b[1;34m(path, engine, columns, storage_options, use_nullable_dtypes, dtype_backend, filesystem, filters, **kwargs)\u001b[0m\n\u001b[0;32m    664\u001b[0m     use_nullable_dtypes \u001b[38;5;241m=\u001b[39m \u001b[38;5;28;01mFalse\u001b[39;00m\n\u001b[0;32m    665\u001b[0m check_dtype_backend(dtype_backend)\n\u001b[1;32m--> 667\u001b[0m \u001b[38;5;28;01mreturn\u001b[39;00m impl\u001b[38;5;241m.\u001b[39mread(\n\u001b[0;32m    668\u001b[0m     path,\n\u001b[0;32m    669\u001b[0m     columns\u001b[38;5;241m=\u001b[39mcolumns,\n\u001b[0;32m    670\u001b[0m     filters\u001b[38;5;241m=\u001b[39mfilters,\n\u001b[0;32m    671\u001b[0m     storage_options\u001b[38;5;241m=\u001b[39mstorage_options,\n\u001b[0;32m    672\u001b[0m     use_nullable_dtypes\u001b[38;5;241m=\u001b[39muse_nullable_dtypes,\n\u001b[0;32m    673\u001b[0m     dtype_backend\u001b[38;5;241m=\u001b[39mdtype_backend,\n\u001b[0;32m    674\u001b[0m     filesystem\u001b[38;5;241m=\u001b[39mfilesystem,\n\u001b[0;32m    675\u001b[0m     \u001b[38;5;241m*\u001b[39m\u001b[38;5;241m*\u001b[39mkwargs,\n\u001b[0;32m    676\u001b[0m )\n",
      "File \u001b[1;32mD:\\Anaconda\\Lib\\site-packages\\pandas\\io\\parquet.py:281\u001b[0m, in \u001b[0;36mPyArrowImpl.read\u001b[1;34m(self, path, columns, filters, use_nullable_dtypes, dtype_backend, storage_options, filesystem, **kwargs)\u001b[0m\n\u001b[0;32m    273\u001b[0m \u001b[38;5;28;01mtry\u001b[39;00m:\n\u001b[0;32m    274\u001b[0m     pa_table \u001b[38;5;241m=\u001b[39m \u001b[38;5;28mself\u001b[39m\u001b[38;5;241m.\u001b[39mapi\u001b[38;5;241m.\u001b[39mparquet\u001b[38;5;241m.\u001b[39mread_table(\n\u001b[0;32m    275\u001b[0m         path_or_handle,\n\u001b[0;32m    276\u001b[0m         columns\u001b[38;5;241m=\u001b[39mcolumns,\n\u001b[1;32m   (...)\u001b[0m\n\u001b[0;32m    279\u001b[0m         \u001b[38;5;241m*\u001b[39m\u001b[38;5;241m*\u001b[39mkwargs,\n\u001b[0;32m    280\u001b[0m     )\n\u001b[1;32m--> 281\u001b[0m     result \u001b[38;5;241m=\u001b[39m pa_table\u001b[38;5;241m.\u001b[39mto_pandas(\u001b[38;5;241m*\u001b[39m\u001b[38;5;241m*\u001b[39mto_pandas_kwargs)\n\u001b[0;32m    283\u001b[0m     \u001b[38;5;28;01mif\u001b[39;00m manager \u001b[38;5;241m==\u001b[39m \u001b[38;5;124m\"\u001b[39m\u001b[38;5;124marray\u001b[39m\u001b[38;5;124m\"\u001b[39m:\n\u001b[0;32m    284\u001b[0m         result \u001b[38;5;241m=\u001b[39m result\u001b[38;5;241m.\u001b[39m_as_manager(\u001b[38;5;124m\"\u001b[39m\u001b[38;5;124marray\u001b[39m\u001b[38;5;124m\"\u001b[39m, copy\u001b[38;5;241m=\u001b[39m\u001b[38;5;28;01mFalse\u001b[39;00m)\n",
      "File \u001b[1;32mD:\\Anaconda\\Lib\\site-packages\\pyarrow\\array.pxi:884\u001b[0m, in \u001b[0;36mpyarrow.lib._PandasConvertible.to_pandas\u001b[1;34m()\u001b[0m\n",
      "File \u001b[1;32mD:\\Anaconda\\Lib\\site-packages\\pyarrow\\table.pxi:4192\u001b[0m, in \u001b[0;36mpyarrow.lib.Table._to_pandas\u001b[1;34m()\u001b[0m\n",
      "File \u001b[1;32mD:\\Anaconda\\Lib\\site-packages\\pyarrow\\pandas_compat.py:776\u001b[0m, in \u001b[0;36mtable_to_dataframe\u001b[1;34m(options, table, categories, ignore_metadata, types_mapper)\u001b[0m\n\u001b[0;32m    774\u001b[0m _check_data_column_metadata_consistency(all_columns)\n\u001b[0;32m    775\u001b[0m columns \u001b[38;5;241m=\u001b[39m _deserialize_column_index(table, all_columns, column_indexes)\n\u001b[1;32m--> 776\u001b[0m blocks \u001b[38;5;241m=\u001b[39m _table_to_blocks(options, table, categories, ext_columns_dtypes)\n\u001b[0;32m    778\u001b[0m axes \u001b[38;5;241m=\u001b[39m [columns, index]\n\u001b[0;32m    779\u001b[0m mgr \u001b[38;5;241m=\u001b[39m BlockManager(blocks, axes)\n",
      "File \u001b[1;32mD:\\Anaconda\\Lib\\site-packages\\pyarrow\\pandas_compat.py:1129\u001b[0m, in \u001b[0;36m_table_to_blocks\u001b[1;34m(options, block_table, categories, extension_columns)\u001b[0m\n\u001b[0;32m   1124\u001b[0m \u001b[38;5;28;01mdef\u001b[39;00m \u001b[38;5;21m_table_to_blocks\u001b[39m(options, block_table, categories, extension_columns):\n\u001b[0;32m   1125\u001b[0m     \u001b[38;5;66;03m# Part of table_to_blockmanager\u001b[39;00m\n\u001b[0;32m   1126\u001b[0m \n\u001b[0;32m   1127\u001b[0m     \u001b[38;5;66;03m# Convert an arrow table to Block from the internal pandas API\u001b[39;00m\n\u001b[0;32m   1128\u001b[0m     columns \u001b[38;5;241m=\u001b[39m block_table\u001b[38;5;241m.\u001b[39mcolumn_names\n\u001b[1;32m-> 1129\u001b[0m     result \u001b[38;5;241m=\u001b[39m pa\u001b[38;5;241m.\u001b[39mlib\u001b[38;5;241m.\u001b[39mtable_to_blocks(options, block_table, categories,\n\u001b[0;32m   1130\u001b[0m                                     \u001b[38;5;28mlist\u001b[39m(extension_columns\u001b[38;5;241m.\u001b[39mkeys()))\n\u001b[0;32m   1131\u001b[0m     \u001b[38;5;28;01mreturn\u001b[39;00m [_reconstruct_block(item, columns, extension_columns)\n\u001b[0;32m   1132\u001b[0m             \u001b[38;5;28;01mfor\u001b[39;00m item \u001b[38;5;129;01min\u001b[39;00m result]\n",
      "File \u001b[1;32mD:\\Anaconda\\Lib\\site-packages\\pyarrow\\table.pxi:3115\u001b[0m, in \u001b[0;36mpyarrow.lib.table_to_blocks\u001b[1;34m()\u001b[0m\n",
      "File \u001b[1;32mD:\\Anaconda\\Lib\\site-packages\\pyarrow\\error.pxi:91\u001b[0m, in \u001b[0;36mpyarrow.lib.check_status\u001b[1;34m()\u001b[0m\n",
      "\u001b[1;31mArrowMemoryError\u001b[0m: malloc of size 16306584768 failed"
     ]
    }
   ],
   "source": [
    "df = pd.read_parquet('DN.parquet')"
   ]
  },
  {
   "cell_type": "code",
   "execution_count": null,
   "id": "47cf96d6-18a7-4643-987b-f848b79653b1",
   "metadata": {},
   "outputs": [],
   "source": [
    "df.info()"
   ]
  },
  {
   "cell_type": "code",
   "execution_count": null,
   "id": "49a8752e-e7cf-455b-b5d7-5453786808af",
   "metadata": {},
   "outputs": [],
   "source": []
  }
 ],
 "metadata": {
  "kernelspec": {
   "display_name": "Python 3 (ipykernel)",
   "language": "python",
   "name": "python3"
  },
  "language_info": {
   "codemirror_mode": {
    "name": "ipython",
    "version": 3
   },
   "file_extension": ".py",
   "mimetype": "text/x-python",
   "name": "python",
   "nbconvert_exporter": "python",
   "pygments_lexer": "ipython3",
   "version": "3.12.4"
  }
 },
 "nbformat": 4,
 "nbformat_minor": 5
}
