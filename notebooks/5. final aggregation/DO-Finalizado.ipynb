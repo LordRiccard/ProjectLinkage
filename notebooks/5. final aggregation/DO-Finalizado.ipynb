{
 "cells": [
  {
   "cell_type": "code",
   "execution_count": 2,
   "metadata": {},
   "outputs": [],
   "source": [
    "import pandas as pd\n",
    "import glob"
   ]
  },
  {
   "cell_type": "markdown",
   "metadata": {},
   "source": [
    "## Functions and Variables"
   ]
  },
  {
   "cell_type": "code",
   "execution_count": 5,
   "metadata": {},
   "outputs": [],
   "source": [
    "# Remove os avisos de dtype do pandas\n",
    "import warnings\n",
    "warnings.filterwarnings('ignore', category=pd.errors.DtypeWarning)"
   ]
  },
  {
   "cell_type": "code",
   "execution_count": 3,
   "metadata": {},
   "outputs": [],
   "source": [
    "def find_files(path, pattern):\n",
    "    files = glob.glob(f'{path}/{pattern}')\n",
    "\n",
    "    return files"
   ]
  },
  {
   "cell_type": "code",
   "execution_count": 9,
   "metadata": {},
   "outputs": [],
   "source": [
    "def find_double_header(df):\n",
    "    for coluna in df.columns:\n",
    "        df.drop(df.loc[df[coluna] == coluna].index, inplace=True)\n",
    "\n",
    "    return df"
   ]
  },
  {
   "cell_type": "markdown",
   "metadata": {},
   "source": [
    "---"
   ]
  },
  {
   "cell_type": "markdown",
   "metadata": {},
   "source": [
    "## ANSI Encoding\n",
    "Some files from DATASUS have encoding set to ANSI, while the vast maiority have UTF-8\n",
    "The cell below seeks to solve this error"
   ]
  },
  {
   "cell_type": "code",
   "execution_count": null,
   "metadata": {},
   "outputs": [],
   "source": [
    "# Resolve erro de Codificação ANSI e combina arquivos do mesmo ano\n",
    "\n",
    "for i in range(12, 23):\n",
    "    files = find_files('C:\\\\Users\\\\ricmo\\\\OneDrive\\\\Documentos\\\\SIM - Agregação\\\\SIM\\\\DO', f'*\\\\*20{i}.csv', i)\n",
    "\n",
    "    aux = pd.DataFrame()\n",
    "\n",
    "    for item in files:\n",
    "        try:\n",
    "            df = pd.read_csv(item)\n",
    "        except UnicodeDecodeError:\n",
    "            df = pd.read_csv(item, encoding='ANSI')\n",
    "\n",
    "        aux = pd.concat([aux, df], axis=0)\n",
    "\n",
    "    aux = aux.drop_duplicates()\n",
    "    aux.to_csv(f'C:\\\\Users\\\\ricmo\\\\OneDrive\\\\Documentos\\\\SIM - Agregação\\\\1. Agregação + ANSI\\\\DO20{i}.csv', index=False)\n"
   ]
  },
  {
   "cell_type": "markdown",
   "metadata": {},
   "source": [
    "---"
   ]
  },
  {
   "cell_type": "markdown",
   "metadata": {},
   "source": [
    "## Double Header Error\n",
    "Some files also display the first N lines copied at the end of it.\n",
    "The cell below solves this issue"
   ]
  },
  {
   "cell_type": "code",
   "execution_count": null,
   "metadata": {},
   "outputs": [],
   "source": [
    "for i in range(12, 23):\n",
    "    files = find_files('C:\\\\Users\\\\ricmo\\\\OneDrive\\\\Documentos\\\\SIM - Agregação\\\\1. Agregação + ANSI', f'*20{i}.csv', i)\n",
    "\n",
    "    for item in files:\n",
    "        df = pd.read_csv(item)\n",
    "        df = find_double_header(df)\n",
    "\n",
    "        df = df.drop_duplicates()\n",
    "        df.to_csv(f'C:\\\\Users\\\\ricmo\\\\OneDrive\\\\Documentos\\\\SIM - Agregação\\\\2. Double Header Corrected\\\\DO20{i}.csv',\n",
    "                index=False)"
   ]
  },
  {
   "cell_type": "markdown",
   "metadata": {},
   "source": [
    "---"
   ]
  },
  {
   "cell_type": "markdown",
   "metadata": {},
   "source": [
    "## Data Filtering\n",
    "The database used features all the deaths that occurred in a year. \n",
    "We only need the ones from indivuduals with less younger than 1 year old"
   ]
  },
  {
   "cell_type": "code",
   "execution_count": null,
   "metadata": {},
   "outputs": [],
   "source": [
    "# filtragem de dados\n",
    "for i in range(12, 23):\n",
    "    files = find_files('D:\\\\_repositories\\\\Aggregation\\\\Results\\\\SIMDO-DHC', f'*20{i}.csv', i)\n",
    "\n",
    "    for item in files:\n",
    "        df = pd.read_csv(item)\n",
    "        \n",
    "        df['IDADE'] = df['IDADE'].astype(str)\n",
    "        aux = df[df['IDADE'].apply(lambda x: x[0] in ['1', '2', '3'])]\n",
    "\n",
    "        print(f'Tamanho do Banco SIM DO do ano de 20{i}: {len(df)}, tamanho filtrado: {len(aux)} - Diferenca: {len(df) - len(aux)}')\n",
    "\n",
    "        aux.to_csv(f'D:\\\\_repositories\\\\Aggregation\\\\Results\\\\SIMDO-Filtrado\\\\DO20{i}.csv', index=False)"
   ]
  },
  {
   "cell_type": "markdown",
   "metadata": {},
   "source": []
  },
  {
   "cell_type": "code",
   "execution_count": 12,
   "metadata": {},
   "outputs": [
    {
     "name": "stdout",
     "output_type": "stream",
     "text": [
      "['D:\\\\_repositories\\\\Databases\\\\SIM\\\\DOFET\\\\DOFET12.csv']\n",
      "1\n",
      "['D:\\\\_repositories\\\\Databases\\\\SIM\\\\DOFET\\\\DOFET13.csv']\n",
      "1\n",
      "['D:\\\\_repositories\\\\Databases\\\\SIM\\\\DOFET\\\\DOFET14.csv']\n",
      "1\n"
     ]
    },
    {
     "name": "stderr",
     "output_type": "stream",
     "text": [
      "C:\\Users\\ricmo\\AppData\\Local\\Temp\\ipykernel_16956\\4252435703.py:9: DtypeWarning: Columns (0,1,2,3,4,5,6,7,8,9,10,11,12,13,14,15,16,17,18,19,20,21,22,23,24,25,26,27,28,29,30,31,32,33,34,35,36,37,38,39,40,41,42,43,44,51,53,54,55,56,57,58,59,61,68,69,73,74,75,77,78,79,80,81,82,83,84,85,86,87,88,89,90,91,92,93,94,95,96,98) have mixed types. Specify dtype option on import or set low_memory=False.\n",
      "  df = pd.read_csv(item, encoding='ANSI')\n"
     ]
    },
    {
     "name": "stdout",
     "output_type": "stream",
     "text": [
      "['D:\\\\_repositories\\\\Databases\\\\SIM\\\\DOFET\\\\DOFET15.csv']\n",
      "1\n"
     ]
    },
    {
     "name": "stderr",
     "output_type": "stream",
     "text": [
      "C:\\Users\\ricmo\\AppData\\Local\\Temp\\ipykernel_16956\\4252435703.py:7: DtypeWarning: Columns (90,92) have mixed types. Specify dtype option on import or set low_memory=False.\n",
      "  df = pd.read_csv(item)\n"
     ]
    },
    {
     "name": "stdout",
     "output_type": "stream",
     "text": [
      "['D:\\\\_repositories\\\\Databases\\\\SIM\\\\DOFET\\\\DOFET16.csv']\n",
      "1\n"
     ]
    },
    {
     "name": "stderr",
     "output_type": "stream",
     "text": [
      "C:\\Users\\ricmo\\AppData\\Local\\Temp\\ipykernel_16956\\4252435703.py:7: DtypeWarning: Columns (92) have mixed types. Specify dtype option on import or set low_memory=False.\n",
      "  df = pd.read_csv(item)\n"
     ]
    },
    {
     "name": "stdout",
     "output_type": "stream",
     "text": [
      "['D:\\\\_repositories\\\\Databases\\\\SIM\\\\DOFET\\\\DOFET17.csv']\n",
      "1\n",
      "['D:\\\\_repositories\\\\Databases\\\\SIM\\\\DOFET\\\\DOFET18.csv']\n",
      "1\n",
      "['D:\\\\_repositories\\\\Databases\\\\SIM\\\\DOFET\\\\DOFET19.csv']\n",
      "1\n"
     ]
    },
    {
     "name": "stderr",
     "output_type": "stream",
     "text": [
      "C:\\Users\\ricmo\\AppData\\Local\\Temp\\ipykernel_16956\\4252435703.py:7: DtypeWarning: Columns (90) have mixed types. Specify dtype option on import or set low_memory=False.\n",
      "  df = pd.read_csv(item)\n"
     ]
    },
    {
     "name": "stdout",
     "output_type": "stream",
     "text": [
      "['D:\\\\_repositories\\\\Databases\\\\SIM\\\\DOFET\\\\DOFET20.csv']\n",
      "1\n",
      "['D:\\\\_repositories\\\\Databases\\\\SIM\\\\DOFET\\\\DOFET21.csv']\n",
      "1\n",
      "['D:\\\\_repositories\\\\Databases\\\\SIM\\\\DOFET\\\\DOFET22.csv']\n",
      "1\n"
     ]
    }
   ],
   "source": [
    "# Corrigindo DOFET\n",
    "for i in range(12, 23):\n",
    "    files = find_files('D:\\\\_repositories\\\\Databases\\\\SIM\\\\DOFET', f'*{i}.csv', i)\n",
    "\n",
    "    for item in files:\n",
    "        try:\n",
    "            df = pd.read_csv(item)\n",
    "        except UnicodeDecodeError:\n",
    "            df = pd.read_csv(item, encoding='ANSI')\n",
    "\n",
    "        df = find_double_header(df)\n",
    "\n",
    "        for colunas in df.columns:\n",
    "            try:\n",
    "                df[colunas] = df[colunas].astype('Int64')\n",
    "            except ValueError:\n",
    "                continue\n",
    "            except TypeError:\n",
    "                continue\n",
    "\n",
    "        df = df.drop_duplicates()\n",
    "        df.to_csv(f'D:\\\\_repositories\\\\Aggregation\\\\Results\\\\SIMDOFET-Corrigido\\\\DOFET{i}.csv', index=False)"
   ]
  },
  {
   "cell_type": "code",
   "execution_count": 16,
   "metadata": {},
   "outputs": [
    {
     "name": "stdout",
     "output_type": "stream",
     "text": [
      "['D:\\\\_repositories\\\\Aggregation\\\\Results\\\\SIMDO-Filtrado\\\\DO2012.csv']\n",
      "1\n",
      "['D:\\\\_repositories\\\\Aggregation\\\\Results\\\\SIMDOFET-Corrigido\\\\DOFET12.csv']\n",
      "1\n",
      "['D:\\\\_repositories\\\\Aggregation\\\\Results\\\\SIMDO-Filtrado\\\\DO2013.csv']\n",
      "1\n",
      "['D:\\\\_repositories\\\\Aggregation\\\\Results\\\\SIMDOFET-Corrigido\\\\DOFET13.csv']\n",
      "1\n",
      "['D:\\\\_repositories\\\\Aggregation\\\\Results\\\\SIMDO-Filtrado\\\\DO2014.csv']\n",
      "1\n",
      "['D:\\\\_repositories\\\\Aggregation\\\\Results\\\\SIMDOFET-Corrigido\\\\DOFET14.csv']\n",
      "1\n"
     ]
    },
    {
     "name": "stderr",
     "output_type": "stream",
     "text": [
      "C:\\Users\\ricmo\\AppData\\Local\\Temp\\ipykernel_16956\\2613542773.py:9: DtypeWarning: Columns (20,80,82) have mixed types. Specify dtype option on import or set low_memory=False.\n",
      "  df = pd.read_csv(item1)\n",
      "C:\\Users\\ricmo\\AppData\\Local\\Temp\\ipykernel_16956\\2613542773.py:10: DtypeWarning: Columns (23,51,53,90,92) have mixed types. Specify dtype option on import or set low_memory=False.\n",
      "  aux = pd.read_csv(item2)\n"
     ]
    },
    {
     "name": "stdout",
     "output_type": "stream",
     "text": [
      "['D:\\\\_repositories\\\\Aggregation\\\\Results\\\\SIMDO-Filtrado\\\\DO2015.csv']\n",
      "1\n",
      "['D:\\\\_repositories\\\\Aggregation\\\\Results\\\\SIMDOFET-Corrigido\\\\DOFET15.csv']\n",
      "1\n"
     ]
    },
    {
     "name": "stderr",
     "output_type": "stream",
     "text": [
      "C:\\Users\\ricmo\\AppData\\Local\\Temp\\ipykernel_16956\\2613542773.py:9: DtypeWarning: Columns (20,80,82) have mixed types. Specify dtype option on import or set low_memory=False.\n",
      "  df = pd.read_csv(item1)\n",
      "C:\\Users\\ricmo\\AppData\\Local\\Temp\\ipykernel_16956\\2613542773.py:10: DtypeWarning: Columns (90,92) have mixed types. Specify dtype option on import or set low_memory=False.\n",
      "  aux = pd.read_csv(item2)\n"
     ]
    },
    {
     "name": "stdout",
     "output_type": "stream",
     "text": [
      "['D:\\\\_repositories\\\\Aggregation\\\\Results\\\\SIMDO-Filtrado\\\\DO2016.csv']\n",
      "1\n",
      "['D:\\\\_repositories\\\\Aggregation\\\\Results\\\\SIMDOFET-Corrigido\\\\DOFET16.csv']\n",
      "1\n"
     ]
    },
    {
     "name": "stderr",
     "output_type": "stream",
     "text": [
      "C:\\Users\\ricmo\\AppData\\Local\\Temp\\ipykernel_16956\\2613542773.py:9: DtypeWarning: Columns (82) have mixed types. Specify dtype option on import or set low_memory=False.\n",
      "  df = pd.read_csv(item1)\n",
      "C:\\Users\\ricmo\\AppData\\Local\\Temp\\ipykernel_16956\\2613542773.py:10: DtypeWarning: Columns (92) have mixed types. Specify dtype option on import or set low_memory=False.\n",
      "  aux = pd.read_csv(item2)\n"
     ]
    },
    {
     "name": "stdout",
     "output_type": "stream",
     "text": [
      "['D:\\\\_repositories\\\\Aggregation\\\\Results\\\\SIMDO-Filtrado\\\\DO2017.csv']\n",
      "1\n",
      "['D:\\\\_repositories\\\\Aggregation\\\\Results\\\\SIMDOFET-Corrigido\\\\DOFET17.csv']\n",
      "1\n"
     ]
    },
    {
     "name": "stderr",
     "output_type": "stream",
     "text": [
      "C:\\Users\\ricmo\\AppData\\Local\\Temp\\ipykernel_16956\\2613542773.py:9: DtypeWarning: Columns (82) have mixed types. Specify dtype option on import or set low_memory=False.\n",
      "  df = pd.read_csv(item1)\n"
     ]
    },
    {
     "name": "stdout",
     "output_type": "stream",
     "text": [
      "['D:\\\\_repositories\\\\Aggregation\\\\Results\\\\SIMDO-Filtrado\\\\DO2018.csv']\n",
      "1\n",
      "['D:\\\\_repositories\\\\Aggregation\\\\Results\\\\SIMDOFET-Corrigido\\\\DOFET18.csv']\n",
      "1\n"
     ]
    },
    {
     "name": "stderr",
     "output_type": "stream",
     "text": [
      "C:\\Users\\ricmo\\AppData\\Local\\Temp\\ipykernel_16956\\2613542773.py:9: DtypeWarning: Columns (81) have mixed types. Specify dtype option on import or set low_memory=False.\n",
      "  df = pd.read_csv(item1)\n"
     ]
    },
    {
     "name": "stdout",
     "output_type": "stream",
     "text": [
      "['D:\\\\_repositories\\\\Aggregation\\\\Results\\\\SIMDO-Filtrado\\\\DO2019.csv']\n",
      "1\n",
      "['D:\\\\_repositories\\\\Aggregation\\\\Results\\\\SIMDOFET-Corrigido\\\\DOFET19.csv']\n",
      "1\n"
     ]
    },
    {
     "name": "stderr",
     "output_type": "stream",
     "text": [
      "C:\\Users\\ricmo\\AppData\\Local\\Temp\\ipykernel_16956\\2613542773.py:9: DtypeWarning: Columns (80) have mixed types. Specify dtype option on import or set low_memory=False.\n",
      "  df = pd.read_csv(item1)\n",
      "C:\\Users\\ricmo\\AppData\\Local\\Temp\\ipykernel_16956\\2613542773.py:10: DtypeWarning: Columns (90) have mixed types. Specify dtype option on import or set low_memory=False.\n",
      "  aux = pd.read_csv(item2)\n"
     ]
    },
    {
     "name": "stdout",
     "output_type": "stream",
     "text": [
      "['D:\\\\_repositories\\\\Aggregation\\\\Results\\\\SIMDO-Filtrado\\\\DO2020.csv']\n",
      "1\n",
      "['D:\\\\_repositories\\\\Aggregation\\\\Results\\\\SIMDOFET-Corrigido\\\\DOFET20.csv']\n",
      "1\n"
     ]
    },
    {
     "name": "stderr",
     "output_type": "stream",
     "text": [
      "C:\\Users\\ricmo\\AppData\\Local\\Temp\\ipykernel_16956\\2613542773.py:9: DtypeWarning: Columns (80) have mixed types. Specify dtype option on import or set low_memory=False.\n",
      "  df = pd.read_csv(item1)\n"
     ]
    },
    {
     "name": "stdout",
     "output_type": "stream",
     "text": [
      "['D:\\\\_repositories\\\\Aggregation\\\\Results\\\\SIMDO-Filtrado\\\\DO2021.csv']\n",
      "1\n",
      "['D:\\\\_repositories\\\\Aggregation\\\\Results\\\\SIMDOFET-Corrigido\\\\DOFET21.csv']\n",
      "1\n"
     ]
    },
    {
     "name": "stderr",
     "output_type": "stream",
     "text": [
      "C:\\Users\\ricmo\\AppData\\Local\\Temp\\ipykernel_16956\\2613542773.py:9: DtypeWarning: Columns (80) have mixed types. Specify dtype option on import or set low_memory=False.\n",
      "  df = pd.read_csv(item1)\n"
     ]
    },
    {
     "name": "stdout",
     "output_type": "stream",
     "text": [
      "['D:\\\\_repositories\\\\Aggregation\\\\Results\\\\SIMDO-Filtrado\\\\DO2022.csv']\n",
      "1\n",
      "['D:\\\\_repositories\\\\Aggregation\\\\Results\\\\SIMDOFET-Corrigido\\\\DOFET22.csv']\n",
      "1\n"
     ]
    },
    {
     "name": "stderr",
     "output_type": "stream",
     "text": [
      "C:\\Users\\ricmo\\AppData\\Local\\Temp\\ipykernel_16956\\2613542773.py:9: DtypeWarning: Columns (80) have mixed types. Specify dtype option on import or set low_memory=False.\n",
      "  df = pd.read_csv(item1)\n"
     ]
    }
   ],
   "source": [
    "for i in range(12, 23):\n",
    "    do = find_files('D:\\\\_repositories\\\\Aggregation\\\\Results\\\\SIMDO-Filtrado', f'*20{i}.csv', i)\n",
    "    dofet = find_files('D:\\\\_repositories\\\\Aggregation\\\\Results\\\\SIMDOFET-Corrigido', f'*{i}.csv', i)\n",
    "\n",
    "    # aux = pd.DataFrame()\n",
    "    for item1, item2 in zip(do, dofet):\n",
    "        # print(f'{item1} {item2}')\n",
    "\n",
    "        df = pd.read_csv(item1)\n",
    "        aux = pd.read_csv(item2)\n",
    "\n",
    "        aux = pd.concat([aux, df], axis=0)\n",
    "\n",
    "        aux.to_csv(f'D:\\\\_repositories\\\\Aggregation\\\\Results\\\\SIM-Concatenado\\\\SIM20{i}.csv')"
   ]
  },
  {
   "cell_type": "markdown",
   "metadata": {},
   "source": [
    "---"
   ]
  },
  {
   "cell_type": "code",
   "execution_count": 17,
   "metadata": {},
   "outputs": [
    {
     "name": "stdout",
     "output_type": "stream",
     "text": [
      "['D:\\\\_repositories\\\\Aggregation\\\\Results\\\\SIM-Concatenado\\\\SIM2012.csv']\n",
      "1\n",
      "['D:\\\\_repositories\\\\Aggregation\\\\Results\\\\SIM-Concatenado\\\\SIM2013.csv']\n",
      "1\n",
      "['D:\\\\_repositories\\\\Aggregation\\\\Results\\\\SIM-Concatenado\\\\SIM2014.csv']\n",
      "1\n"
     ]
    },
    {
     "name": "stderr",
     "output_type": "stream",
     "text": [
      "C:\\Users\\ricmo\\AppData\\Local\\Temp\\ipykernel_16956\\1923534977.py:5: DtypeWarning: Columns (24,52,53,54,63,64,65,66,67,91,93) have mixed types. Specify dtype option on import or set low_memory=False.\n",
      "  df = pd.read_csv(item)\n"
     ]
    },
    {
     "name": "stdout",
     "output_type": "stream",
     "text": [
      "['D:\\\\_repositories\\\\Aggregation\\\\Results\\\\SIM-Concatenado\\\\SIM2015.csv']\n",
      "1\n"
     ]
    },
    {
     "name": "stderr",
     "output_type": "stream",
     "text": [
      "C:\\Users\\ricmo\\AppData\\Local\\Temp\\ipykernel_16956\\1923534977.py:5: DtypeWarning: Columns (24,91,93) have mixed types. Specify dtype option on import or set low_memory=False.\n",
      "  df = pd.read_csv(item)\n"
     ]
    },
    {
     "name": "stdout",
     "output_type": "stream",
     "text": [
      "['D:\\\\_repositories\\\\Aggregation\\\\Results\\\\SIM-Concatenado\\\\SIM2016.csv']\n",
      "1\n"
     ]
    },
    {
     "name": "stderr",
     "output_type": "stream",
     "text": [
      "C:\\Users\\ricmo\\AppData\\Local\\Temp\\ipykernel_16956\\1923534977.py:5: DtypeWarning: Columns (93) have mixed types. Specify dtype option on import or set low_memory=False.\n",
      "  df = pd.read_csv(item)\n"
     ]
    },
    {
     "name": "stdout",
     "output_type": "stream",
     "text": [
      "['D:\\\\_repositories\\\\Aggregation\\\\Results\\\\SIM-Concatenado\\\\SIM2017.csv']\n",
      "1\n"
     ]
    },
    {
     "name": "stderr",
     "output_type": "stream",
     "text": [
      "C:\\Users\\ricmo\\AppData\\Local\\Temp\\ipykernel_16956\\1923534977.py:5: DtypeWarning: Columns (93) have mixed types. Specify dtype option on import or set low_memory=False.\n",
      "  df = pd.read_csv(item)\n"
     ]
    },
    {
     "name": "stdout",
     "output_type": "stream",
     "text": [
      "['D:\\\\_repositories\\\\Aggregation\\\\Results\\\\SIM-Concatenado\\\\SIM2018.csv']\n",
      "1\n"
     ]
    },
    {
     "name": "stderr",
     "output_type": "stream",
     "text": [
      "C:\\Users\\ricmo\\AppData\\Local\\Temp\\ipykernel_16956\\1923534977.py:5: DtypeWarning: Columns (92) have mixed types. Specify dtype option on import or set low_memory=False.\n",
      "  df = pd.read_csv(item)\n"
     ]
    },
    {
     "name": "stdout",
     "output_type": "stream",
     "text": [
      "['D:\\\\_repositories\\\\Aggregation\\\\Results\\\\SIM-Concatenado\\\\SIM2019.csv']\n",
      "1\n"
     ]
    },
    {
     "name": "stderr",
     "output_type": "stream",
     "text": [
      "C:\\Users\\ricmo\\AppData\\Local\\Temp\\ipykernel_16956\\1923534977.py:5: DtypeWarning: Columns (91) have mixed types. Specify dtype option on import or set low_memory=False.\n",
      "  df = pd.read_csv(item)\n"
     ]
    },
    {
     "name": "stdout",
     "output_type": "stream",
     "text": [
      "['D:\\\\_repositories\\\\Aggregation\\\\Results\\\\SIM-Concatenado\\\\SIM2020.csv']\n",
      "1\n"
     ]
    },
    {
     "name": "stderr",
     "output_type": "stream",
     "text": [
      "C:\\Users\\ricmo\\AppData\\Local\\Temp\\ipykernel_16956\\1923534977.py:5: DtypeWarning: Columns (91) have mixed types. Specify dtype option on import or set low_memory=False.\n",
      "  df = pd.read_csv(item)\n"
     ]
    },
    {
     "name": "stdout",
     "output_type": "stream",
     "text": [
      "['D:\\\\_repositories\\\\Aggregation\\\\Results\\\\SIM-Concatenado\\\\SIM2021.csv']\n",
      "1\n"
     ]
    },
    {
     "name": "stderr",
     "output_type": "stream",
     "text": [
      "C:\\Users\\ricmo\\AppData\\Local\\Temp\\ipykernel_16956\\1923534977.py:5: DtypeWarning: Columns (91) have mixed types. Specify dtype option on import or set low_memory=False.\n",
      "  df = pd.read_csv(item)\n"
     ]
    },
    {
     "name": "stdout",
     "output_type": "stream",
     "text": [
      "['D:\\\\_repositories\\\\Aggregation\\\\Results\\\\SIM-Concatenado\\\\SIM2022.csv']\n",
      "1\n"
     ]
    },
    {
     "name": "stderr",
     "output_type": "stream",
     "text": [
      "C:\\Users\\ricmo\\AppData\\Local\\Temp\\ipykernel_16956\\1923534977.py:5: DtypeWarning: Columns (91) have mixed types. Specify dtype option on import or set low_memory=False.\n",
      "  df = pd.read_csv(item)\n"
     ]
    }
   ],
   "source": [
    "for i in range(12, 23):\n",
    "    files = find_files('D:\\\\_repositories\\\\Aggregation\\\\Results\\\\SIM-Concatenado', f'*20{i}.csv', i)\n",
    "    \n",
    "    for item in files:\n",
    "        df = pd.read_csv(item)\n",
    "        "
   ]
  },
  {
   "cell_type": "markdown",
   "metadata": {},
   "source": [
    "---"
   ]
  },
  {
   "cell_type": "code",
   "execution_count": 18,
   "metadata": {},
   "outputs": [
    {
     "name": "stderr",
     "output_type": "stream",
     "text": [
      "C:\\Users\\ricmo\\AppData\\Local\\Temp\\ipykernel_16956\\1071666090.py:1: DtypeWarning: Columns (91) have mixed types. Specify dtype option on import or set low_memory=False.\n",
      "  df = pd.read_csv('D:\\\\_repositories\\\\Aggregation\\\\Results\\\\SIM-Concatenado\\\\SIM2022.csv')\n"
     ]
    },
    {
     "name": "stdout",
     "output_type": "stream",
     "text": [
      "<class 'pandas.core.frame.DataFrame'>\n",
      "RangeIndex: 58791 entries, 0 to 58790\n",
      "Data columns (total 100 columns):\n",
      " #   Column        Non-Null Count  Dtype  \n",
      "---  ------        --------------  -----  \n",
      " 0   Unnamed: 0.1  58791 non-null  int64  \n",
      " 1   ORIGEM        58791 non-null  int64  \n",
      " 2   CODMUNCART    0 non-null      float64\n",
      " 3   NUMREGCART    0 non-null      float64\n",
      " 4   CODCART       0 non-null      float64\n",
      " 5   DTREGCART     0 non-null      float64\n",
      " 6   TIPOBITO      58791 non-null  int64  \n",
      " 7   DTOBITO       58791 non-null  int64  \n",
      " 8   HORAOBITO     56580 non-null  float64\n",
      " 9   NATURAL       54301 non-null  float64\n",
      " 10  CODMUNNATU    53916 non-null  float64\n",
      " 11  DTNASC        31233 non-null  float64\n",
      " 12  IDADE         31397 non-null  float64\n",
      " 13  SEXO          58791 non-null  int64  \n",
      " 14  RACACOR       29491 non-null  float64\n",
      " 15  ESTCIV        41 non-null     float64\n",
      " 16  ESC           0 non-null      float64\n",
      " 17  ESC2010       0 non-null      float64\n",
      " 18  SERIESCFAL    0 non-null      float64\n",
      " 19  OCUP          10 non-null     float64\n",
      " 20  CODMUNRES     58791 non-null  int64  \n",
      " 21  LOCOCOR       58791 non-null  int64  \n",
      " 22  CODESTAB      55488 non-null  float64\n",
      " 23  ESTABDESCR    0 non-null      float64\n",
      " 24  CODMUNOCOR    58791 non-null  int64  \n",
      " 25  IDADEMAE      54059 non-null  float64\n",
      " 26  ESCMAE        53185 non-null  float64\n",
      " 27  ESCMAE2010    52961 non-null  float64\n",
      " 28  SERIESCMAE    20699 non-null  float64\n",
      " 29  OCUPMAE       47623 non-null  float64\n",
      " 30  QTDFILVIVO    53988 non-null  float64\n",
      " 31  QTDFILMORT    52432 non-null  float64\n",
      " 32  GRAVIDEZ      55794 non-null  float64\n",
      " 33  SEMAGESTAC    53551 non-null  float64\n",
      " 34  GESTACAO      53551 non-null  float64\n",
      " 35  PARTO         55595 non-null  float64\n",
      " 36  OBITOPARTO    55212 non-null  float64\n",
      " 37  PESO          53715 non-null  float64\n",
      " 38  TPMORTEOCO    1524 non-null   float64\n",
      " 39  OBITOGRAV     1526 non-null   float64\n",
      " 40  OBITOPUERP    1526 non-null   float64\n",
      " 41  ASSISTMED     40121 non-null  float64\n",
      " 42  EXAME         73 non-null     float64\n",
      " 43  CIRURGIA      69 non-null     float64\n",
      " 44  NECROPSIA     41833 non-null  float64\n",
      " 45  LINHAA        56203 non-null  object \n",
      " 46  LINHAB        37085 non-null  object \n",
      " 47  LINHAC        21789 non-null  object \n",
      " 48  LINHAD        10574 non-null  object \n",
      " 49  LINHAII       17140 non-null  object \n",
      " 50  CAUSABAS      58791 non-null  object \n",
      " 51  CB_PRE        0 non-null      float64\n",
      " 52  MEDICO        0 non-null      float64\n",
      " 53  COMUNSVOIM    6760 non-null   float64\n",
      " 54  DTATESTADO    58676 non-null  float64\n",
      " 55  CIRCOBITO     1178 non-null   float64\n",
      " 56  ACIDTRAB      533 non-null    float64\n",
      " 57  FONTE         929 non-null    float64\n",
      " 58  NUMEROLOTE    58750 non-null  float64\n",
      " 59  TPPOS         44407 non-null  object \n",
      " 60  DTINVESTIG    28463 non-null  float64\n",
      " 61  LINHAA_O      0 non-null      float64\n",
      " 62  LINHAB_O      0 non-null      float64\n",
      " 63  LINHAC_O      0 non-null      float64\n",
      " 64  LINHAD_O      0 non-null      float64\n",
      " 65  LINHAII_O     0 non-null      float64\n",
      " 66  CAUSABAS_O    58734 non-null  object \n",
      " 67  DTCADASTRO    58780 non-null  float64\n",
      " 68  ATESTANTE     54939 non-null  float64\n",
      " 69  STCODIFICA    58787 non-null  object \n",
      " 70  CODIFICADO    58791 non-null  object \n",
      " 71  VERSAOSIST    58791 non-null  object \n",
      " 72  VERSAOSCB     56451 non-null  float64\n",
      " 73  FONTEINV      28636 non-null  float64\n",
      " 74  DTRECEBIM     58725 non-null  float64\n",
      " 75  ATESTADO      58779 non-null  object \n",
      " 76  DTRECORIG     0 non-null      float64\n",
      " 77  DTRECORIGA    58791 non-null  int64  \n",
      " 78  CAUSAMAT      0 non-null      float64\n",
      " 79  ESCMAEAGR1    52961 non-null  float64\n",
      " 80  ESCFALAGR1    0 non-null      float64\n",
      " 81  STDOEPIDEM    58791 non-null  float64\n",
      " 82  STDONOVA      58791 non-null  int64  \n",
      " 83  DIFDATA       58791 non-null  int64  \n",
      " 84  NUDIASOBCO    11 non-null     float64\n",
      " 85  NUDIASOBIN    0 non-null      float64\n",
      " 86  DTCADINV      0 non-null      float64\n",
      " 87  TPOBITOCOR    0 non-null      float64\n",
      " 88  DTCONINV      0 non-null      float64\n",
      " 89  FONTES        47792 non-null  object \n",
      " 90  TPRESGINFO    5 non-null      float64\n",
      " 91  TPNIVELINV    11 non-null     object \n",
      " 92  NUDIASINF     0 non-null      float64\n",
      " 93  DTCADINF      47792 non-null  float64\n",
      " 94  MORTEPARTO    47792 non-null  float64\n",
      " 95  DTCONCASO     44207 non-null  float64\n",
      " 96  FONTESINF     0 non-null      float64\n",
      " 97  ALTCAUSA      46622 non-null  float64\n",
      " 98  CONTADOR      58791 non-null  int64  \n",
      " 99  Unnamed: 0    31397 non-null  float64\n",
      "dtypes: float64(74), int64(12), object(14)\n",
      "memory usage: 44.9+ MB\n"
     ]
    }
   ],
   "source": [
    "df = pd.read_csv('D:\\\\_repositories\\\\Aggregation\\\\Results\\\\SIM-Concatenado\\\\SIM2022.csv')\n",
    "df.info()"
   ]
  },
  {
   "cell_type": "code",
   "execution_count": 20,
   "metadata": {},
   "outputs": [
    {
     "name": "stderr",
     "output_type": "stream",
     "text": [
      "C:\\Users\\ricmo\\AppData\\Local\\Temp\\ipykernel_16956\\424150026.py:4: SettingWithCopyWarning: \n",
      "A value is trying to be set on a copy of a slice from a DataFrame\n",
      "\n",
      "See the caveats in the documentation: https://pandas.pydata.org/pandas-docs/stable/user_guide/indexing.html#returning-a-view-versus-a-copy\n",
      "  df['TPNIVELINV'].loc[df['TPNIVELINV'] == 'E'] = 1\n",
      "C:\\Users\\ricmo\\AppData\\Local\\Temp\\ipykernel_16956\\424150026.py:5: SettingWithCopyWarning: \n",
      "A value is trying to be set on a copy of a slice from a DataFrame\n",
      "\n",
      "See the caveats in the documentation: https://pandas.pydata.org/pandas-docs/stable/user_guide/indexing.html#returning-a-view-versus-a-copy\n",
      "  df['TPNIVELINV'].loc[df['TPNIVELINV'] == 'R'] = 2\n",
      "C:\\Users\\ricmo\\AppData\\Local\\Temp\\ipykernel_16956\\424150026.py:6: SettingWithCopyWarning: \n",
      "A value is trying to be set on a copy of a slice from a DataFrame\n",
      "\n",
      "See the caveats in the documentation: https://pandas.pydata.org/pandas-docs/stable/user_guide/indexing.html#returning-a-view-versus-a-copy\n",
      "  df['TPNIVELINV'].loc[df['TPNIVELINV'] == 'M'] = 3\n"
     ]
    }
   ],
   "source": [
    "# E – estadual; R- regional; M- Municipal\n",
    "# 1 - Estadual; 2 - Regional. 3 - Municipal\n",
    "\n",
    "df['TPNIVELINV'].loc[df['TPNIVELINV'] == 'E'] = 1\n",
    "df['TPNIVELINV'].loc[df['TPNIVELINV'] == 'R'] = 2\n",
    "df['TPNIVELINV'].loc[df['TPNIVELINV'] == 'M'] = 3\n",
    "\n",
    "df['TPNIVELINV'] = df['TPNIVELINV'].astype('Int64')"
   ]
  },
  {
   "cell_type": "code",
   "execution_count": 22,
   "metadata": {},
   "outputs": [],
   "source": [
    "for colunas in df.columns:\n",
    "    try:\n",
    "        df[colunas] = df[colunas].astype('Int64')\n",
    "    except ValueError:\n",
    "        continue\n",
    "    except TypeError:\n",
    "        continue"
   ]
  },
  {
   "cell_type": "code",
   "execution_count": 23,
   "metadata": {},
   "outputs": [],
   "source": [
    "df.to_csv('D:\\\\_repositories\\\\Aggregation\\\\Results\\\\SIM-DtypeCorrigido\\\\csv\\\\SIM2022.csv', index=False)\n",
    "df.to_parquet('D:\\\\_repositories\\\\Aggregation\\\\Results\\\\SIM-DtypeCorrigido\\\\parquet\\\\SIM2022.parquet', index=False)"
   ]
  },
  {
   "cell_type": "markdown",
   "metadata": {},
   "source": [
    "---"
   ]
  },
  {
   "cell_type": "code",
   "execution_count": 24,
   "metadata": {},
   "outputs": [
    {
     "name": "stdout",
     "output_type": "stream",
     "text": [
      "<class 'pandas.core.frame.DataFrame'>\n",
      "RangeIndex: 60219 entries, 0 to 60218\n",
      "Data columns (total 100 columns):\n",
      " #   Column        Non-Null Count  Dtype  \n",
      "---  ------        --------------  -----  \n",
      " 0   Unnamed: 0.1  60219 non-null  int64  \n",
      " 1   ORIGEM        60219 non-null  int64  \n",
      " 2   CODMUNCART    0 non-null      float64\n",
      " 3   NUMREGCART    0 non-null      float64\n",
      " 4   CODCART       0 non-null      float64\n",
      " 5   DTREGCART     0 non-null      float64\n",
      " 6   TIPOBITO      60219 non-null  int64  \n",
      " 7   DTOBITO       60219 non-null  int64  \n",
      " 8   HORAOBITO     57731 non-null  float64\n",
      " 9   NATURAL       55304 non-null  float64\n",
      " 10  CODMUNNATU    54848 non-null  float64\n",
      " 11  DTNASC        30747 non-null  float64\n",
      " 12  IDADE         30894 non-null  float64\n",
      " 13  SEXO          60219 non-null  int64  \n",
      " 14  RACACOR       28619 non-null  float64\n",
      " 15  ESTCIV        45 non-null     float64\n",
      " 16  ESC           0 non-null      float64\n",
      " 17  ESC2010       0 non-null      float64\n",
      " 18  SERIESCFAL    0 non-null      float64\n",
      " 19  OCUP          7 non-null      float64\n",
      " 20  CODMUNRES     60219 non-null  int64  \n",
      " 21  LOCOCOR       60219 non-null  int64  \n",
      " 22  CODESTAB      56763 non-null  float64\n",
      " 23  ESTABDESCR    0 non-null      float64\n",
      " 24  CODMUNOCOR    60219 non-null  int64  \n",
      " 25  IDADEMAE      55137 non-null  float64\n",
      " 26  ESCMAE        54058 non-null  float64\n",
      " 27  ESCMAE2010    53904 non-null  float64\n",
      " 28  SERIESCMAE    20569 non-null  float64\n",
      " 29  OCUPMAE       47939 non-null  float64\n",
      " 30  QTDFILVIVO    54992 non-null  float64\n",
      " 31  QTDFILMORT    53198 non-null  float64\n",
      " 32  GRAVIDEZ      57255 non-null  float64\n",
      " 33  SEMAGESTAC    54816 non-null  float64\n",
      " 34  GESTACAO      54816 non-null  float64\n",
      " 35  PARTO         56989 non-null  float64\n",
      " 36  OBITOPARTO    56591 non-null  float64\n",
      " 37  PESO          55107 non-null  float64\n",
      " 38  TPMORTEOCO    1527 non-null   float64\n",
      " 39  OBITOGRAV     1529 non-null   float64\n",
      " 40  OBITOPUERP    1529 non-null   float64\n",
      " 41  ASSISTMED     40216 non-null  float64\n",
      " 42  EXAME         37 non-null     float64\n",
      " 43  CIRURGIA      35 non-null     float64\n",
      " 44  NECROPSIA     41478 non-null  float64\n",
      " 45  LINHAA        57480 non-null  object \n",
      " 46  LINHAB        37344 non-null  object \n",
      " 47  LINHAC        21751 non-null  object \n",
      " 48  LINHAD        10301 non-null  object \n",
      " 49  LINHAII       16597 non-null  object \n",
      " 50  CAUSABAS      60219 non-null  object \n",
      " 51  CB_PRE        0 non-null      float64\n",
      " 52  MEDICO        0 non-null      float64\n",
      " 53  COMUNSVOIM    4925 non-null   float64\n",
      " 54  DTATESTADO    60033 non-null  float64\n",
      " 55  CIRCOBITO     1058 non-null   float64\n",
      " 56  ACIDTRAB      461 non-null    float64\n",
      " 57  FONTE         820 non-null    float64\n",
      " 58  NUMEROLOTE    60171 non-null  float64\n",
      " 59  TPPOS         45897 non-null  object \n",
      " 60  DTINVESTIG    28057 non-null  float64\n",
      " 61  LINHAA_O      0 non-null      float64\n",
      " 62  LINHAB_O      0 non-null      float64\n",
      " 63  LINHAC_O      0 non-null      float64\n",
      " 64  LINHAD_O      0 non-null      float64\n",
      " 65  LINHAII_O     0 non-null      float64\n",
      " 66  CAUSABAS_O    60137 non-null  object \n",
      " 67  DTCADASTRO    60188 non-null  float64\n",
      " 68  ATESTANTE     55481 non-null  float64\n",
      " 69  STCODIFICA    60208 non-null  object \n",
      " 70  CODIFICADO    60219 non-null  object \n",
      " 71  VERSAOSIST    60219 non-null  object \n",
      " 72  VERSAOSCB     57936 non-null  float64\n",
      " 73  FONTEINV      28577 non-null  float64\n",
      " 74  DTRECEBIM     59814 non-null  float64\n",
      " 75  ATESTADO      60219 non-null  object \n",
      " 76  DTRECORIG     0 non-null      float64\n",
      " 77  DTRECORIGA    60219 non-null  int64  \n",
      " 78  CAUSAMAT      0 non-null      float64\n",
      " 79  ESCMAEAGR1    53904 non-null  float64\n",
      " 80  ESCFALAGR1    0 non-null      float64\n",
      " 81  STDOEPIDEM    60219 non-null  float64\n",
      " 82  STDONOVA      60219 non-null  int64  \n",
      " 83  DIFDATA       60219 non-null  int64  \n",
      " 84  NUDIASOBCO    22 non-null     float64\n",
      " 85  NUDIASOBIN    0 non-null      float64\n",
      " 86  DTCADINV      0 non-null      float64\n",
      " 87  TPOBITOCOR    0 non-null      float64\n",
      " 88  DTCONINV      0 non-null      float64\n",
      " 89  FONTES        47999 non-null  object \n",
      " 90  TPRESGINFO    4 non-null      float64\n",
      " 91  TPNIVELINV    25 non-null     object \n",
      " 92  NUDIASINF     0 non-null      float64\n",
      " 93  DTCADINF      47999 non-null  float64\n",
      " 94  MORTEPARTO    47999 non-null  float64\n",
      " 95  DTCONCASO     44637 non-null  float64\n",
      " 96  FONTESINF     0 non-null      float64\n",
      " 97  ALTCAUSA      46885 non-null  float64\n",
      " 98  CONTADOR      60219 non-null  int64  \n",
      " 99  Unnamed: 0    30894 non-null  float64\n",
      "dtypes: float64(74), int64(12), object(14)\n",
      "memory usage: 45.9+ MB\n"
     ]
    },
    {
     "name": "stderr",
     "output_type": "stream",
     "text": [
      "C:\\Users\\ricmo\\AppData\\Local\\Temp\\ipykernel_16956\\407452425.py:1: DtypeWarning: Columns (91) have mixed types. Specify dtype option on import or set low_memory=False.\n",
      "  df = pd.read_csv('D:\\\\_repositories\\\\Aggregation\\\\Results\\\\SIM-Concatenado\\\\SIM2021.csv')\n"
     ]
    }
   ],
   "source": [
    "df = pd.read_csv('D:\\\\_repositories\\\\Aggregation\\\\Results\\\\SIM-Concatenado\\\\SIM2021.csv')\n",
    "df.info()"
   ]
  },
  {
   "cell_type": "code",
   "execution_count": 25,
   "metadata": {},
   "outputs": [
    {
     "name": "stderr",
     "output_type": "stream",
     "text": [
      "C:\\Users\\ricmo\\AppData\\Local\\Temp\\ipykernel_16956\\424150026.py:4: FutureWarning: ChainedAssignmentError: behaviour will change in pandas 3.0!\n",
      "You are setting values through chained assignment. Currently this works in certain cases, but when using Copy-on-Write (which will become the default behaviour in pandas 3.0) this will never work to update the original DataFrame or Series, because the intermediate object on which we are setting values will behave as a copy.\n",
      "A typical example is when you are setting values in a column of a DataFrame, like:\n",
      "\n",
      "df[\"col\"][row_indexer] = value\n",
      "\n",
      "Use `df.loc[row_indexer, \"col\"] = values` instead, to perform the assignment in a single step and ensure this keeps updating the original `df`.\n",
      "\n",
      "See the caveats in the documentation: https://pandas.pydata.org/pandas-docs/stable/user_guide/indexing.html#returning-a-view-versus-a-copy\n",
      "\n",
      "  df['TPNIVELINV'].loc[df['TPNIVELINV'] == 'E'] = 1\n",
      "C:\\Users\\ricmo\\AppData\\Local\\Temp\\ipykernel_16956\\424150026.py:4: SettingWithCopyWarning: \n",
      "A value is trying to be set on a copy of a slice from a DataFrame\n",
      "\n",
      "See the caveats in the documentation: https://pandas.pydata.org/pandas-docs/stable/user_guide/indexing.html#returning-a-view-versus-a-copy\n",
      "  df['TPNIVELINV'].loc[df['TPNIVELINV'] == 'E'] = 1\n",
      "C:\\Users\\ricmo\\AppData\\Local\\Temp\\ipykernel_16956\\424150026.py:5: FutureWarning: ChainedAssignmentError: behaviour will change in pandas 3.0!\n",
      "You are setting values through chained assignment. Currently this works in certain cases, but when using Copy-on-Write (which will become the default behaviour in pandas 3.0) this will never work to update the original DataFrame or Series, because the intermediate object on which we are setting values will behave as a copy.\n",
      "A typical example is when you are setting values in a column of a DataFrame, like:\n",
      "\n",
      "df[\"col\"][row_indexer] = value\n",
      "\n",
      "Use `df.loc[row_indexer, \"col\"] = values` instead, to perform the assignment in a single step and ensure this keeps updating the original `df`.\n",
      "\n",
      "See the caveats in the documentation: https://pandas.pydata.org/pandas-docs/stable/user_guide/indexing.html#returning-a-view-versus-a-copy\n",
      "\n",
      "  df['TPNIVELINV'].loc[df['TPNIVELINV'] == 'R'] = 2\n",
      "C:\\Users\\ricmo\\AppData\\Local\\Temp\\ipykernel_16956\\424150026.py:5: SettingWithCopyWarning: \n",
      "A value is trying to be set on a copy of a slice from a DataFrame\n",
      "\n",
      "See the caveats in the documentation: https://pandas.pydata.org/pandas-docs/stable/user_guide/indexing.html#returning-a-view-versus-a-copy\n",
      "  df['TPNIVELINV'].loc[df['TPNIVELINV'] == 'R'] = 2\n",
      "C:\\Users\\ricmo\\AppData\\Local\\Temp\\ipykernel_16956\\424150026.py:6: FutureWarning: ChainedAssignmentError: behaviour will change in pandas 3.0!\n",
      "You are setting values through chained assignment. Currently this works in certain cases, but when using Copy-on-Write (which will become the default behaviour in pandas 3.0) this will never work to update the original DataFrame or Series, because the intermediate object on which we are setting values will behave as a copy.\n",
      "A typical example is when you are setting values in a column of a DataFrame, like:\n",
      "\n",
      "df[\"col\"][row_indexer] = value\n",
      "\n",
      "Use `df.loc[row_indexer, \"col\"] = values` instead, to perform the assignment in a single step and ensure this keeps updating the original `df`.\n",
      "\n",
      "See the caveats in the documentation: https://pandas.pydata.org/pandas-docs/stable/user_guide/indexing.html#returning-a-view-versus-a-copy\n",
      "\n",
      "  df['TPNIVELINV'].loc[df['TPNIVELINV'] == 'M'] = 3\n",
      "C:\\Users\\ricmo\\AppData\\Local\\Temp\\ipykernel_16956\\424150026.py:6: SettingWithCopyWarning: \n",
      "A value is trying to be set on a copy of a slice from a DataFrame\n",
      "\n",
      "See the caveats in the documentation: https://pandas.pydata.org/pandas-docs/stable/user_guide/indexing.html#returning-a-view-versus-a-copy\n",
      "  df['TPNIVELINV'].loc[df['TPNIVELINV'] == 'M'] = 3\n"
     ]
    }
   ],
   "source": [
    "# E – estadual; R- regional; M- Municipal\n",
    "# 1 - Estadual; 2 - Regional. 3 - Municipal\n",
    "\n",
    "df['TPNIVELINV'].loc[df['TPNIVELINV'] == 'E'] = 1\n",
    "df['TPNIVELINV'].loc[df['TPNIVELINV'] == 'R'] = 2\n",
    "df['TPNIVELINV'].loc[df['TPNIVELINV'] == 'M'] = 3\n",
    "\n",
    "df['TPNIVELINV'] = df['TPNIVELINV'].astype('Int64')"
   ]
  },
  {
   "cell_type": "code",
   "execution_count": 26,
   "metadata": {},
   "outputs": [],
   "source": [
    "for colunas in df.columns:\n",
    "    try:\n",
    "        df[colunas] = df[colunas].astype('Int64')\n",
    "    except ValueError:\n",
    "        continue\n",
    "    except TypeError:\n",
    "        continue"
   ]
  },
  {
   "cell_type": "code",
   "execution_count": 27,
   "metadata": {},
   "outputs": [],
   "source": [
    "df.to_csv('D:\\\\_repositories\\\\Aggregation\\\\Results\\\\SIM-DtypeCorrigido\\\\csv\\\\SIM2021.csv', index=False)\n",
    "df.to_parquet('D:\\\\_repositories\\\\Aggregation\\\\Results\\\\SIM-DtypeCorrigido\\\\parquet\\\\SIM2021.parquet', index=False)"
   ]
  },
  {
   "cell_type": "markdown",
   "metadata": {},
   "source": [
    "---"
   ]
  },
  {
   "cell_type": "code",
   "execution_count": 28,
   "metadata": {},
   "outputs": [
    {
     "name": "stdout",
     "output_type": "stream",
     "text": [
      "<class 'pandas.core.frame.DataFrame'>\n",
      "RangeIndex: 59549 entries, 0 to 59548\n",
      "Data columns (total 100 columns):\n",
      " #   Column        Non-Null Count  Dtype  \n",
      "---  ------        --------------  -----  \n",
      " 0   Unnamed: 0.1  59549 non-null  int64  \n",
      " 1   ORIGEM        59549 non-null  int64  \n",
      " 2   CODMUNCART    0 non-null      float64\n",
      " 3   NUMREGCART    0 non-null      float64\n",
      " 4   CODCART       0 non-null      float64\n",
      " 5   DTREGCART     0 non-null      float64\n",
      " 6   TIPOBITO      59549 non-null  int64  \n",
      " 7   DTOBITO       59549 non-null  int64  \n",
      " 8   HORAOBITO     56771 non-null  float64\n",
      " 9   NATURAL       54179 non-null  float64\n",
      " 10  CODMUNNATU    53710 non-null  float64\n",
      " 11  DTNASC        30375 non-null  float64\n",
      " 12  IDADE         30556 non-null  float64\n",
      " 13  SEXO          59549 non-null  int64  \n",
      " 14  RACACOR       28192 non-null  float64\n",
      " 15  ESTCIV        52 non-null     float64\n",
      " 16  ESC           2 non-null      float64\n",
      " 17  ESC2010       1 non-null      float64\n",
      " 18  SERIESCFAL    0 non-null      float64\n",
      " 19  OCUP          7 non-null      float64\n",
      " 20  CODMUNRES     59549 non-null  int64  \n",
      " 21  LOCOCOR       59549 non-null  int64  \n",
      " 22  CODESTAB      56198 non-null  float64\n",
      " 23  ESTABDESCR    0 non-null      float64\n",
      " 24  CODMUNOCOR    59549 non-null  int64  \n",
      " 25  IDADEMAE      54571 non-null  float64\n",
      " 26  ESCMAE        53679 non-null  float64\n",
      " 27  ESCMAE2010    53501 non-null  float64\n",
      " 28  SERIESCMAE    20351 non-null  float64\n",
      " 29  OCUPMAE       47626 non-null  float64\n",
      " 30  QTDFILVIVO    54508 non-null  float64\n",
      " 31  QTDFILMORT    52868 non-null  float64\n",
      " 32  GRAVIDEZ      56704 non-null  float64\n",
      " 33  SEMAGESTAC    54126 non-null  float64\n",
      " 34  GESTACAO      54246 non-null  float64\n",
      " 35  PARTO         56456 non-null  float64\n",
      " 36  OBITOPARTO    56097 non-null  float64\n",
      " 37  PESO          54634 non-null  float64\n",
      " 38  TPMORTEOCO    1407 non-null   float64\n",
      " 39  OBITOGRAV     1407 non-null   float64\n",
      " 40  OBITOPUERP    1407 non-null   float64\n",
      " 41  ASSISTMED     39851 non-null  float64\n",
      " 42  EXAME         49 non-null     float64\n",
      " 43  CIRURGIA      42 non-null     float64\n",
      " 44  NECROPSIA     40539 non-null  float64\n",
      " 45  LINHAA        56768 non-null  object \n",
      " 46  LINHAB        36714 non-null  object \n",
      " 47  LINHAC        21330 non-null  object \n",
      " 48  LINHAD        10021 non-null  object \n",
      " 49  LINHAII       15968 non-null  object \n",
      " 50  CAUSABAS      59549 non-null  object \n",
      " 51  CB_PRE        0 non-null      float64\n",
      " 52  MEDICO        0 non-null      float64\n",
      " 53  COMUNSVOIM    4845 non-null   float64\n",
      " 54  DTATESTADO    59336 non-null  float64\n",
      " 55  CIRCOBITO     857 non-null    float64\n",
      " 56  ACIDTRAB      363 non-null    float64\n",
      " 57  FONTE         654 non-null    float64\n",
      " 58  NUMEROLOTE    59512 non-null  float64\n",
      " 59  TPPOS         42669 non-null  object \n",
      " 60  DTINVESTIG    25200 non-null  float64\n",
      " 61  LINHAA_O      0 non-null      float64\n",
      " 62  LINHAB_O      0 non-null      float64\n",
      " 63  LINHAC_O      0 non-null      float64\n",
      " 64  LINHAD_O      0 non-null      float64\n",
      " 65  LINHAII_O     0 non-null      float64\n",
      " 66  CAUSABAS_O    59443 non-null  object \n",
      " 67  DTCADASTRO    59473 non-null  float64\n",
      " 68  ATESTANTE     54494 non-null  float64\n",
      " 69  STCODIFICA    59545 non-null  object \n",
      " 70  CODIFICADO    59548 non-null  object \n",
      " 71  VERSAOSIST    59548 non-null  object \n",
      " 72  VERSAOSCB     57031 non-null  float64\n",
      " 73  FONTEINV      25886 non-null  float64\n",
      " 74  DTRECEBIM     56393 non-null  float64\n",
      " 75  ATESTADO      59549 non-null  object \n",
      " 76  DTRECORIG     0 non-null      float64\n",
      " 77  DTRECORIGA    59549 non-null  int64  \n",
      " 78  CAUSAMAT      0 non-null      float64\n",
      " 79  ESCMAEAGR1    53501 non-null  float64\n",
      " 80  ESCFALAGR1    1 non-null      float64\n",
      " 81  STDOEPIDEM    59548 non-null  float64\n",
      " 82  STDONOVA      59549 non-null  int64  \n",
      " 83  DIFDATA       59549 non-null  int64  \n",
      " 84  NUDIASOBCO    14 non-null     float64\n",
      " 85  NUDIASOBIN    0 non-null      float64\n",
      " 86  DTCADINV      0 non-null      float64\n",
      " 87  TPOBITOCOR    0 non-null      float64\n",
      " 88  DTCONINV      0 non-null      float64\n",
      " 89  FONTES        45870 non-null  object \n",
      " 90  TPRESGINFO    2 non-null      float64\n",
      " 91  TPNIVELINV    15 non-null     object \n",
      " 92  NUDIASINF     0 non-null      float64\n",
      " 93  DTCADINF      45870 non-null  float64\n",
      " 94  MORTEPARTO    45870 non-null  float64\n",
      " 95  DTCONCASO     42416 non-null  float64\n",
      " 96  FONTESINF     0 non-null      float64\n",
      " 97  ALTCAUSA      44688 non-null  float64\n",
      " 98  CONTADOR      59549 non-null  int64  \n",
      " 99  Unnamed: 0    30556 non-null  float64\n",
      "dtypes: float64(74), int64(12), object(14)\n",
      "memory usage: 45.4+ MB\n"
     ]
    },
    {
     "name": "stderr",
     "output_type": "stream",
     "text": [
      "C:\\Users\\ricmo\\AppData\\Local\\Temp\\ipykernel_16956\\1517643345.py:1: DtypeWarning: Columns (91) have mixed types. Specify dtype option on import or set low_memory=False.\n",
      "  df = pd.read_csv('D:\\\\_repositories\\\\Aggregation\\\\Results\\\\SIM-Concatenado\\\\SIM2020.csv')\n"
     ]
    }
   ],
   "source": [
    "df = pd.read_csv('D:\\\\_repositories\\\\Aggregation\\\\Results\\\\SIM-Concatenado\\\\SIM2020.csv')\n",
    "df.info()"
   ]
  },
  {
   "cell_type": "code",
   "execution_count": 29,
   "metadata": {},
   "outputs": [
    {
     "name": "stderr",
     "output_type": "stream",
     "text": [
      "C:\\Users\\ricmo\\AppData\\Local\\Temp\\ipykernel_16956\\424150026.py:4: FutureWarning: ChainedAssignmentError: behaviour will change in pandas 3.0!\n",
      "You are setting values through chained assignment. Currently this works in certain cases, but when using Copy-on-Write (which will become the default behaviour in pandas 3.0) this will never work to update the original DataFrame or Series, because the intermediate object on which we are setting values will behave as a copy.\n",
      "A typical example is when you are setting values in a column of a DataFrame, like:\n",
      "\n",
      "df[\"col\"][row_indexer] = value\n",
      "\n",
      "Use `df.loc[row_indexer, \"col\"] = values` instead, to perform the assignment in a single step and ensure this keeps updating the original `df`.\n",
      "\n",
      "See the caveats in the documentation: https://pandas.pydata.org/pandas-docs/stable/user_guide/indexing.html#returning-a-view-versus-a-copy\n",
      "\n",
      "  df['TPNIVELINV'].loc[df['TPNIVELINV'] == 'E'] = 1\n",
      "C:\\Users\\ricmo\\AppData\\Local\\Temp\\ipykernel_16956\\424150026.py:4: SettingWithCopyWarning: \n",
      "A value is trying to be set on a copy of a slice from a DataFrame\n",
      "\n",
      "See the caveats in the documentation: https://pandas.pydata.org/pandas-docs/stable/user_guide/indexing.html#returning-a-view-versus-a-copy\n",
      "  df['TPNIVELINV'].loc[df['TPNIVELINV'] == 'E'] = 1\n",
      "C:\\Users\\ricmo\\AppData\\Local\\Temp\\ipykernel_16956\\424150026.py:5: FutureWarning: ChainedAssignmentError: behaviour will change in pandas 3.0!\n",
      "You are setting values through chained assignment. Currently this works in certain cases, but when using Copy-on-Write (which will become the default behaviour in pandas 3.0) this will never work to update the original DataFrame or Series, because the intermediate object on which we are setting values will behave as a copy.\n",
      "A typical example is when you are setting values in a column of a DataFrame, like:\n",
      "\n",
      "df[\"col\"][row_indexer] = value\n",
      "\n",
      "Use `df.loc[row_indexer, \"col\"] = values` instead, to perform the assignment in a single step and ensure this keeps updating the original `df`.\n",
      "\n",
      "See the caveats in the documentation: https://pandas.pydata.org/pandas-docs/stable/user_guide/indexing.html#returning-a-view-versus-a-copy\n",
      "\n",
      "  df['TPNIVELINV'].loc[df['TPNIVELINV'] == 'R'] = 2\n",
      "C:\\Users\\ricmo\\AppData\\Local\\Temp\\ipykernel_16956\\424150026.py:5: SettingWithCopyWarning: \n",
      "A value is trying to be set on a copy of a slice from a DataFrame\n",
      "\n",
      "See the caveats in the documentation: https://pandas.pydata.org/pandas-docs/stable/user_guide/indexing.html#returning-a-view-versus-a-copy\n",
      "  df['TPNIVELINV'].loc[df['TPNIVELINV'] == 'R'] = 2\n",
      "C:\\Users\\ricmo\\AppData\\Local\\Temp\\ipykernel_16956\\424150026.py:6: FutureWarning: ChainedAssignmentError: behaviour will change in pandas 3.0!\n",
      "You are setting values through chained assignment. Currently this works in certain cases, but when using Copy-on-Write (which will become the default behaviour in pandas 3.0) this will never work to update the original DataFrame or Series, because the intermediate object on which we are setting values will behave as a copy.\n",
      "A typical example is when you are setting values in a column of a DataFrame, like:\n",
      "\n",
      "df[\"col\"][row_indexer] = value\n",
      "\n",
      "Use `df.loc[row_indexer, \"col\"] = values` instead, to perform the assignment in a single step and ensure this keeps updating the original `df`.\n",
      "\n",
      "See the caveats in the documentation: https://pandas.pydata.org/pandas-docs/stable/user_guide/indexing.html#returning-a-view-versus-a-copy\n",
      "\n",
      "  df['TPNIVELINV'].loc[df['TPNIVELINV'] == 'M'] = 3\n",
      "C:\\Users\\ricmo\\AppData\\Local\\Temp\\ipykernel_16956\\424150026.py:6: SettingWithCopyWarning: \n",
      "A value is trying to be set on a copy of a slice from a DataFrame\n",
      "\n",
      "See the caveats in the documentation: https://pandas.pydata.org/pandas-docs/stable/user_guide/indexing.html#returning-a-view-versus-a-copy\n",
      "  df['TPNIVELINV'].loc[df['TPNIVELINV'] == 'M'] = 3\n"
     ]
    }
   ],
   "source": [
    "# E – estadual; R- regional; M- Municipal\n",
    "# 1 - Estadual; 2 - Regional. 3 - Municipal\n",
    "\n",
    "df['TPNIVELINV'].loc[df['TPNIVELINV'] == 'E'] = 1\n",
    "df['TPNIVELINV'].loc[df['TPNIVELINV'] == 'R'] = 2\n",
    "df['TPNIVELINV'].loc[df['TPNIVELINV'] == 'M'] = 3\n",
    "\n",
    "df['TPNIVELINV'] = df['TPNIVELINV'].astype('Int64')"
   ]
  },
  {
   "cell_type": "code",
   "execution_count": 30,
   "metadata": {},
   "outputs": [],
   "source": [
    "for colunas in df.columns:\n",
    "    try:\n",
    "        df[colunas] = df[colunas].astype('Int64')\n",
    "    except ValueError:\n",
    "        continue\n",
    "    except TypeError:\n",
    "        continue"
   ]
  },
  {
   "cell_type": "code",
   "execution_count": 31,
   "metadata": {},
   "outputs": [],
   "source": [
    "df.to_csv('D:\\\\_repositories\\\\Aggregation\\\\Results\\\\SIM-DtypeCorrigido\\\\csv\\\\SIM2020.csv', index=False)\n",
    "df.to_parquet('D:\\\\_repositories\\\\Aggregation\\\\Results\\\\SIM-DtypeCorrigido\\\\parquet\\\\SIM2020.parquet', index=False)"
   ]
  },
  {
   "cell_type": "markdown",
   "metadata": {},
   "source": [
    "---"
   ]
  },
  {
   "cell_type": "code",
   "execution_count": 32,
   "metadata": {},
   "outputs": [
    {
     "name": "stdout",
     "output_type": "stream",
     "text": [
      "<class 'pandas.core.frame.DataFrame'>\n",
      "RangeIndex: 63376 entries, 0 to 63375\n",
      "Data columns (total 100 columns):\n",
      " #   Column        Non-Null Count  Dtype  \n",
      "---  ------        --------------  -----  \n",
      " 0   Unnamed: 0.1  63376 non-null  int64  \n",
      " 1   ORIGEM        63376 non-null  int64  \n",
      " 2   CODMUNCART    0 non-null      float64\n",
      " 3   NUMREGCART    0 non-null      float64\n",
      " 4   CODCART       0 non-null      float64\n",
      " 5   DTREGCART     0 non-null      float64\n",
      " 6   TIPOBITO      63376 non-null  int64  \n",
      " 7   DTOBITO       63376 non-null  int64  \n",
      " 8   HORAOBITO     60399 non-null  float64\n",
      " 9   NATURAL       57439 non-null  float64\n",
      " 10  CODMUNNATU    57022 non-null  float64\n",
      " 11  DTNASC        34075 non-null  float64\n",
      " 12  IDADE         34271 non-null  float64\n",
      " 13  SEXO          63376 non-null  int64  \n",
      " 14  RACACOR       31791 non-null  float64\n",
      " 15  ESTCIV        31 non-null     float64\n",
      " 16  ESC           0 non-null      float64\n",
      " 17  ESC2010       0 non-null      float64\n",
      " 18  SERIESCFAL    0 non-null      float64\n",
      " 19  OCUP          4 non-null      float64\n",
      " 20  CODMUNRES     63376 non-null  int64  \n",
      " 21  LOCOCOR       63376 non-null  int64  \n",
      " 22  CODESTAB      59940 non-null  float64\n",
      " 23  ESTABDESCR    0 non-null      float64\n",
      " 24  CODMUNOCOR    63376 non-null  int64  \n",
      " 25  IDADEMAE      58173 non-null  float64\n",
      " 26  ESCMAE        57215 non-null  float64\n",
      " 27  ESCMAE2010    57001 non-null  float64\n",
      " 28  SERIESCMAE    22231 non-null  float64\n",
      " 29  OCUPMAE       51372 non-null  float64\n",
      " 30  QTDFILVIVO    57910 non-null  float64\n",
      " 31  QTDFILMORT    56053 non-null  float64\n",
      " 32  GRAVIDEZ      60208 non-null  float64\n",
      " 33  SEMAGESTAC    57336 non-null  float64\n",
      " 34  GESTACAO      57538 non-null  float64\n",
      " 35  PARTO         59970 non-null  float64\n",
      " 36  OBITOPARTO    59572 non-null  float64\n",
      " 37  PESO          57810 non-null  float64\n",
      " 38  TPMORTEOCO    1526 non-null   float64\n",
      " 39  OBITOGRAV     1529 non-null   float64\n",
      " 40  OBITOPUERP    1529 non-null   float64\n",
      " 41  ASSISTMED     43000 non-null  float64\n",
      " 42  EXAME         39 non-null     float64\n",
      " 43  CIRURGIA      39 non-null     float64\n",
      " 44  NECROPSIA     44717 non-null  float64\n",
      " 45  LINHAA        60640 non-null  object \n",
      " 46  LINHAB        39840 non-null  object \n",
      " 47  LINHAC        23507 non-null  object \n",
      " 48  LINHAD        11130 non-null  object \n",
      " 49  LINHAII       16755 non-null  object \n",
      " 50  CAUSABAS      63376 non-null  object \n",
      " 51  CB_PRE        0 non-null      float64\n",
      " 52  MEDICO        0 non-null      float64\n",
      " 53  COMUNSVOIM    8759 non-null   float64\n",
      " 54  DTATESTADO    63123 non-null  float64\n",
      " 55  CIRCOBITO     981 non-null    float64\n",
      " 56  ACIDTRAB      392 non-null    float64\n",
      " 57  FONTE         741 non-null    float64\n",
      " 58  NUMEROLOTE    63317 non-null  float64\n",
      " 59  TPPOS         45356 non-null  object \n",
      " 60  DTINVESTIG    28681 non-null  float64\n",
      " 61  LINHAA_O      0 non-null      float64\n",
      " 62  LINHAB_O      0 non-null      float64\n",
      " 63  LINHAC_O      0 non-null      float64\n",
      " 64  LINHAD_O      0 non-null      float64\n",
      " 65  LINHAII_O     0 non-null      float64\n",
      " 66  CAUSABAS_O    63280 non-null  object \n",
      " 67  DTCADASTRO    63249 non-null  float64\n",
      " 68  ATESTANTE     58265 non-null  float64\n",
      " 69  STCODIFICA    63363 non-null  object \n",
      " 70  CODIFICADO    63376 non-null  object \n",
      " 71  VERSAOSIST    63376 non-null  object \n",
      " 72  VERSAOSCB     60316 non-null  float64\n",
      " 73  FONTEINV      29243 non-null  float64\n",
      " 74  DTRECEBIM     63317 non-null  float64\n",
      " 75  ATESTADO      63375 non-null  object \n",
      " 76  DTRECORIG     0 non-null      float64\n",
      " 77  DTRECORIGA    63376 non-null  int64  \n",
      " 78  CAUSAMAT      0 non-null      float64\n",
      " 79  ESCMAEAGR1    57001 non-null  float64\n",
      " 80  ESCFALAGR1    0 non-null      float64\n",
      " 81  STDOEPIDEM    63376 non-null  float64\n",
      " 82  STDONOVA      63376 non-null  int64  \n",
      " 83  DIFDATA       63376 non-null  int64  \n",
      " 84  NUDIASOBCO    10 non-null     float64\n",
      " 85  NUDIASOBIN    0 non-null      float64\n",
      " 86  DTCADINV      0 non-null      float64\n",
      " 87  TPOBITOCOR    0 non-null      float64\n",
      " 88  DTCONINV      0 non-null      float64\n",
      " 89  FONTES        50514 non-null  object \n",
      " 90  TPRESGINFO    3 non-null      float64\n",
      " 91  TPNIVELINV    10 non-null     object \n",
      " 92  NUDIASINF     0 non-null      float64\n",
      " 93  DTCADINF      50514 non-null  float64\n",
      " 94  MORTEPARTO    50514 non-null  float64\n",
      " 95  DTCONCASO     46968 non-null  float64\n",
      " 96  FONTESINF     0 non-null      float64\n",
      " 97  ALTCAUSA      49193 non-null  float64\n",
      " 98  CONTADOR      63376 non-null  int64  \n",
      " 99  Unnamed: 0    34271 non-null  float64\n",
      "dtypes: float64(74), int64(12), object(14)\n",
      "memory usage: 48.4+ MB\n"
     ]
    },
    {
     "name": "stderr",
     "output_type": "stream",
     "text": [
      "C:\\Users\\ricmo\\AppData\\Local\\Temp\\ipykernel_16956\\4181929245.py:1: DtypeWarning: Columns (91) have mixed types. Specify dtype option on import or set low_memory=False.\n",
      "  df = pd.read_csv('D:\\\\_repositories\\\\Aggregation\\\\Results\\\\SIM-Concatenado\\\\SIM2019.csv')\n"
     ]
    }
   ],
   "source": [
    "df = pd.read_csv('D:\\\\_repositories\\\\Aggregation\\\\Results\\\\SIM-Concatenado\\\\SIM2019.csv')\n",
    "df.info()"
   ]
  },
  {
   "cell_type": "code",
   "execution_count": 33,
   "metadata": {},
   "outputs": [
    {
     "name": "stderr",
     "output_type": "stream",
     "text": [
      "C:\\Users\\ricmo\\AppData\\Local\\Temp\\ipykernel_16956\\424150026.py:4: FutureWarning: ChainedAssignmentError: behaviour will change in pandas 3.0!\n",
      "You are setting values through chained assignment. Currently this works in certain cases, but when using Copy-on-Write (which will become the default behaviour in pandas 3.0) this will never work to update the original DataFrame or Series, because the intermediate object on which we are setting values will behave as a copy.\n",
      "A typical example is when you are setting values in a column of a DataFrame, like:\n",
      "\n",
      "df[\"col\"][row_indexer] = value\n",
      "\n",
      "Use `df.loc[row_indexer, \"col\"] = values` instead, to perform the assignment in a single step and ensure this keeps updating the original `df`.\n",
      "\n",
      "See the caveats in the documentation: https://pandas.pydata.org/pandas-docs/stable/user_guide/indexing.html#returning-a-view-versus-a-copy\n",
      "\n",
      "  df['TPNIVELINV'].loc[df['TPNIVELINV'] == 'E'] = 1\n",
      "C:\\Users\\ricmo\\AppData\\Local\\Temp\\ipykernel_16956\\424150026.py:4: SettingWithCopyWarning: \n",
      "A value is trying to be set on a copy of a slice from a DataFrame\n",
      "\n",
      "See the caveats in the documentation: https://pandas.pydata.org/pandas-docs/stable/user_guide/indexing.html#returning-a-view-versus-a-copy\n",
      "  df['TPNIVELINV'].loc[df['TPNIVELINV'] == 'E'] = 1\n",
      "C:\\Users\\ricmo\\AppData\\Local\\Temp\\ipykernel_16956\\424150026.py:5: FutureWarning: ChainedAssignmentError: behaviour will change in pandas 3.0!\n",
      "You are setting values through chained assignment. Currently this works in certain cases, but when using Copy-on-Write (which will become the default behaviour in pandas 3.0) this will never work to update the original DataFrame or Series, because the intermediate object on which we are setting values will behave as a copy.\n",
      "A typical example is when you are setting values in a column of a DataFrame, like:\n",
      "\n",
      "df[\"col\"][row_indexer] = value\n",
      "\n",
      "Use `df.loc[row_indexer, \"col\"] = values` instead, to perform the assignment in a single step and ensure this keeps updating the original `df`.\n",
      "\n",
      "See the caveats in the documentation: https://pandas.pydata.org/pandas-docs/stable/user_guide/indexing.html#returning-a-view-versus-a-copy\n",
      "\n",
      "  df['TPNIVELINV'].loc[df['TPNIVELINV'] == 'R'] = 2\n",
      "C:\\Users\\ricmo\\AppData\\Local\\Temp\\ipykernel_16956\\424150026.py:5: SettingWithCopyWarning: \n",
      "A value is trying to be set on a copy of a slice from a DataFrame\n",
      "\n",
      "See the caveats in the documentation: https://pandas.pydata.org/pandas-docs/stable/user_guide/indexing.html#returning-a-view-versus-a-copy\n",
      "  df['TPNIVELINV'].loc[df['TPNIVELINV'] == 'R'] = 2\n",
      "C:\\Users\\ricmo\\AppData\\Local\\Temp\\ipykernel_16956\\424150026.py:6: FutureWarning: ChainedAssignmentError: behaviour will change in pandas 3.0!\n",
      "You are setting values through chained assignment. Currently this works in certain cases, but when using Copy-on-Write (which will become the default behaviour in pandas 3.0) this will never work to update the original DataFrame or Series, because the intermediate object on which we are setting values will behave as a copy.\n",
      "A typical example is when you are setting values in a column of a DataFrame, like:\n",
      "\n",
      "df[\"col\"][row_indexer] = value\n",
      "\n",
      "Use `df.loc[row_indexer, \"col\"] = values` instead, to perform the assignment in a single step and ensure this keeps updating the original `df`.\n",
      "\n",
      "See the caveats in the documentation: https://pandas.pydata.org/pandas-docs/stable/user_guide/indexing.html#returning-a-view-versus-a-copy\n",
      "\n",
      "  df['TPNIVELINV'].loc[df['TPNIVELINV'] == 'M'] = 3\n",
      "C:\\Users\\ricmo\\AppData\\Local\\Temp\\ipykernel_16956\\424150026.py:6: SettingWithCopyWarning: \n",
      "A value is trying to be set on a copy of a slice from a DataFrame\n",
      "\n",
      "See the caveats in the documentation: https://pandas.pydata.org/pandas-docs/stable/user_guide/indexing.html#returning-a-view-versus-a-copy\n",
      "  df['TPNIVELINV'].loc[df['TPNIVELINV'] == 'M'] = 3\n"
     ]
    }
   ],
   "source": [
    "# E – estadual; R- regional; M- Municipal\n",
    "# 1 - Estadual; 2 - Regional. 3 - Municipal\n",
    "\n",
    "df['TPNIVELINV'].loc[df['TPNIVELINV'] == 'E'] = 1\n",
    "df['TPNIVELINV'].loc[df['TPNIVELINV'] == 'R'] = 2\n",
    "df['TPNIVELINV'].loc[df['TPNIVELINV'] == 'M'] = 3\n",
    "\n",
    "df['TPNIVELINV'] = df['TPNIVELINV'].astype('Int64')"
   ]
  },
  {
   "cell_type": "code",
   "execution_count": 34,
   "metadata": {},
   "outputs": [],
   "source": [
    "for colunas in df.columns:\n",
    "    try:\n",
    "        df[colunas] = df[colunas].astype('Int64')\n",
    "    except ValueError:\n",
    "        continue\n",
    "    except TypeError:\n",
    "        continue"
   ]
  },
  {
   "cell_type": "code",
   "execution_count": 35,
   "metadata": {},
   "outputs": [],
   "source": [
    "df.to_csv('D:\\\\_repositories\\\\Aggregation\\\\Results\\\\SIM-DtypeCorrigido\\\\csv\\\\SIM2019.csv', index=False)\n",
    "df.to_parquet('D:\\\\_repositories\\\\Aggregation\\\\Results\\\\SIM-DtypeCorrigido\\\\parquet\\\\SIM2019.parquet', index=False)"
   ]
  },
  {
   "cell_type": "code",
   "execution_count": null,
   "metadata": {},
   "outputs": [],
   "source": []
  }
 ],
 "metadata": {
  "kernelspec": {
   "display_name": "Python 3 (ipykernel)",
   "language": "python",
   "name": "python3"
  },
  "language_info": {
   "codemirror_mode": {
    "name": "ipython",
    "version": 3
   },
   "file_extension": ".py",
   "mimetype": "text/x-python",
   "name": "python",
   "nbconvert_exporter": "python",
   "pygments_lexer": "ipython3",
   "version": "3.12.4"
  }
 },
 "nbformat": 4,
 "nbformat_minor": 2
}
